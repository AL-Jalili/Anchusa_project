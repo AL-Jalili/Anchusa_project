{
  "cells": [
    {
      "cell_type": "markdown",
      "metadata": {
        "id": "dfBri3miK74A"
      },
      "source": [
        "# Imports and config\n",
        "\n",
        "Run this first to setup the notebook."
      ]
    },
    {
      "cell_type": "code",
      "execution_count": null,
      "metadata": {
        "colab": {
          "base_uri": "https://localhost:8080/"
        },
        "id": "aPhR-cNxBN94",
        "outputId": "535c606c-38a2-4482-cdde-3a2737caea6e"
      },
      "outputs": [
        {
          "name": "stdout",
          "output_type": "stream",
          "text": [
            "\u001b[2K     \u001b[90m━━━━━━━━━━━━━━━━━━━━━━━━━━━━━━━━━━━━━━━━\u001b[0m \u001b[32m10.4/10.4 MB\u001b[0m \u001b[31m29.8 MB/s\u001b[0m eta \u001b[36m0:00:00\u001b[0m\n",
            "\u001b[?25h"
          ]
        }
      ],
      "source": [
        "# install and import\n",
        "\n",
        "!pip install nilearn --quiet\n",
        "import os\n",
        "import numpy as np\n",
        "import matplotlib.pyplot as plt\n",
        "import os, requests, tarfile\n",
        "import pandas as pd\n",
        "\n",
        "# Necessary for visualization\n",
        "from nilearn import plotting, datasets\n",
        "from nilearn.surface import vol_to_surf\n",
        "\n",
        "%matplotlib inline\n",
        "%config InlineBackend.figure_format = 'retina'\n",
        "plt.style.use(\"https://raw.githubusercontent.com/NeuromatchAcademy/course-content/master/nma.mplstyle\")\n",
        "# The download cells will store the data in nested directories starting here:\n",
        "HCP_DIR = \"./DATA\"\n",
        "if not os.path.isdir(HCP_DIR):\n",
        "  os.mkdir(HCP_DIR)\n",
        "\n",
        "# filepaths for convinience\n",
        "fpath_task = os.path.join(HCP_DIR, \"hcp_task\")\n",
        "fpath_rest = os.path.join(HCP_DIR, \"hcp_rest\")\n",
        "\n",
        "# The data shared for NMA projects is a subset of the full HCP dataset\n",
        "N_SUBJECTS = 339\n",
        "\n",
        "# The data have already been aggregated into ROIs from the Glasesr parcellation\n",
        "N_PARCELS = 360\n",
        "\n",
        "# The acquisition parameters for all tasks were identical\n",
        "TR = 0.72  # Time resolution, in sec\n",
        "\n",
        "# The parcels are matched across hemispheres with the same order\n",
        "HEMIS = [\"Right\", \"Left\"]\n",
        "\n",
        "# Each experiment was repeated multiple times in each subject\n",
        "N_RUNS_REST = 4\n",
        "N_RUNS_TASK = 2\n",
        "\n",
        "# Time series data are organized by experiment, with each experiment\n",
        "# having an LR and RL (phase-encode direction) acquistion\n",
        "BOLD_NAMES = [\n",
        "  \"rfMRI_REST1_LR\", \"rfMRI_REST1_RL\",\n",
        "  \"rfMRI_REST2_LR\", \"rfMRI_REST2_RL\",\n",
        "  \"tfMRI_MOTOR_RL\", \"tfMRI_MOTOR_LR\",\n",
        "  \"tfMRI_WM_RL\", \"tfMRI_WM_LR\",\n",
        "  \"tfMRI_EMOTION_RL\", \"tfMRI_EMOTION_LR\",\n",
        "  \"tfMRI_GAMBLING_RL\", \"tfMRI_GAMBLING_LR\",\n",
        "  \"tfMRI_LANGUAGE_RL\", \"tfMRI_LANGUAGE_LR\",\n",
        "  \"tfMRI_RELATIONAL_RL\", \"tfMRI_RELATIONAL_LR\",\n",
        "  \"tfMRI_SOCIAL_RL\", \"tfMRI_SOCIAL_LR\"\n",
        "]\n",
        "\n",
        "# You may want to limit the subjects used during code development.\n",
        "# This will use all subjects:\n",
        "subjects = range(N_SUBJECTS)"
      ]
    },
    {
      "cell_type": "markdown",
      "metadata": {
        "id": "uwU_M9FtHbws"
      },
      "source": [
        "# Put functions here\n",
        "\n",
        "If you make a couple of lines of code that does something, it's good to wrap it in a function so that it can be re-used elsewhere. Let's put all of our functions here so that the actual analysis is as clean and readable as possible. Remember to add [docstrings](https://www.datacamp.com/tutorial/docstrings-python) to your functions so we can use them without looking at source code!"
      ]
    },
    {
      "cell_type": "code",
      "execution_count": null,
      "metadata": {
        "id": "sKBISi4-wdPB"
      },
      "outputs": [],
      "source": [
        "def download_data():\n",
        "  \"\"\"Download the HCP dataset.\"\"\"\n",
        "\n",
        "  fnames = [\"hcp_rest.tgz\",\n",
        "            \"hcp_task.tgz\",\n",
        "            \"hcp_covariates.tgz\",\n",
        "            \"atlas.npz\"]\n",
        "  urls = [\"https://osf.io/bqp7m/download\",\n",
        "          \"https://osf.io/s4h8j/download\",\n",
        "          \"https://osf.io/x5p4g/download\",\n",
        "          \"https://osf.io/j5kuc/download\"]\n",
        "\n",
        "\n",
        "  for fname, url in zip(fnames, urls):\n",
        "    if not os.path.isfile(fname):\n",
        "      try:\n",
        "        r = requests.get(url)\n",
        "      except requests.ConnectionError:\n",
        "        print(\"!!! Failed to download data !!!\")\n",
        "      else:\n",
        "        if r.status_code != requests.codes.ok:\n",
        "          print(\"!!! Failed to download data !!!\")\n",
        "        else:\n",
        "          print(f\"Downloading {fname}...\")\n",
        "          with open(fname, \"wb\") as fid:\n",
        "            fid.write(r.content)\n",
        "          print(f\"Download {fname} completed!\")\n",
        "\n",
        "\n",
        "  fnames = [\"hcp_covariates\", \"hcp_rest\", \"hcp_task\"]\n",
        "\n",
        "  for fname in fnames:\n",
        "    # open file\n",
        "    path_name = os.path.join(HCP_DIR, fname)\n",
        "    if not os.path.exists(path_name):\n",
        "      print(f\"Extracting {fname}.tgz...\")\n",
        "      with tarfile.open(f\"{fname}.tgz\") as fzip:\n",
        "        fzip.extractall(HCP_DIR)\n",
        "    else:\n",
        "      print(f\"File {fname}.tgz has already been extracted.\")\n",
        "\n",
        "\n",
        "def load_regions_and_atlas():\n",
        "  \"\"\"Load region info and parcellations.\n",
        "\n",
        "    Args:\n",
        "      None\n",
        "    Returns:\n",
        "      Tuple containing:\n",
        "        region_info (dict): region names and network assignments\n",
        "        atlas (dict): parcellation on the fsaverage5 surface and approximate MNI coordinates of each region\n",
        "  \"\"\"\n",
        "  folder = os.path.join(HCP_DIR, \"hcp_task\")  # choose the data directory\n",
        "  regions = np.load(os.path.join(folder, \"regions.npy\")).T\n",
        "  region_info = dict(name=regions[0].tolist(),\n",
        "                    network=regions[1],\n",
        "                    myelin=regions[2].astype(float)\n",
        "                    )\n",
        "  with np.load(f\"atlas.npz\") as dobj:\n",
        "    atlas = dict(**dobj)\n",
        "\n",
        "  return region_info, atlas\n",
        "\n",
        "\n",
        "def read_behavior_data(kind, output_type=\"pandas\"):\n",
        "    \"\"\"Read behavior data from HCP dataset.\n",
        "\n",
        "    Args:\n",
        "        kind (str): \"gambling\", \"language\", \"emotion\", \"relational\", \"social\" or \"wm\",\n",
        "        output_type (str): Sets the output dataframe format. Can be \"numpy\" or \"pandas\". Default is \"pandas\".\n",
        "    Returns:\n",
        "         wm_behavior (np.ndarray or pandas DataFrame): behavior data\n",
        "    \"\"\"\n",
        "    fpath = os.path.join(HCP_DIR, \"hcp\", \"behavior\", f\"{kind}.csv\")\n",
        "\n",
        "    if output_type == \"numpy\":\n",
        "        wm_behavior = np.genfromtxt(fpath,\n",
        "                                delimiter=\",\",\n",
        "                                names=True,\n",
        "                                dtype=None,\n",
        "                                encoding=\"utf\")\n",
        "\n",
        "    elif output_type == \"pandas\":\n",
        "        import pandas as pd\n",
        "        wm_behavior = pd.read_csv(fpath)\n",
        "\n",
        "    return wm_behavior\n",
        "\n",
        "\n",
        "def get_image_ids(name):\n",
        "  \"\"\"Get the 1-based image indices for runs in a given experiment.\n",
        "\n",
        "    Args:\n",
        "      name (str) : Name of experiment (\"rest\" or name of task) to load\n",
        "    Returns:\n",
        "      run_ids (list of int) : Numeric ID for experiment image files\n",
        "\n",
        "  \"\"\"\n",
        "  run_ids = [\n",
        "             i for i, code in enumerate(BOLD_NAMES, 1) if name.upper() in code\n",
        "             ]\n",
        "  if not run_ids:\n",
        "    raise ValueError(f\"Found no data for '{name}'\")\n",
        "  return run_ids\n",
        "\n",
        "\n",
        "def load_timeseries(subject, name, dir,\n",
        "                    runs=None, concat=True, remove_mean=True):\n",
        "  \"\"\"Load timeseries data for a single subject.\n",
        "\n",
        "  Args:\n",
        "    subject (int): 0-based subject ID to load\n",
        "    name (str) : Name of experiment (\"rest\" or name of task) to load\n",
        "    dir (str) : data directory\n",
        "    run (None or int or list of ints): 0-based run(s) of the task to load,\n",
        "      or None to load all runs.\n",
        "    concat (bool) : If True, concatenate multiple runs in time\n",
        "    remove_mean (bool) : If True, subtract the parcel-wise mean\n",
        "\n",
        "  Returns\n",
        "    ts (n_parcel x n_tp array): Array of BOLD data values\n",
        "\n",
        "  \"\"\"\n",
        "  # Get the list relative 0-based index of runs to use\n",
        "  if runs is None:\n",
        "    runs = range(N_RUNS_REST) if name == \"rest\" else range(N_RUNS_TASK)\n",
        "  elif isinstance(runs, int):\n",
        "    runs = [runs]\n",
        "\n",
        "  # Get the first (1-based) run id for this experiment\n",
        "  offset = get_image_ids(name)[0]\n",
        "\n",
        "  # Load each run's data\n",
        "  bold_data = [\n",
        "               load_single_timeseries(subject,\n",
        "                                      offset + run,\n",
        "                                      dir,\n",
        "                                      remove_mean) for run in runs\n",
        "               ]\n",
        "\n",
        "  # Optionally concatenate in time\n",
        "  if concat:\n",
        "    bold_data = np.concatenate(bold_data, axis=-1)\n",
        "\n",
        "  return bold_data\n",
        "\n",
        "\n",
        "def load_single_timeseries(subject, bold_run, dir, remove_mean=True):\n",
        "  \"\"\"Load timeseries data for a single subject and single run.\n",
        "\n",
        "  Args:\n",
        "    subject (int): 0-based subject ID to load\n",
        "    bold_run (int): 1-based run index, across all tasks\n",
        "    dir (str) : data directory\n",
        "    remove_mean (bool): If True, subtract the parcel-wise mean\n",
        "\n",
        "  Returns\n",
        "    ts (n_parcel x n_timepoint array): Array of BOLD data values\n",
        "\n",
        "  \"\"\"\n",
        "  bold_path = os.path.join(dir, \"subjects\", str(subject), \"timeseries\")\n",
        "  bold_file = f\"bold{bold_run}_Atlas_MSMAll_Glasser360Cortical.npy\"\n",
        "  ts = np.load(os.path.join(bold_path, bold_file))\n",
        "  if remove_mean:\n",
        "    ts -= ts.mean(axis=1, keepdims=True)\n",
        "  return ts\n",
        "\n",
        "\n",
        "def load_evs(subject, name, condition, dir):\n",
        "  \"\"\"Load EV (explanatory variable) data for one task condition.\n",
        "\n",
        "  Args:\n",
        "    subject (int): 0-based subject ID to load\n",
        "    name (str) : Name of task\n",
        "    condition (str) : Name of condition\n",
        "    dir (str) : data directory\n",
        "\n",
        "  Returns\n",
        "    evs (list of dicts): A dictionary with the onset, duration, and amplitude\n",
        "      of the condition for each run.\n",
        "\n",
        "  \"\"\"\n",
        "  evs = []\n",
        "  for id in get_image_ids(name):\n",
        "    task_key = BOLD_NAMES[id - 1]\n",
        "    ev_file = os.path.join(dir, \"subjects\", str(subject), \"EVs\",\n",
        "                           task_key, f\"{condition}.txt\")\n",
        "    ev_array = np.loadtxt(ev_file, ndmin=2, unpack=True)\n",
        "    ev = dict(zip([\"onset\", \"duration\", \"amplitude\"], ev_array))\n",
        "    evs.append(ev)\n",
        "  return evs\n",
        "\n",
        "def condition_frames(run_evs, skip=0):\n",
        "  \"\"\"Identify timepoints corresponding to a given condition in each run.\n",
        "\n",
        "  Args:\n",
        "    run_evs (list of dicts) : Onset and duration of the event, per run\n",
        "    skip (int) : Ignore this many frames at the start of each trial, to account\n",
        "      for hemodynamic lag\n",
        "\n",
        "  Returns:\n",
        "    frames_list (list of 1D arrays): Flat arrays of frame indices, per run\n",
        "\n",
        "  \"\"\"\n",
        "  frames_list = []\n",
        "  for ev in run_evs:\n",
        "\n",
        "    # Determine when trial starts, rounded down\n",
        "    start = np.floor(ev[\"onset\"] / TR).astype(int)\n",
        "\n",
        "    # Use trial duration to determine how many frames to include for trial\n",
        "    duration = np.ceil(ev[\"duration\"] / TR).astype(int)\n",
        "\n",
        "    # Take the range of frames that correspond to this specific trial\n",
        "    frames = [s + np.arange(skip, d) for s, d in zip(start, duration)]\n",
        "\n",
        "    frames_list.append(np.concatenate(frames))\n",
        "\n",
        "  return frames_list\n",
        "\n",
        "\n",
        "def selective_average(timeseries_data, ev, skip=0):\n",
        "  \"\"\"Take the temporal mean across frames for a given condition.\n",
        "\n",
        "  Args:\n",
        "    timeseries_data (array or list of arrays): n_parcel x n_tp arrays\n",
        "    ev (dict or list of dicts): Condition timing information\n",
        "    skip (int) : Ignore this many frames at the start of each trial, to account\n",
        "      for hemodynamic lag\n",
        "\n",
        "  Returns:\n",
        "    avg_data (1D array): Data averagted across selected image frames based\n",
        "    on condition timing\n",
        "\n",
        "  \"\"\"\n",
        "  # Ensure that we have lists of the same length\n",
        "  if not isinstance(timeseries_data, list):\n",
        "    timeseries_data = [timeseries_data]\n",
        "  if not isinstance(ev, list):\n",
        "    ev = [ev]\n",
        "  if len(timeseries_data) != len(ev):\n",
        "    raise ValueError(\"Length of `timeseries_data` and `ev` must match.\")\n",
        "\n",
        "  # Identify the indices of relevant frames\n",
        "  frames = condition_frames(ev, skip)\n",
        "\n",
        "  # Select the frames from each image\n",
        "  selected_data = []\n",
        "  for run_data, run_frames in zip(timeseries_data, frames):\n",
        "    run_frames = run_frames[run_frames < run_data.shape[1]]\n",
        "    selected_data.append(run_data[:, run_frames])\n",
        "\n",
        "  # Take the average in each parcel\n",
        "  avg_data = np.concatenate(selected_data, axis=-1).mean(axis=-1)\n",
        "\n",
        "  return avg_data\n",
        "\n",
        "\n",
        "def seconds_to_samples(sec):\n",
        "  \"\"\"Converts seconds to samples (multiply by TR and floor).\n",
        "  Args:\n",
        "    sec (float): time in seconds\n",
        "  Return:\n",
        "    samples (int): time in samples\n",
        "    \"\"\"\n",
        "  return int(sec * TR)\n",
        "\n",
        "\n",
        "def get_conds(subject, task, conds, concat=False, skip=0):\n",
        "    \"\"\"Get timeseries for conditions of interest.\n",
        "    Args:\n",
        "    subject (int): subject id,\n",
        "    task (string): task id (\"wm\", \"gambling\" etc.)\n",
        "    conds (list): list of conditions to concatenate.\n",
        "    concat (bool): If true, concatenate conditions instead of making a list.\n",
        "    skip (int):  Ignore this many frames at the start of each trial, to account\n",
        "        for hemodynamic lag\n",
        "    Returns:\n",
        "    ndarray (n_parcel x n_tp array) or list of ndarrays: Array of concatenated BOLD data values or a list of (not concatenated) data values.\n",
        "    \"\"\"\n",
        "    # load subject timeseries\n",
        "    ts = load_timeseries(subject, task, fpath_task)\n",
        "\n",
        "    cuts = []\n",
        "    # for each condition\n",
        "    for cond in conds:\n",
        "        # load evs\n",
        "        evs = load_evs(subject, task, cond, fpath_task)\n",
        "\n",
        "        # indexing array\n",
        "        frames = condition_frames(evs, skip=skip)\n",
        "\n",
        "        # for each run\n",
        "        for run in range(len(frames)):\n",
        "\n",
        "            # cut\n",
        "            ts_cut = ts[:, frames[run]]\n",
        "\n",
        "            # append to cuts list\n",
        "            cuts.append(ts_cut)\n",
        "\n",
        "\n",
        "    # Optionally concatenate in time\n",
        "    if concat:\n",
        "        cuts = np.concatenate(cuts, axis=-1)\n",
        "\n",
        "    return cuts\n",
        "\n",
        "\n",
        "def extract_frontoparietal_parcels(two_back, no_back, region_info):\n",
        "    \"\"\"\n",
        "    Extracts the Frontoparietal network parcels from two_back and no_back datasets.\n",
        "\n",
        "    Parameters:\n",
        "    - two_back: List of NumPy arrays, each representing the time series data for a participant\n",
        "                during the two-back task with shape (regions:360, subjects:399).\n",
        "    - no_back: List of NumPy arrays, each representing the time series data for a participant\n",
        "                during the no-back task with shape (regions:360, subjects:399).\n",
        "    - region_info: A dictionary containing region metadata, including network assignments.\n",
        "\n",
        "    Returns:\n",
        "    - two_back_fpn: List of NumPy arrays containing only the Frontoparietal network parcels\n",
        "                     from the two_back dataset. (subjetcs: 339, parcels: 50, timepoints:152)\n",
        "    - no_back_fpn: List of NumPy arrays containing only the Frontoparietal network parcels\n",
        "                    from the no_back dataset. (subjetcs: 339, parcels: 50, timepoints:152)\n",
        "    \"\"\"\n",
        "    # Identify the indices of the 'Frontopariet' network\n",
        "    fpn_network_name = \"Frontopariet\"\n",
        "    fpn_indices = [i for i, network in enumerate(region_info['network']) if network == fpn_network_name]\n",
        "\n",
        "    two_back_fpn = []\n",
        "    no_back_fpn = []\n",
        "\n",
        "    # Extract Frontopariet parcels for two_back\n",
        "    for subject_two_back in two_back:\n",
        "        frontopariet_two_back = subject_two_back[fpn_indices, :]  # Assuming subject_two_back is a numpy array\n",
        "        two_back_fpn.append(frontopariet_two_back)\n",
        "\n",
        "    # Extract Frontopariet parcels for no_back\n",
        "    for subject_no_back in no_back:\n",
        "        frontopariet_no_back = subject_no_back[fpn_indices, :]  # Assuming subject_no_back is a numpy array\n",
        "        no_back_fpn.append(frontopariet_no_back)\n",
        "\n",
        "    return two_back_fpn, no_back_fpn\n",
        "\n",
        "def get_cond_onsets(num_subjects, conditions, fpath_task):\n",
        "    \"\"\"\n",
        "    Extracts the onsets of each condition of each subject\n",
        "\n",
        "    Parameters:\n",
        "    - num_subjects: Integer, from how many subjects you would like to extract the data (maximum=338).\n",
        "    - conditions: List of wm conditions, e.g., ['2bk_body', '2bk_faces',...\n",
        "        ...'2bk_places', '2bk_tools','0bk_body', '0bk_faces', '0bk_places', '0bk_tools']\n",
        "    - fpath_task: path to the event info\n",
        "\n",
        "    Returns:\n",
        "    - Onsets: pandas dataframe containing the onset time per condition,\n",
        "        separated for each run (subject:339 (0 to 338) x condition:16 (2bk_body_run0, 2bk_body_run1, etc.))\n",
        "    \"\"\"\n",
        "    # Initialize an empty DataFrame with NaN values\n",
        "    Onsets = pd.DataFrame(index=[f'{i}' for i in range(num_subjects)])\n",
        "\n",
        "    # Fill the DataFrame with tuples of onset values\n",
        "    for subject_id in range(num_subjects):\n",
        "        for cond in conditions:\n",
        "            ev =load_evs(subject_id, \"wm\", cond, dir=fpath_task)\n",
        "            onset_values = [ev[0]['onset'],ev[1]['onset']]\n",
        "            Onsets.at[f'{subject_id}', f'{cond}_run0'] = onset_values[0]\n",
        "            Onsets.at[f'{subject_id}', f'{cond}_run1'] = onset_values[1]\n",
        "\n",
        "    return Onsets\n",
        "\n",
        "def get_cond_timeseries(num_subjects, conditions, fpath_task, Onsets):\n",
        "    \"\"\"\n",
        "    Extracts the timeseries of each condition of each subject (360 ROI * 38 or 39 timepoints)\n",
        "\n",
        "    Parameters:\n",
        "    - num_subjects: Integer, from how many subjects you would like to extract the data (maximum=338).\n",
        "    - conditions: List of wm conditions, e.g., ['2bk_body', '2bk_faces',...\n",
        "        ...'2bk_places', '2bk_tools','0bk_body', '0bk_faces', '0bk_places', '0bk_tools']\n",
        "    - fpath_task: path to the event info\n",
        "\n",
        "    Returns:\n",
        "    - TimeSeries: pandas dataframe containing the timeseries per condition, separated for each run\n",
        "        (subject:339 (0 to 338) x condition:16 (2bk_body_run0, 2bk_body_run1, etc.)),\n",
        "        each cell of the pd dataframe contains the timeseries of all 360 ROIs\n",
        "    \"\"\"\n",
        "    # Initialize an empty DataFrame with NaN values\n",
        "    TimeSeries = pd.DataFrame(index=[f'{i}' for i in range(num_subjects)],columns=Onsets.columns)\n",
        "\n",
        "    # Fill the DataFrame with tuples of timeseries values\n",
        "    for subject_id in range(num_subjects):\n",
        "        TS =load_timeseries(subject_id, \"wm\", concat=False, remove_mean=True, dir=fpath_task) # get timeseries from both runs\n",
        "        for cond in conditions:\n",
        "            for run in range(1):\n",
        "                onset_values = [Onsets.at[f'{subject_id}', f'{cond}_run0'],Onsets.at[f'{subject_id}', f'{cond}_run1']]\n",
        "                timeframe0=[int(np.floor(onset_values[0]/TR)),int(np.floor((onset_values[0]+27.5)/TR))] # 27.5 = duration in seconds\n",
        "                timeframe1=[int(np.floor(onset_values[1]/TR)),int(np.floor((onset_values[1]+27.5)/TR))]\n",
        "                ts_pd1=pd.DataFrame(index=[str(i) for i in range(360)], columns=[str(i) for i in range(timeframe0[1]-timeframe0[0])]) # rows=ROIs, columns=slices\n",
        "                ts_pd1.iloc[:, :] = TS[0][:,timeframe0[0]:timeframe0[1]]\n",
        "                ts_pd2=pd.DataFrame(index=[str(i) for i in range(360)], columns=[str(i) for i in range(timeframe1[1]-timeframe1[0])])\n",
        "                ts_pd2.iloc[:, :] = TS[1][:,timeframe1[0]:timeframe1[1]]\n",
        "                TimeSeries.at[f'{subject_id}', f'{cond}_run0'] = ts_pd1\n",
        "                TimeSeries.at[f'{subject_id}', f'{cond}_run1'] = ts_pd2\n",
        "\n",
        "    return TimeSeries"
      ]
    },
    {
      "cell_type": "code",
      "execution_count": null,
      "metadata": {
        "colab": {
          "base_uri": "https://localhost:8080/"
        },
        "id": "TtLqK4ZgsHYY",
        "outputId": "194dd77e-a4ff-43a7-d400-8743007ad449"
      },
      "outputs": [
        {
          "name": "stdout",
          "output_type": "stream",
          "text": [
            "vol_to_surf\n",
            "download_data\n",
            "load_regions_and_atlas\n",
            "read_behavior_data\n",
            "get_image_ids\n",
            "load_timeseries\n",
            "load_single_timeseries\n",
            "load_evs\n",
            "condition_frames\n",
            "selective_average\n",
            "seconds_to_samples\n",
            "get_conds\n",
            "extract_frontoparietal_parcels\n",
            "get_cond_onsets\n",
            "get_cond_timeseries\n"
          ]
        }
      ],
      "source": [
        "import inspect\n",
        "# Get a list of all functions defined above\n",
        "function_list = [name for name, obj in globals().items() if inspect.isfunction(obj)]\n",
        "\n",
        "# Print the list of function names\n",
        "for func_name in function_list:\n",
        "    print(func_name)"
      ]
    },
    {
      "cell_type": "markdown",
      "metadata": {
        "id": "wa4FKMax-cIn"
      },
      "source": [
        "# Condition info\n",
        "\n",
        "These are the condition names for each task:\n",
        "\n",
        "```\n",
        "- MOTOR: cue, lf, lh, rf, rh, t\n",
        "- WM:\n",
        "    0bk_body, 0bk_faces, 0bk_nir, 0bk_placed, 0bk_tools,\n",
        "    2bk_body, 2bk_faces, 2bk_nir, 2bk_placed, 2bk_tools,\n",
        "    0bk_cor, 0bk_err,\n",
        "    2bk_cor, 2bk_err,\n",
        "    all_bk_cor, all_bk_err\n",
        "- EMOTION: feat, neutral\n",
        "- GAMBLING: loss, loss_event, win, win_event, neut_event\n",
        "- LANGUAGE:\n",
        "    cue,\n",
        "    math, story\n",
        "    present_math, present_story,\n",
        "    question_math, question_story,\n",
        "    response_math, response_story\n",
        "- RELATIONAL: error, match, relation\n",
        "- SOCIAL: mental_resp, mental, other_resp, rnd\n",
        "```"
      ]
    },
    {
      "cell_type": "markdown",
      "metadata": {
        "id": "hK6McMMyG2Y6"
      },
      "source": [
        "# Run stuff"
      ]
    },
    {
      "cell_type": "code",
      "execution_count": null,
      "metadata": {
        "colab": {
          "background_save": true
        },
        "id": "tTC-WKY1bQ3d",
        "outputId": "11518531-fbe9-400e-a750-771df23a45cb"
      },
      "outputs": [
        {
          "name": "stdout",
          "output_type": "stream",
          "text": [
            "Downloading hcp_rest.tgz...\n",
            "Download hcp_rest.tgz completed!\n",
            "Downloading hcp_task.tgz...\n",
            "Download hcp_task.tgz completed!\n",
            "Downloading hcp_covariates.tgz...\n",
            "Download hcp_covariates.tgz completed!\n",
            "Downloading atlas.npz...\n",
            "Download atlas.npz completed!\n",
            "Extracting hcp_covariates.tgz...\n",
            "Extracting hcp_rest.tgz...\n",
            "Extracting hcp_task.tgz...\n"
          ]
        }
      ],
      "source": [
        "# always start with downloading data\n",
        "download_data()"
      ]
    },
    {
      "cell_type": "code",
      "execution_count": null,
      "metadata": {
        "colab": {
          "background_save": true
        },
        "id": "9l1JgPS7GNM-"
      },
      "outputs": [],
      "source": [
        "# Some example functions\n",
        "\n",
        "region_info, atlas = load_regions_and_atlas()\n",
        "\n",
        "emo_behavior = read_behavior_data(\"emotion\")"
      ]
    },
    {
      "cell_type": "markdown",
      "metadata": {
        "id": "CguCOxIOeEsE"
      },
      "source": [
        "## Region Info & Atlas Exploratory work"
      ]
    },
    {
      "cell_type": "code",
      "execution_count": null,
      "metadata": {
        "colab": {
          "background_save": true
        },
        "id": "lBYNOGIoetlx",
        "outputId": "0144f166-59bf-4613-ba7d-5fdda3a2eb94"
      },
      "outputs": [
        {
          "name": "stdout",
          "output_type": "stream",
          "text": [
            "Help on function load_regions_and_atlas in module __main__:\n",
            "\n",
            "load_regions_and_atlas()\n",
            "    Load region info and parcellations.\n",
            "    \n",
            "    Args:\n",
            "      None\n",
            "    Returns:\n",
            "      Tuple containing:\n",
            "        region_info (dict): region names and network assignments\n",
            "        atlas (dict): parcellation on the fsaverage5 surface and approximate MNI coordinates of each region\n",
            "\n"
          ]
        }
      ],
      "source": [
        "help(load_regions_and_atlas)"
      ]
    },
    {
      "cell_type": "code",
      "execution_count": null,
      "metadata": {
        "colab": {
          "background_save": true
        },
        "id": "jfb0k2ahntJL"
      },
      "outputs": [],
      "source": [
        "region_info, atlas = load_regions_and_atlas()"
      ]
    },
    {
      "cell_type": "markdown",
      "metadata": {
        "id": "HDWqXG1KZjaT"
      },
      "source": [
        "**Region Info Expl. Work**"
      ]
    },
    {
      "cell_type": "code",
      "execution_count": null,
      "metadata": {
        "colab": {
          "background_save": true
        },
        "id": "-OxNh7fqTf5E",
        "outputId": "ab8aeed6-6fcd-4d3b-a734-cb0825fbab86"
      },
      "outputs": [
        {
          "data": {
            "application/vnd.google.colaboratory.intrinsic+json": {
              "summary": "{\n  \"name\": \"region_info_pd\",\n  \"rows\": 360,\n  \"fields\": [\n    {\n      \"column\": \"name\",\n      \"properties\": {\n        \"dtype\": \"string\",\n        \"num_unique_values\": 360,\n        \"samples\": [\n          \"L_7Am\",\n          \"R_SCEF\",\n          \"L_PoI2\"\n        ],\n        \"semantic_type\": \"\",\n        \"description\": \"\"\n      }\n    },\n    {\n      \"column\": \"network\",\n      \"properties\": {\n        \"dtype\": \"category\",\n        \"num_unique_values\": 12,\n        \"samples\": [\n          \"Orbito-Affec\",\n          \"Posterior-Mu\",\n          \"Visual1\"\n        ],\n        \"semantic_type\": \"\",\n        \"description\": \"\"\n      }\n    },\n    {\n      \"column\": \"myelin\",\n      \"properties\": {\n        \"dtype\": \"number\",\n        \"std\": 0.14608535472479653,\n        \"min\": 1.51509,\n        \"max\": 2.34727,\n        \"num_unique_values\": 360,\n        \"samples\": [\n          1.72065,\n          1.77908,\n          1.76048\n        ],\n        \"semantic_type\": \"\",\n        \"description\": \"\"\n      }\n    }\n  ]\n}",
              "type": "dataframe",
              "variable_name": "region_info_pd"
            },
            "text/html": [
              "\n",
              "  <div id=\"df-4ca158e3-d78d-471e-9f68-75e1ec858095\" class=\"colab-df-container\">\n",
              "    <div>\n",
              "<style scoped>\n",
              "    .dataframe tbody tr th:only-of-type {\n",
              "        vertical-align: middle;\n",
              "    }\n",
              "\n",
              "    .dataframe tbody tr th {\n",
              "        vertical-align: top;\n",
              "    }\n",
              "\n",
              "    .dataframe thead th {\n",
              "        text-align: right;\n",
              "    }\n",
              "</style>\n",
              "<table border=\"1\" class=\"dataframe\">\n",
              "  <thead>\n",
              "    <tr style=\"text-align: right;\">\n",
              "      <th></th>\n",
              "      <th>name</th>\n",
              "      <th>network</th>\n",
              "      <th>myelin</th>\n",
              "    </tr>\n",
              "  </thead>\n",
              "  <tbody>\n",
              "    <tr>\n",
              "      <th>0</th>\n",
              "      <td>R_V1</td>\n",
              "      <td>Visual1</td>\n",
              "      <td>2.20900</td>\n",
              "    </tr>\n",
              "    <tr>\n",
              "      <th>1</th>\n",
              "      <td>R_MST</td>\n",
              "      <td>Visual2</td>\n",
              "      <td>2.05561</td>\n",
              "    </tr>\n",
              "    <tr>\n",
              "      <th>2</th>\n",
              "      <td>R_V6</td>\n",
              "      <td>Visual2</td>\n",
              "      <td>2.14980</td>\n",
              "    </tr>\n",
              "    <tr>\n",
              "      <th>3</th>\n",
              "      <td>R_V2</td>\n",
              "      <td>Visual2</td>\n",
              "      <td>2.15347</td>\n",
              "    </tr>\n",
              "    <tr>\n",
              "      <th>4</th>\n",
              "      <td>R_V3</td>\n",
              "      <td>Visual2</td>\n",
              "      <td>2.07251</td>\n",
              "    </tr>\n",
              "  </tbody>\n",
              "</table>\n",
              "</div>\n",
              "    <div class=\"colab-df-buttons\">\n",
              "\n",
              "  <div class=\"colab-df-container\">\n",
              "    <button class=\"colab-df-convert\" onclick=\"convertToInteractive('df-4ca158e3-d78d-471e-9f68-75e1ec858095')\"\n",
              "            title=\"Convert this dataframe to an interactive table.\"\n",
              "            style=\"display:none;\">\n",
              "\n",
              "  <svg xmlns=\"http://www.w3.org/2000/svg\" height=\"24px\" viewBox=\"0 -960 960 960\">\n",
              "    <path d=\"M120-120v-720h720v720H120Zm60-500h600v-160H180v160Zm220 220h160v-160H400v160Zm0 220h160v-160H400v160ZM180-400h160v-160H180v160Zm440 0h160v-160H620v160ZM180-180h160v-160H180v160Zm440 0h160v-160H620v160Z\"/>\n",
              "  </svg>\n",
              "    </button>\n",
              "\n",
              "  <style>\n",
              "    .colab-df-container {\n",
              "      display:flex;\n",
              "      gap: 12px;\n",
              "    }\n",
              "\n",
              "    .colab-df-convert {\n",
              "      background-color: #E8F0FE;\n",
              "      border: none;\n",
              "      border-radius: 50%;\n",
              "      cursor: pointer;\n",
              "      display: none;\n",
              "      fill: #1967D2;\n",
              "      height: 32px;\n",
              "      padding: 0 0 0 0;\n",
              "      width: 32px;\n",
              "    }\n",
              "\n",
              "    .colab-df-convert:hover {\n",
              "      background-color: #E2EBFA;\n",
              "      box-shadow: 0px 1px 2px rgba(60, 64, 67, 0.3), 0px 1px 3px 1px rgba(60, 64, 67, 0.15);\n",
              "      fill: #174EA6;\n",
              "    }\n",
              "\n",
              "    .colab-df-buttons div {\n",
              "      margin-bottom: 4px;\n",
              "    }\n",
              "\n",
              "    [theme=dark] .colab-df-convert {\n",
              "      background-color: #3B4455;\n",
              "      fill: #D2E3FC;\n",
              "    }\n",
              "\n",
              "    [theme=dark] .colab-df-convert:hover {\n",
              "      background-color: #434B5C;\n",
              "      box-shadow: 0px 1px 3px 1px rgba(0, 0, 0, 0.15);\n",
              "      filter: drop-shadow(0px 1px 2px rgba(0, 0, 0, 0.3));\n",
              "      fill: #FFFFFF;\n",
              "    }\n",
              "  </style>\n",
              "\n",
              "    <script>\n",
              "      const buttonEl =\n",
              "        document.querySelector('#df-4ca158e3-d78d-471e-9f68-75e1ec858095 button.colab-df-convert');\n",
              "      buttonEl.style.display =\n",
              "        google.colab.kernel.accessAllowed ? 'block' : 'none';\n",
              "\n",
              "      async function convertToInteractive(key) {\n",
              "        const element = document.querySelector('#df-4ca158e3-d78d-471e-9f68-75e1ec858095');\n",
              "        const dataTable =\n",
              "          await google.colab.kernel.invokeFunction('convertToInteractive',\n",
              "                                                    [key], {});\n",
              "        if (!dataTable) return;\n",
              "\n",
              "        const docLinkHtml = 'Like what you see? Visit the ' +\n",
              "          '<a target=\"_blank\" href=https://colab.research.google.com/notebooks/data_table.ipynb>data table notebook</a>'\n",
              "          + ' to learn more about interactive tables.';\n",
              "        element.innerHTML = '';\n",
              "        dataTable['output_type'] = 'display_data';\n",
              "        await google.colab.output.renderOutput(dataTable, element);\n",
              "        const docLink = document.createElement('div');\n",
              "        docLink.innerHTML = docLinkHtml;\n",
              "        element.appendChild(docLink);\n",
              "      }\n",
              "    </script>\n",
              "  </div>\n",
              "\n",
              "\n",
              "<div id=\"df-915ca172-414d-4940-a845-b5b483f6550d\">\n",
              "  <button class=\"colab-df-quickchart\" onclick=\"quickchart('df-915ca172-414d-4940-a845-b5b483f6550d')\"\n",
              "            title=\"Suggest charts\"\n",
              "            style=\"display:none;\">\n",
              "\n",
              "<svg xmlns=\"http://www.w3.org/2000/svg\" height=\"24px\"viewBox=\"0 0 24 24\"\n",
              "     width=\"24px\">\n",
              "    <g>\n",
              "        <path d=\"M19 3H5c-1.1 0-2 .9-2 2v14c0 1.1.9 2 2 2h14c1.1 0 2-.9 2-2V5c0-1.1-.9-2-2-2zM9 17H7v-7h2v7zm4 0h-2V7h2v10zm4 0h-2v-4h2v4z\"/>\n",
              "    </g>\n",
              "</svg>\n",
              "  </button>\n",
              "\n",
              "<style>\n",
              "  .colab-df-quickchart {\n",
              "      --bg-color: #E8F0FE;\n",
              "      --fill-color: #1967D2;\n",
              "      --hover-bg-color: #E2EBFA;\n",
              "      --hover-fill-color: #174EA6;\n",
              "      --disabled-fill-color: #AAA;\n",
              "      --disabled-bg-color: #DDD;\n",
              "  }\n",
              "\n",
              "  [theme=dark] .colab-df-quickchart {\n",
              "      --bg-color: #3B4455;\n",
              "      --fill-color: #D2E3FC;\n",
              "      --hover-bg-color: #434B5C;\n",
              "      --hover-fill-color: #FFFFFF;\n",
              "      --disabled-bg-color: #3B4455;\n",
              "      --disabled-fill-color: #666;\n",
              "  }\n",
              "\n",
              "  .colab-df-quickchart {\n",
              "    background-color: var(--bg-color);\n",
              "    border: none;\n",
              "    border-radius: 50%;\n",
              "    cursor: pointer;\n",
              "    display: none;\n",
              "    fill: var(--fill-color);\n",
              "    height: 32px;\n",
              "    padding: 0;\n",
              "    width: 32px;\n",
              "  }\n",
              "\n",
              "  .colab-df-quickchart:hover {\n",
              "    background-color: var(--hover-bg-color);\n",
              "    box-shadow: 0 1px 2px rgba(60, 64, 67, 0.3), 0 1px 3px 1px rgba(60, 64, 67, 0.15);\n",
              "    fill: var(--button-hover-fill-color);\n",
              "  }\n",
              "\n",
              "  .colab-df-quickchart-complete:disabled,\n",
              "  .colab-df-quickchart-complete:disabled:hover {\n",
              "    background-color: var(--disabled-bg-color);\n",
              "    fill: var(--disabled-fill-color);\n",
              "    box-shadow: none;\n",
              "  }\n",
              "\n",
              "  .colab-df-spinner {\n",
              "    border: 2px solid var(--fill-color);\n",
              "    border-color: transparent;\n",
              "    border-bottom-color: var(--fill-color);\n",
              "    animation:\n",
              "      spin 1s steps(1) infinite;\n",
              "  }\n",
              "\n",
              "  @keyframes spin {\n",
              "    0% {\n",
              "      border-color: transparent;\n",
              "      border-bottom-color: var(--fill-color);\n",
              "      border-left-color: var(--fill-color);\n",
              "    }\n",
              "    20% {\n",
              "      border-color: transparent;\n",
              "      border-left-color: var(--fill-color);\n",
              "      border-top-color: var(--fill-color);\n",
              "    }\n",
              "    30% {\n",
              "      border-color: transparent;\n",
              "      border-left-color: var(--fill-color);\n",
              "      border-top-color: var(--fill-color);\n",
              "      border-right-color: var(--fill-color);\n",
              "    }\n",
              "    40% {\n",
              "      border-color: transparent;\n",
              "      border-right-color: var(--fill-color);\n",
              "      border-top-color: var(--fill-color);\n",
              "    }\n",
              "    60% {\n",
              "      border-color: transparent;\n",
              "      border-right-color: var(--fill-color);\n",
              "    }\n",
              "    80% {\n",
              "      border-color: transparent;\n",
              "      border-right-color: var(--fill-color);\n",
              "      border-bottom-color: var(--fill-color);\n",
              "    }\n",
              "    90% {\n",
              "      border-color: transparent;\n",
              "      border-bottom-color: var(--fill-color);\n",
              "    }\n",
              "  }\n",
              "</style>\n",
              "\n",
              "  <script>\n",
              "    async function quickchart(key) {\n",
              "      const quickchartButtonEl =\n",
              "        document.querySelector('#' + key + ' button');\n",
              "      quickchartButtonEl.disabled = true;  // To prevent multiple clicks.\n",
              "      quickchartButtonEl.classList.add('colab-df-spinner');\n",
              "      try {\n",
              "        const charts = await google.colab.kernel.invokeFunction(\n",
              "            'suggestCharts', [key], {});\n",
              "      } catch (error) {\n",
              "        console.error('Error during call to suggestCharts:', error);\n",
              "      }\n",
              "      quickchartButtonEl.classList.remove('colab-df-spinner');\n",
              "      quickchartButtonEl.classList.add('colab-df-quickchart-complete');\n",
              "    }\n",
              "    (() => {\n",
              "      let quickchartButtonEl =\n",
              "        document.querySelector('#df-915ca172-414d-4940-a845-b5b483f6550d button');\n",
              "      quickchartButtonEl.style.display =\n",
              "        google.colab.kernel.accessAllowed ? 'block' : 'none';\n",
              "    })();\n",
              "  </script>\n",
              "</div>\n",
              "    </div>\n",
              "  </div>\n"
            ],
            "text/plain": [
              "    name  network   myelin\n",
              "0   R_V1  Visual1  2.20900\n",
              "1  R_MST  Visual2  2.05561\n",
              "2   R_V6  Visual2  2.14980\n",
              "3   R_V2  Visual2  2.15347\n",
              "4   R_V3  Visual2  2.07251"
            ]
          },
          "execution_count": 8,
          "metadata": {},
          "output_type": "execute_result"
        }
      ],
      "source": [
        "#make the region info a pd.data frame\n",
        "region_info_pd = pd.DataFrame(region_info)\n",
        "region_info_pd.head(5)"
      ]
    },
    {
      "cell_type": "code",
      "execution_count": null,
      "metadata": {
        "colab": {
          "background_save": true
        },
        "id": "OM2oT3XLuekB",
        "outputId": "32afa34e-a98f-4050-c489-d85dbd96b56b"
      },
      "outputs": [
        {
          "data": {
            "text/plain": [
              "{'labels_R': array([ 54, 116,  50, ..., 134, 134, 134], dtype=int32),\n",
              " 'labels_L': array([233, 228, 220, ..., 301, 301, 306], dtype=int32),\n",
              " 'coords': array([[ 13.88705062, -79.36989109,   2.95539586],\n",
              "        [ 43.31077929, -65.46435175,   3.65888316],\n",
              "        [ 17.07818631, -76.27357601,  28.4532264 ],\n",
              "        ...,\n",
              "        [-43.66333418,  -6.4398113 , -15.54653597],\n",
              "        [-10.61476522,  29.20779575,  26.91586381],\n",
              "        [ -4.58484419,  34.61082077,  15.00143417]])}"
            ]
          },
          "execution_count": 9,
          "metadata": {},
          "output_type": "execute_result"
        }
      ],
      "source": [
        "atlas"
      ]
    },
    {
      "cell_type": "code",
      "execution_count": null,
      "metadata": {
        "colab": {
          "background_save": true
        },
        "id": "opej_d6_WIlg",
        "outputId": "4e651367-9432-4d45-f259-6c2ea12e41bb"
      },
      "outputs": [
        {
          "data": {
            "text/plain": [
              "network\n",
              "Posterior-Mu    77\n",
              "Cingulo-Oper    56\n",
              "Visual2         54\n",
              "Frontopariet    50\n",
              "Somatomotor     39\n",
              "Language        23\n",
              "Default         23\n",
              "Auditory        15\n",
              "Dorsal-atten     7\n",
              "Visual1          6\n",
              "Orbito-Affec     6\n",
              "Ventral-Mult     4\n",
              "Name: count, dtype: int64"
            ]
          },
          "execution_count": 10,
          "metadata": {},
          "output_type": "execute_result"
        }
      ],
      "source": [
        "#classic exploratory work\n",
        "region_info_pd['network'].value_counts()\n"
      ]
    },
    {
      "cell_type": "markdown",
      "metadata": {
        "id": "ReVBnxThduFr"
      },
      "source": [
        "**Atlas Exploratory Work**"
      ]
    },
    {
      "cell_type": "code",
      "execution_count": null,
      "metadata": {
        "colab": {
          "background_save": true
        },
        "id": "2hEMoQ7WZhmy",
        "outputId": "5e7c32e1-498f-4372-fe08-962adebb4b79"
      },
      "outputs": [
        {
          "name": "stdout",
          "output_type": "stream",
          "text": [
            "<class 'dict'>\n",
            "labels_R: <class 'numpy.ndarray'> - [ 54 116  50 ... 134 134 134]\n",
            "labels_L: <class 'numpy.ndarray'> - [233 228 220 ... 301 301 306]\n",
            "coords: <class 'numpy.ndarray'> - [[ 13.88705062 -79.36989109   2.95539586]\n",
            " [ 43.31077929 -65.46435175   3.65888316]\n",
            " [ 17.07818631 -76.27357601  28.4532264 ]\n",
            " ...\n",
            " [-43.66333418  -6.4398113  -15.54653597]\n",
            " [-10.61476522  29.20779575  26.91586381]\n",
            " [ -4.58484419  34.61082077  15.00143417]]\n",
            "atlas[\"labels_R\"].shape: (10242,)\n",
            "atlas[\"labels_L\"].shape: (10242,)\n",
            "atlas[\"coords\"].shape: (360, 3)\n"
          ]
        },
        {
          "data": {
            "application/vnd.google.colaboratory.intrinsic+json": {
              "summary": "{\n  \"name\": \"atlas_pd\",\n  \"rows\": 8,\n  \"fields\": [\n    {\n      \"column\": \"labels_R\",\n      \"properties\": {\n        \"dtype\": \"number\",\n        \"std\": 3594.739994745725,\n        \"min\": -1.0,\n        \"max\": 10242.0,\n        \"num_unique_values\": 8,\n        \"samples\": [\n          74.89572349150556,\n          71.0,\n          10242.0\n        ],\n        \"semantic_type\": \"\",\n        \"description\": \"\"\n      }\n    },\n    {\n      \"column\": \"labels_L\",\n      \"properties\": {\n        \"dtype\": \"number\",\n        \"std\": 3549.828247439959,\n        \"min\": -1.0,\n        \"max\": 10242.0,\n        \"num_unique_values\": 8,\n        \"samples\": [\n          239.90529193516892,\n          252.0,\n          10242.0\n        ],\n        \"semantic_type\": \"\",\n        \"description\": \"\"\n      }\n    },\n    {\n      \"column\": \"x\",\n      \"properties\": {\n        \"dtype\": \"number\",\n        \"std\": 131.6570438703522,\n        \"min\": -62.865576158135624,\n        \"max\": 360.0,\n        \"num_unique_values\": 8,\n        \"samples\": [\n          0.2329712542680113,\n          0.20516487680548723,\n          360.0\n        ],\n        \"semantic_type\": \"\",\n        \"description\": \"\"\n      }\n    },\n    {\n      \"column\": \"y\",\n      \"properties\": {\n        \"dtype\": \"number\",\n        \"std\": 139.47110090571667,\n        \"min\": -89.08441670735677,\n        \"max\": 360.0,\n        \"num_unique_values\": 8,\n        \"samples\": [\n          -19.138973315679653,\n          -21.61119939189846,\n          360.0\n        ],\n        \"semantic_type\": \"\",\n        \"description\": \"\"\n      }\n    },\n    {\n      \"column\": \"z\",\n      \"properties\": {\n        \"dtype\": \"number\",\n        \"std\": 125.66201888182707,\n        \"min\": -41.542673910259296,\n        \"max\": 360.0,\n        \"num_unique_values\": 8,\n        \"samples\": [\n          15.67653558091315,\n          14.24469610348801,\n          360.0\n        ],\n        \"semantic_type\": \"\",\n        \"description\": \"\"\n      }\n    }\n  ]\n}",
              "type": "dataframe"
            },
            "text/html": [
              "\n",
              "  <div id=\"df-c4dfd741-b758-47c0-b8db-8053fbe45a12\" class=\"colab-df-container\">\n",
              "    <div>\n",
              "<style scoped>\n",
              "    .dataframe tbody tr th:only-of-type {\n",
              "        vertical-align: middle;\n",
              "    }\n",
              "\n",
              "    .dataframe tbody tr th {\n",
              "        vertical-align: top;\n",
              "    }\n",
              "\n",
              "    .dataframe thead th {\n",
              "        text-align: right;\n",
              "    }\n",
              "</style>\n",
              "<table border=\"1\" class=\"dataframe\">\n",
              "  <thead>\n",
              "    <tr style=\"text-align: right;\">\n",
              "      <th></th>\n",
              "      <th>labels_R</th>\n",
              "      <th>labels_L</th>\n",
              "      <th>x</th>\n",
              "      <th>y</th>\n",
              "      <th>z</th>\n",
              "    </tr>\n",
              "  </thead>\n",
              "  <tbody>\n",
              "    <tr>\n",
              "      <th>count</th>\n",
              "      <td>10242.000000</td>\n",
              "      <td>10242.000000</td>\n",
              "      <td>360.000000</td>\n",
              "      <td>360.000000</td>\n",
              "      <td>360.000000</td>\n",
              "    </tr>\n",
              "    <tr>\n",
              "      <th>mean</th>\n",
              "      <td>74.895723</td>\n",
              "      <td>239.905292</td>\n",
              "      <td>0.232971</td>\n",
              "      <td>-19.138973</td>\n",
              "      <td>15.676536</td>\n",
              "    </tr>\n",
              "    <tr>\n",
              "      <th>std</th>\n",
              "      <td>55.650470</td>\n",
              "      <td>89.207969</td>\n",
              "      <td>35.276493</td>\n",
              "      <td>39.695339</td>\n",
              "      <td>25.627438</td>\n",
              "    </tr>\n",
              "    <tr>\n",
              "      <th>min</th>\n",
              "      <td>-1.000000</td>\n",
              "      <td>-1.000000</td>\n",
              "      <td>-62.865576</td>\n",
              "      <td>-89.084417</td>\n",
              "      <td>-41.542674</td>\n",
              "    </tr>\n",
              "    <tr>\n",
              "      <th>25%</th>\n",
              "      <td>24.000000</td>\n",
              "      <td>203.000000</td>\n",
              "      <td>-32.730772</td>\n",
              "      <td>-52.996699</td>\n",
              "      <td>-6.106534</td>\n",
              "    </tr>\n",
              "    <tr>\n",
              "      <th>50%</th>\n",
              "      <td>71.000000</td>\n",
              "      <td>252.000000</td>\n",
              "      <td>0.205165</td>\n",
              "      <td>-21.611199</td>\n",
              "      <td>14.244696</td>\n",
              "    </tr>\n",
              "    <tr>\n",
              "      <th>75%</th>\n",
              "      <td>127.000000</td>\n",
              "      <td>306.000000</td>\n",
              "      <td>33.294983</td>\n",
              "      <td>13.148663</td>\n",
              "      <td>37.123880</td>\n",
              "    </tr>\n",
              "    <tr>\n",
              "      <th>max</th>\n",
              "      <td>179.000000</td>\n",
              "      <td>359.000000</td>\n",
              "      <td>64.164492</td>\n",
              "      <td>63.032918</td>\n",
              "      <td>69.800713</td>\n",
              "    </tr>\n",
              "  </tbody>\n",
              "</table>\n",
              "</div>\n",
              "    <div class=\"colab-df-buttons\">\n",
              "\n",
              "  <div class=\"colab-df-container\">\n",
              "    <button class=\"colab-df-convert\" onclick=\"convertToInteractive('df-c4dfd741-b758-47c0-b8db-8053fbe45a12')\"\n",
              "            title=\"Convert this dataframe to an interactive table.\"\n",
              "            style=\"display:none;\">\n",
              "\n",
              "  <svg xmlns=\"http://www.w3.org/2000/svg\" height=\"24px\" viewBox=\"0 -960 960 960\">\n",
              "    <path d=\"M120-120v-720h720v720H120Zm60-500h600v-160H180v160Zm220 220h160v-160H400v160Zm0 220h160v-160H400v160ZM180-400h160v-160H180v160Zm440 0h160v-160H620v160ZM180-180h160v-160H180v160Zm440 0h160v-160H620v160Z\"/>\n",
              "  </svg>\n",
              "    </button>\n",
              "\n",
              "  <style>\n",
              "    .colab-df-container {\n",
              "      display:flex;\n",
              "      gap: 12px;\n",
              "    }\n",
              "\n",
              "    .colab-df-convert {\n",
              "      background-color: #E8F0FE;\n",
              "      border: none;\n",
              "      border-radius: 50%;\n",
              "      cursor: pointer;\n",
              "      display: none;\n",
              "      fill: #1967D2;\n",
              "      height: 32px;\n",
              "      padding: 0 0 0 0;\n",
              "      width: 32px;\n",
              "    }\n",
              "\n",
              "    .colab-df-convert:hover {\n",
              "      background-color: #E2EBFA;\n",
              "      box-shadow: 0px 1px 2px rgba(60, 64, 67, 0.3), 0px 1px 3px 1px rgba(60, 64, 67, 0.15);\n",
              "      fill: #174EA6;\n",
              "    }\n",
              "\n",
              "    .colab-df-buttons div {\n",
              "      margin-bottom: 4px;\n",
              "    }\n",
              "\n",
              "    [theme=dark] .colab-df-convert {\n",
              "      background-color: #3B4455;\n",
              "      fill: #D2E3FC;\n",
              "    }\n",
              "\n",
              "    [theme=dark] .colab-df-convert:hover {\n",
              "      background-color: #434B5C;\n",
              "      box-shadow: 0px 1px 3px 1px rgba(0, 0, 0, 0.15);\n",
              "      filter: drop-shadow(0px 1px 2px rgba(0, 0, 0, 0.3));\n",
              "      fill: #FFFFFF;\n",
              "    }\n",
              "  </style>\n",
              "\n",
              "    <script>\n",
              "      const buttonEl =\n",
              "        document.querySelector('#df-c4dfd741-b758-47c0-b8db-8053fbe45a12 button.colab-df-convert');\n",
              "      buttonEl.style.display =\n",
              "        google.colab.kernel.accessAllowed ? 'block' : 'none';\n",
              "\n",
              "      async function convertToInteractive(key) {\n",
              "        const element = document.querySelector('#df-c4dfd741-b758-47c0-b8db-8053fbe45a12');\n",
              "        const dataTable =\n",
              "          await google.colab.kernel.invokeFunction('convertToInteractive',\n",
              "                                                    [key], {});\n",
              "        if (!dataTable) return;\n",
              "\n",
              "        const docLinkHtml = 'Like what you see? Visit the ' +\n",
              "          '<a target=\"_blank\" href=https://colab.research.google.com/notebooks/data_table.ipynb>data table notebook</a>'\n",
              "          + ' to learn more about interactive tables.';\n",
              "        element.innerHTML = '';\n",
              "        dataTable['output_type'] = 'display_data';\n",
              "        await google.colab.output.renderOutput(dataTable, element);\n",
              "        const docLink = document.createElement('div');\n",
              "        docLink.innerHTML = docLinkHtml;\n",
              "        element.appendChild(docLink);\n",
              "      }\n",
              "    </script>\n",
              "  </div>\n",
              "\n",
              "\n",
              "<div id=\"df-ab58d9a2-a17c-450e-9982-02368e35754b\">\n",
              "  <button class=\"colab-df-quickchart\" onclick=\"quickchart('df-ab58d9a2-a17c-450e-9982-02368e35754b')\"\n",
              "            title=\"Suggest charts\"\n",
              "            style=\"display:none;\">\n",
              "\n",
              "<svg xmlns=\"http://www.w3.org/2000/svg\" height=\"24px\"viewBox=\"0 0 24 24\"\n",
              "     width=\"24px\">\n",
              "    <g>\n",
              "        <path d=\"M19 3H5c-1.1 0-2 .9-2 2v14c0 1.1.9 2 2 2h14c1.1 0 2-.9 2-2V5c0-1.1-.9-2-2-2zM9 17H7v-7h2v7zm4 0h-2V7h2v10zm4 0h-2v-4h2v4z\"/>\n",
              "    </g>\n",
              "</svg>\n",
              "  </button>\n",
              "\n",
              "<style>\n",
              "  .colab-df-quickchart {\n",
              "      --bg-color: #E8F0FE;\n",
              "      --fill-color: #1967D2;\n",
              "      --hover-bg-color: #E2EBFA;\n",
              "      --hover-fill-color: #174EA6;\n",
              "      --disabled-fill-color: #AAA;\n",
              "      --disabled-bg-color: #DDD;\n",
              "  }\n",
              "\n",
              "  [theme=dark] .colab-df-quickchart {\n",
              "      --bg-color: #3B4455;\n",
              "      --fill-color: #D2E3FC;\n",
              "      --hover-bg-color: #434B5C;\n",
              "      --hover-fill-color: #FFFFFF;\n",
              "      --disabled-bg-color: #3B4455;\n",
              "      --disabled-fill-color: #666;\n",
              "  }\n",
              "\n",
              "  .colab-df-quickchart {\n",
              "    background-color: var(--bg-color);\n",
              "    border: none;\n",
              "    border-radius: 50%;\n",
              "    cursor: pointer;\n",
              "    display: none;\n",
              "    fill: var(--fill-color);\n",
              "    height: 32px;\n",
              "    padding: 0;\n",
              "    width: 32px;\n",
              "  }\n",
              "\n",
              "  .colab-df-quickchart:hover {\n",
              "    background-color: var(--hover-bg-color);\n",
              "    box-shadow: 0 1px 2px rgba(60, 64, 67, 0.3), 0 1px 3px 1px rgba(60, 64, 67, 0.15);\n",
              "    fill: var(--button-hover-fill-color);\n",
              "  }\n",
              "\n",
              "  .colab-df-quickchart-complete:disabled,\n",
              "  .colab-df-quickchart-complete:disabled:hover {\n",
              "    background-color: var(--disabled-bg-color);\n",
              "    fill: var(--disabled-fill-color);\n",
              "    box-shadow: none;\n",
              "  }\n",
              "\n",
              "  .colab-df-spinner {\n",
              "    border: 2px solid var(--fill-color);\n",
              "    border-color: transparent;\n",
              "    border-bottom-color: var(--fill-color);\n",
              "    animation:\n",
              "      spin 1s steps(1) infinite;\n",
              "  }\n",
              "\n",
              "  @keyframes spin {\n",
              "    0% {\n",
              "      border-color: transparent;\n",
              "      border-bottom-color: var(--fill-color);\n",
              "      border-left-color: var(--fill-color);\n",
              "    }\n",
              "    20% {\n",
              "      border-color: transparent;\n",
              "      border-left-color: var(--fill-color);\n",
              "      border-top-color: var(--fill-color);\n",
              "    }\n",
              "    30% {\n",
              "      border-color: transparent;\n",
              "      border-left-color: var(--fill-color);\n",
              "      border-top-color: var(--fill-color);\n",
              "      border-right-color: var(--fill-color);\n",
              "    }\n",
              "    40% {\n",
              "      border-color: transparent;\n",
              "      border-right-color: var(--fill-color);\n",
              "      border-top-color: var(--fill-color);\n",
              "    }\n",
              "    60% {\n",
              "      border-color: transparent;\n",
              "      border-right-color: var(--fill-color);\n",
              "    }\n",
              "    80% {\n",
              "      border-color: transparent;\n",
              "      border-right-color: var(--fill-color);\n",
              "      border-bottom-color: var(--fill-color);\n",
              "    }\n",
              "    90% {\n",
              "      border-color: transparent;\n",
              "      border-bottom-color: var(--fill-color);\n",
              "    }\n",
              "  }\n",
              "</style>\n",
              "\n",
              "  <script>\n",
              "    async function quickchart(key) {\n",
              "      const quickchartButtonEl =\n",
              "        document.querySelector('#' + key + ' button');\n",
              "      quickchartButtonEl.disabled = true;  // To prevent multiple clicks.\n",
              "      quickchartButtonEl.classList.add('colab-df-spinner');\n",
              "      try {\n",
              "        const charts = await google.colab.kernel.invokeFunction(\n",
              "            'suggestCharts', [key], {});\n",
              "      } catch (error) {\n",
              "        console.error('Error during call to suggestCharts:', error);\n",
              "      }\n",
              "      quickchartButtonEl.classList.remove('colab-df-spinner');\n",
              "      quickchartButtonEl.classList.add('colab-df-quickchart-complete');\n",
              "    }\n",
              "    (() => {\n",
              "      let quickchartButtonEl =\n",
              "        document.querySelector('#df-ab58d9a2-a17c-450e-9982-02368e35754b button');\n",
              "      quickchartButtonEl.style.display =\n",
              "        google.colab.kernel.accessAllowed ? 'block' : 'none';\n",
              "    })();\n",
              "  </script>\n",
              "</div>\n",
              "    </div>\n",
              "  </div>\n"
            ],
            "text/plain": [
              "           labels_R      labels_L           x           y           z\n",
              "count  10242.000000  10242.000000  360.000000  360.000000  360.000000\n",
              "mean      74.895723    239.905292    0.232971  -19.138973   15.676536\n",
              "std       55.650470     89.207969   35.276493   39.695339   25.627438\n",
              "min       -1.000000     -1.000000  -62.865576  -89.084417  -41.542674\n",
              "25%       24.000000    203.000000  -32.730772  -52.996699   -6.106534\n",
              "50%       71.000000    252.000000    0.205165  -21.611199   14.244696\n",
              "75%      127.000000    306.000000   33.294983   13.148663   37.123880\n",
              "max      179.000000    359.000000   64.164492   63.032918   69.800713"
            ]
          },
          "execution_count": 11,
          "metadata": {},
          "output_type": "execute_result"
        }
      ],
      "source": [
        "#Transofrming atlas directly to a pd.DataFrame gives me an error, let's inspect why.\n",
        "\n",
        "print(type(atlas))\n",
        "\n",
        "for key, value in atlas.items():\n",
        "  print(f\"{key}: {type(value)} - {value}\")\n",
        "\n",
        "#It gives an error because it is a multidimensional array in coords.\n",
        "print(\"atlas[\\\"labels_R\\\"].shape:\", atlas[\"labels_L\"].shape)\n",
        "print(\"atlas[\\\"labels_L\\\"].shape:\", atlas[\"labels_L\"].shape)\n",
        "print(\"atlas[\\\"coords\\\"].shape:\", atlas[\"coords\"].shape)\n",
        "\n",
        "# Indeed coords has shape (360, 3). Let's unpack it to transofrm it into a pd.DataFrame for comodity later.\n",
        "# Probably coords corresponds to coordinates, and the fact that it has three dimensions means x, y, z.\n",
        "# So let's unpack it into these three.\n",
        "\n",
        "coords = pd.DataFrame(atlas['coords'], columns=['x', 'y', 'z'])\n",
        "\n",
        "#Let's also create two DataFrames for the other labels\n",
        "\n",
        "labels = pd.DataFrame({\n",
        "    'labels_R': atlas['labels_R'],\n",
        "    'labels_L': atlas['labels_L']\n",
        "})\n",
        "\n",
        "# Let's then concatenate and form a final pd.DataFrame\n",
        "\n",
        "atlas_pd = pd.concat([labels, coords], axis=1)\n",
        "\n",
        "atlas_pd.describe()"
      ]
    },
    {
      "cell_type": "markdown",
      "metadata": {
        "id": "vB0AMhz8egMK"
      },
      "source": [
        "## Working Memory Task exploratory work"
      ]
    },
    {
      "cell_type": "code",
      "execution_count": null,
      "metadata": {
        "colab": {
          "background_save": true
        },
        "id": "pLNORdkaew9D",
        "outputId": "dfb3b496-b997-4a20-87d2-dba71eb3347b"
      },
      "outputs": [
        {
          "name": "stdout",
          "output_type": "stream",
          "text": [
            "Help on function read_behavior_data in module __main__:\n",
            "\n",
            "read_behavior_data(kind, output_type='pandas')\n",
            "    Read behavior data from HCP dataset.\n",
            "    \n",
            "    Args:\n",
            "        kind (str): \"gambling\", \"language\", \"emotion\", \"relational\", \"social\" or \"wm\",\n",
            "        output_type (str): Sets the output dataframe format. Can be \"numpy\" or \"pandas\". Default is \"pandas\".\n",
            "    Returns:\n",
            "         wm_behavior (np.ndarray or pandas DataFrame): behavior data\n",
            "\n"
          ]
        }
      ],
      "source": [
        "help(read_behavior_data)"
      ]
    },
    {
      "cell_type": "code",
      "execution_count": null,
      "metadata": {
        "colab": {
          "background_save": true
        },
        "id": "__ImRVaEesdH",
        "outputId": "428ed547-b8a8-4a0c-e7b5-4d55b8ec2090"
      },
      "outputs": [
        {
          "name": "stdout",
          "output_type": "stream",
          "text": [
            "<class 'pandas.core.frame.DataFrame'>\n"
          ]
        }
      ],
      "source": [
        "wm_behavior = read_behavior_data(\"wm\")\n",
        "print(type(wm_behavior))"
      ]
    },
    {
      "cell_type": "code",
      "execution_count": null,
      "metadata": {
        "colab": {
          "background_save": true
        },
        "id": "M4h0VBN8JcrG",
        "outputId": "c627d2fe-afa5-4e1c-a09b-a40e1faf4152"
      },
      "outputs": [
        {
          "name": "stdout",
          "output_type": "stream",
          "text": [
            "<class 'pandas.core.frame.DataFrame'>\n",
            "RangeIndex: 5382 entries, 0 to 5381\n",
            "Data columns (total 9 columns):\n",
            " #   Column               Non-Null Count  Dtype  \n",
            "---  ------               --------------  -----  \n",
            " 0   Subject              5382 non-null   int64  \n",
            " 1   Run                  5382 non-null   int64  \n",
            " 2   ConditionName        5382 non-null   object \n",
            " 3   ACC                  5382 non-null   float64\n",
            " 4   ACC_NONTARGET        5376 non-null   float64\n",
            " 5   ACC_TARGET           5382 non-null   float64\n",
            " 6   MEDIAN_RT            5376 non-null   float64\n",
            " 7   MEDIAN_RT_NONTARGET  5373 non-null   float64\n",
            " 8   MEDIAN_RT_TARGET     4894 non-null   float64\n",
            "dtypes: float64(6), int64(2), object(1)\n",
            "memory usage: 378.5+ KB\n"
          ]
        }
      ],
      "source": [
        "wm_behavior.info()"
      ]
    },
    {
      "cell_type": "code",
      "execution_count": null,
      "metadata": {
        "colab": {
          "background_save": true
        },
        "id": "nvnvLXZjKAGO",
        "outputId": "607986e0-8183-4920-ee97-669e5591dcf5"
      },
      "outputs": [
        {
          "data": {
            "application/vnd.google.colaboratory.intrinsic+json": {
              "summary": "{\n  \"name\": \"wm_behavior\",\n  \"rows\": 8,\n  \"fields\": [\n    {\n      \"column\": \"Subject\",\n      \"properties\": {\n        \"dtype\": \"number\",\n        \"std\": 1849.6068013267522,\n        \"min\": 0.0,\n        \"max\": 5382.0,\n        \"num_unique_values\": 8,\n        \"samples\": [\n          168.8803418803419,\n          169.0,\n          5382.0\n        ],\n        \"semantic_type\": \"\",\n        \"description\": \"\"\n      }\n    },\n    {\n      \"column\": \"Run\",\n      \"properties\": {\n        \"dtype\": \"number\",\n        \"std\": 1902.6476066729113,\n        \"min\": 0.0,\n        \"max\": 5382.0,\n        \"num_unique_values\": 5,\n        \"samples\": [\n          0.5,\n          1.0,\n          0.5000464576075335\n        ],\n        \"semantic_type\": \"\",\n        \"description\": \"\"\n      }\n    },\n    {\n      \"column\": \"ACC\",\n      \"properties\": {\n        \"dtype\": \"number\",\n        \"std\": 1902.574850022586,\n        \"min\": 0.1,\n        \"max\": 5382.0,\n        \"num_unique_values\": 6,\n        \"samples\": [\n          5382.0,\n          0.8877694165737643,\n          1.0\n        ],\n        \"semantic_type\": \"\",\n        \"description\": \"\"\n      }\n    },\n    {\n      \"column\": \"ACC_NONTARGET\",\n      \"properties\": {\n        \"dtype\": \"number\",\n        \"std\": 1900.456211125807,\n        \"min\": 0.0,\n        \"max\": 5376.0,\n        \"num_unique_values\": 6,\n        \"samples\": [\n          5376.0,\n          0.910280257936481,\n          1.0\n        ],\n        \"semantic_type\": \"\",\n        \"description\": \"\"\n      }\n    },\n    {\n      \"column\": \"ACC_TARGET\",\n      \"properties\": {\n        \"dtype\": \"number\",\n        \"std\": 1902.5904500504676,\n        \"min\": 0.0,\n        \"max\": 5382.0,\n        \"num_unique_values\": 6,\n        \"samples\": [\n          5382.0,\n          0.8093645484949833,\n          1.0\n        ],\n        \"semantic_type\": \"\",\n        \"description\": \"\"\n      }\n    },\n    {\n      \"column\": \"MEDIAN_RT\",\n      \"properties\": {\n        \"dtype\": \"number\",\n        \"std\": 1685.0689741117676,\n        \"min\": 241.63897421082956,\n        \"max\": 5376.0,\n        \"num_unique_values\": 8,\n        \"samples\": [\n          861.7483258928571,\n          821.5,\n          5376.0\n        ],\n        \"semantic_type\": \"\",\n        \"description\": \"\"\n      }\n    },\n    {\n      \"column\": \"MEDIAN_RT_NONTARGET\",\n      \"properties\": {\n        \"dtype\": \"number\",\n        \"std\": 1681.568420247897,\n        \"min\": 254.81493871844938,\n        \"max\": 5373.0,\n        \"num_unique_values\": 8,\n        \"samples\": [\n          869.7212916434022,\n          828.5,\n          5373.0\n        ],\n        \"semantic_type\": \"\",\n        \"description\": \"\"\n      }\n    },\n    {\n      \"column\": \"MEDIAN_RT_TARGET\",\n      \"properties\": {\n        \"dtype\": \"number\",\n        \"std\": 1550.0261677449362,\n        \"min\": 75.0,\n        \"max\": 4894.0,\n        \"num_unique_values\": 8,\n        \"samples\": [\n          872.0433183489988,\n          815.0,\n          4894.0\n        ],\n        \"semantic_type\": \"\",\n        \"description\": \"\"\n      }\n    }\n  ]\n}",
              "type": "dataframe"
            },
            "text/html": [
              "\n",
              "  <div id=\"df-f826abf4-788c-4f5a-bae8-c23bda0e51b7\" class=\"colab-df-container\">\n",
              "    <div>\n",
              "<style scoped>\n",
              "    .dataframe tbody tr th:only-of-type {\n",
              "        vertical-align: middle;\n",
              "    }\n",
              "\n",
              "    .dataframe tbody tr th {\n",
              "        vertical-align: top;\n",
              "    }\n",
              "\n",
              "    .dataframe thead th {\n",
              "        text-align: right;\n",
              "    }\n",
              "</style>\n",
              "<table border=\"1\" class=\"dataframe\">\n",
              "  <thead>\n",
              "    <tr style=\"text-align: right;\">\n",
              "      <th></th>\n",
              "      <th>Subject</th>\n",
              "      <th>Run</th>\n",
              "      <th>ACC</th>\n",
              "      <th>ACC_NONTARGET</th>\n",
              "      <th>ACC_TARGET</th>\n",
              "      <th>MEDIAN_RT</th>\n",
              "      <th>MEDIAN_RT_NONTARGET</th>\n",
              "      <th>MEDIAN_RT_TARGET</th>\n",
              "    </tr>\n",
              "  </thead>\n",
              "  <tbody>\n",
              "    <tr>\n",
              "      <th>count</th>\n",
              "      <td>5382.000000</td>\n",
              "      <td>5382.000000</td>\n",
              "      <td>5382.000000</td>\n",
              "      <td>5376.000000</td>\n",
              "      <td>5382.000000</td>\n",
              "      <td>5376.000000</td>\n",
              "      <td>5373.000000</td>\n",
              "      <td>4894.000000</td>\n",
              "    </tr>\n",
              "    <tr>\n",
              "      <th>mean</th>\n",
              "      <td>168.880342</td>\n",
              "      <td>0.500000</td>\n",
              "      <td>0.887769</td>\n",
              "      <td>0.910280</td>\n",
              "      <td>0.809365</td>\n",
              "      <td>861.748326</td>\n",
              "      <td>869.721292</td>\n",
              "      <td>872.043318</td>\n",
              "    </tr>\n",
              "    <tr>\n",
              "      <th>std</th>\n",
              "      <td>97.799125</td>\n",
              "      <td>0.500046</td>\n",
              "      <td>0.152766</td>\n",
              "      <td>0.143950</td>\n",
              "      <td>0.322284</td>\n",
              "      <td>241.638974</td>\n",
              "      <td>254.814939</td>\n",
              "      <td>276.054963</td>\n",
              "    </tr>\n",
              "    <tr>\n",
              "      <th>min</th>\n",
              "      <td>0.000000</td>\n",
              "      <td>0.000000</td>\n",
              "      <td>0.100000</td>\n",
              "      <td>0.000000</td>\n",
              "      <td>0.000000</td>\n",
              "      <td>291.000000</td>\n",
              "      <td>291.000000</td>\n",
              "      <td>75.000000</td>\n",
              "    </tr>\n",
              "    <tr>\n",
              "      <th>25%</th>\n",
              "      <td>84.250000</td>\n",
              "      <td>0.000000</td>\n",
              "      <td>0.800000</td>\n",
              "      <td>0.833333</td>\n",
              "      <td>0.500000</td>\n",
              "      <td>676.000000</td>\n",
              "      <td>675.000000</td>\n",
              "      <td>665.500000</td>\n",
              "    </tr>\n",
              "    <tr>\n",
              "      <th>50%</th>\n",
              "      <td>169.000000</td>\n",
              "      <td>0.500000</td>\n",
              "      <td>1.000000</td>\n",
              "      <td>1.000000</td>\n",
              "      <td>1.000000</td>\n",
              "      <td>821.500000</td>\n",
              "      <td>828.500000</td>\n",
              "      <td>815.000000</td>\n",
              "    </tr>\n",
              "    <tr>\n",
              "      <th>75%</th>\n",
              "      <td>253.750000</td>\n",
              "      <td>1.000000</td>\n",
              "      <td>1.000000</td>\n",
              "      <td>1.000000</td>\n",
              "      <td>1.000000</td>\n",
              "      <td>1005.500000</td>\n",
              "      <td>1023.500000</td>\n",
              "      <td>1023.500000</td>\n",
              "    </tr>\n",
              "    <tr>\n",
              "      <th>max</th>\n",
              "      <td>338.000000</td>\n",
              "      <td>1.000000</td>\n",
              "      <td>1.000000</td>\n",
              "      <td>1.000000</td>\n",
              "      <td>1.000000</td>\n",
              "      <td>1839.000000</td>\n",
              "      <td>1839.000000</td>\n",
              "      <td>1978.000000</td>\n",
              "    </tr>\n",
              "  </tbody>\n",
              "</table>\n",
              "</div>\n",
              "    <div class=\"colab-df-buttons\">\n",
              "\n",
              "  <div class=\"colab-df-container\">\n",
              "    <button class=\"colab-df-convert\" onclick=\"convertToInteractive('df-f826abf4-788c-4f5a-bae8-c23bda0e51b7')\"\n",
              "            title=\"Convert this dataframe to an interactive table.\"\n",
              "            style=\"display:none;\">\n",
              "\n",
              "  <svg xmlns=\"http://www.w3.org/2000/svg\" height=\"24px\" viewBox=\"0 -960 960 960\">\n",
              "    <path d=\"M120-120v-720h720v720H120Zm60-500h600v-160H180v160Zm220 220h160v-160H400v160Zm0 220h160v-160H400v160ZM180-400h160v-160H180v160Zm440 0h160v-160H620v160ZM180-180h160v-160H180v160Zm440 0h160v-160H620v160Z\"/>\n",
              "  </svg>\n",
              "    </button>\n",
              "\n",
              "  <style>\n",
              "    .colab-df-container {\n",
              "      display:flex;\n",
              "      gap: 12px;\n",
              "    }\n",
              "\n",
              "    .colab-df-convert {\n",
              "      background-color: #E8F0FE;\n",
              "      border: none;\n",
              "      border-radius: 50%;\n",
              "      cursor: pointer;\n",
              "      display: none;\n",
              "      fill: #1967D2;\n",
              "      height: 32px;\n",
              "      padding: 0 0 0 0;\n",
              "      width: 32px;\n",
              "    }\n",
              "\n",
              "    .colab-df-convert:hover {\n",
              "      background-color: #E2EBFA;\n",
              "      box-shadow: 0px 1px 2px rgba(60, 64, 67, 0.3), 0px 1px 3px 1px rgba(60, 64, 67, 0.15);\n",
              "      fill: #174EA6;\n",
              "    }\n",
              "\n",
              "    .colab-df-buttons div {\n",
              "      margin-bottom: 4px;\n",
              "    }\n",
              "\n",
              "    [theme=dark] .colab-df-convert {\n",
              "      background-color: #3B4455;\n",
              "      fill: #D2E3FC;\n",
              "    }\n",
              "\n",
              "    [theme=dark] .colab-df-convert:hover {\n",
              "      background-color: #434B5C;\n",
              "      box-shadow: 0px 1px 3px 1px rgba(0, 0, 0, 0.15);\n",
              "      filter: drop-shadow(0px 1px 2px rgba(0, 0, 0, 0.3));\n",
              "      fill: #FFFFFF;\n",
              "    }\n",
              "  </style>\n",
              "\n",
              "    <script>\n",
              "      const buttonEl =\n",
              "        document.querySelector('#df-f826abf4-788c-4f5a-bae8-c23bda0e51b7 button.colab-df-convert');\n",
              "      buttonEl.style.display =\n",
              "        google.colab.kernel.accessAllowed ? 'block' : 'none';\n",
              "\n",
              "      async function convertToInteractive(key) {\n",
              "        const element = document.querySelector('#df-f826abf4-788c-4f5a-bae8-c23bda0e51b7');\n",
              "        const dataTable =\n",
              "          await google.colab.kernel.invokeFunction('convertToInteractive',\n",
              "                                                    [key], {});\n",
              "        if (!dataTable) return;\n",
              "\n",
              "        const docLinkHtml = 'Like what you see? Visit the ' +\n",
              "          '<a target=\"_blank\" href=https://colab.research.google.com/notebooks/data_table.ipynb>data table notebook</a>'\n",
              "          + ' to learn more about interactive tables.';\n",
              "        element.innerHTML = '';\n",
              "        dataTable['output_type'] = 'display_data';\n",
              "        await google.colab.output.renderOutput(dataTable, element);\n",
              "        const docLink = document.createElement('div');\n",
              "        docLink.innerHTML = docLinkHtml;\n",
              "        element.appendChild(docLink);\n",
              "      }\n",
              "    </script>\n",
              "  </div>\n",
              "\n",
              "\n",
              "<div id=\"df-7267c689-feb3-49ca-a492-8c9d40b2e618\">\n",
              "  <button class=\"colab-df-quickchart\" onclick=\"quickchart('df-7267c689-feb3-49ca-a492-8c9d40b2e618')\"\n",
              "            title=\"Suggest charts\"\n",
              "            style=\"display:none;\">\n",
              "\n",
              "<svg xmlns=\"http://www.w3.org/2000/svg\" height=\"24px\"viewBox=\"0 0 24 24\"\n",
              "     width=\"24px\">\n",
              "    <g>\n",
              "        <path d=\"M19 3H5c-1.1 0-2 .9-2 2v14c0 1.1.9 2 2 2h14c1.1 0 2-.9 2-2V5c0-1.1-.9-2-2-2zM9 17H7v-7h2v7zm4 0h-2V7h2v10zm4 0h-2v-4h2v4z\"/>\n",
              "    </g>\n",
              "</svg>\n",
              "  </button>\n",
              "\n",
              "<style>\n",
              "  .colab-df-quickchart {\n",
              "      --bg-color: #E8F0FE;\n",
              "      --fill-color: #1967D2;\n",
              "      --hover-bg-color: #E2EBFA;\n",
              "      --hover-fill-color: #174EA6;\n",
              "      --disabled-fill-color: #AAA;\n",
              "      --disabled-bg-color: #DDD;\n",
              "  }\n",
              "\n",
              "  [theme=dark] .colab-df-quickchart {\n",
              "      --bg-color: #3B4455;\n",
              "      --fill-color: #D2E3FC;\n",
              "      --hover-bg-color: #434B5C;\n",
              "      --hover-fill-color: #FFFFFF;\n",
              "      --disabled-bg-color: #3B4455;\n",
              "      --disabled-fill-color: #666;\n",
              "  }\n",
              "\n",
              "  .colab-df-quickchart {\n",
              "    background-color: var(--bg-color);\n",
              "    border: none;\n",
              "    border-radius: 50%;\n",
              "    cursor: pointer;\n",
              "    display: none;\n",
              "    fill: var(--fill-color);\n",
              "    height: 32px;\n",
              "    padding: 0;\n",
              "    width: 32px;\n",
              "  }\n",
              "\n",
              "  .colab-df-quickchart:hover {\n",
              "    background-color: var(--hover-bg-color);\n",
              "    box-shadow: 0 1px 2px rgba(60, 64, 67, 0.3), 0 1px 3px 1px rgba(60, 64, 67, 0.15);\n",
              "    fill: var(--button-hover-fill-color);\n",
              "  }\n",
              "\n",
              "  .colab-df-quickchart-complete:disabled,\n",
              "  .colab-df-quickchart-complete:disabled:hover {\n",
              "    background-color: var(--disabled-bg-color);\n",
              "    fill: var(--disabled-fill-color);\n",
              "    box-shadow: none;\n",
              "  }\n",
              "\n",
              "  .colab-df-spinner {\n",
              "    border: 2px solid var(--fill-color);\n",
              "    border-color: transparent;\n",
              "    border-bottom-color: var(--fill-color);\n",
              "    animation:\n",
              "      spin 1s steps(1) infinite;\n",
              "  }\n",
              "\n",
              "  @keyframes spin {\n",
              "    0% {\n",
              "      border-color: transparent;\n",
              "      border-bottom-color: var(--fill-color);\n",
              "      border-left-color: var(--fill-color);\n",
              "    }\n",
              "    20% {\n",
              "      border-color: transparent;\n",
              "      border-left-color: var(--fill-color);\n",
              "      border-top-color: var(--fill-color);\n",
              "    }\n",
              "    30% {\n",
              "      border-color: transparent;\n",
              "      border-left-color: var(--fill-color);\n",
              "      border-top-color: var(--fill-color);\n",
              "      border-right-color: var(--fill-color);\n",
              "    }\n",
              "    40% {\n",
              "      border-color: transparent;\n",
              "      border-right-color: var(--fill-color);\n",
              "      border-top-color: var(--fill-color);\n",
              "    }\n",
              "    60% {\n",
              "      border-color: transparent;\n",
              "      border-right-color: var(--fill-color);\n",
              "    }\n",
              "    80% {\n",
              "      border-color: transparent;\n",
              "      border-right-color: var(--fill-color);\n",
              "      border-bottom-color: var(--fill-color);\n",
              "    }\n",
              "    90% {\n",
              "      border-color: transparent;\n",
              "      border-bottom-color: var(--fill-color);\n",
              "    }\n",
              "  }\n",
              "</style>\n",
              "\n",
              "  <script>\n",
              "    async function quickchart(key) {\n",
              "      const quickchartButtonEl =\n",
              "        document.querySelector('#' + key + ' button');\n",
              "      quickchartButtonEl.disabled = true;  // To prevent multiple clicks.\n",
              "      quickchartButtonEl.classList.add('colab-df-spinner');\n",
              "      try {\n",
              "        const charts = await google.colab.kernel.invokeFunction(\n",
              "            'suggestCharts', [key], {});\n",
              "      } catch (error) {\n",
              "        console.error('Error during call to suggestCharts:', error);\n",
              "      }\n",
              "      quickchartButtonEl.classList.remove('colab-df-spinner');\n",
              "      quickchartButtonEl.classList.add('colab-df-quickchart-complete');\n",
              "    }\n",
              "    (() => {\n",
              "      let quickchartButtonEl =\n",
              "        document.querySelector('#df-7267c689-feb3-49ca-a492-8c9d40b2e618 button');\n",
              "      quickchartButtonEl.style.display =\n",
              "        google.colab.kernel.accessAllowed ? 'block' : 'none';\n",
              "    })();\n",
              "  </script>\n",
              "</div>\n",
              "    </div>\n",
              "  </div>\n"
            ],
            "text/plain": [
              "           Subject          Run          ACC  ACC_NONTARGET   ACC_TARGET  \\\n",
              "count  5382.000000  5382.000000  5382.000000    5376.000000  5382.000000   \n",
              "mean    168.880342     0.500000     0.887769       0.910280     0.809365   \n",
              "std      97.799125     0.500046     0.152766       0.143950     0.322284   \n",
              "min       0.000000     0.000000     0.100000       0.000000     0.000000   \n",
              "25%      84.250000     0.000000     0.800000       0.833333     0.500000   \n",
              "50%     169.000000     0.500000     1.000000       1.000000     1.000000   \n",
              "75%     253.750000     1.000000     1.000000       1.000000     1.000000   \n",
              "max     338.000000     1.000000     1.000000       1.000000     1.000000   \n",
              "\n",
              "         MEDIAN_RT  MEDIAN_RT_NONTARGET  MEDIAN_RT_TARGET  \n",
              "count  5376.000000          5373.000000       4894.000000  \n",
              "mean    861.748326           869.721292        872.043318  \n",
              "std     241.638974           254.814939        276.054963  \n",
              "min     291.000000           291.000000         75.000000  \n",
              "25%     676.000000           675.000000        665.500000  \n",
              "50%     821.500000           828.500000        815.000000  \n",
              "75%    1005.500000          1023.500000       1023.500000  \n",
              "max    1839.000000          1839.000000       1978.000000  "
            ]
          },
          "execution_count": 15,
          "metadata": {},
          "output_type": "execute_result"
        }
      ],
      "source": [
        "wm_behavior.describe()"
      ]
    },
    {
      "cell_type": "code",
      "execution_count": null,
      "metadata": {
        "colab": {
          "background_save": true
        },
        "id": "TlnYD1E6JFaV",
        "outputId": "5a55b67b-b0f0-4e94-cde2-867a686c087e"
      },
      "outputs": [
        {
          "data": {
            "application/vnd.google.colaboratory.intrinsic+json": {
              "summary": "{\n  \"name\": \"wm_behavior\",\n  \"rows\": 5382,\n  \"fields\": [\n    {\n      \"column\": \"Subject\",\n      \"properties\": {\n        \"dtype\": \"number\",\n        \"std\": 97,\n        \"min\": 0,\n        \"max\": 338,\n        \"num_unique_values\": 339,\n        \"samples\": [\n          284,\n          116,\n          113\n        ],\n        \"semantic_type\": \"\",\n        \"description\": \"\"\n      }\n    },\n    {\n      \"column\": \"Run\",\n      \"properties\": {\n        \"dtype\": \"number\",\n        \"std\": 0,\n        \"min\": 0,\n        \"max\": 1,\n        \"num_unique_values\": 2,\n        \"samples\": [\n          1,\n          0\n        ],\n        \"semantic_type\": \"\",\n        \"description\": \"\"\n      }\n    },\n    {\n      \"column\": \"ConditionName\",\n      \"properties\": {\n        \"dtype\": \"category\",\n        \"num_unique_values\": 8,\n        \"samples\": [\n          \"0BK_FACE\",\n          \"2BK_FACE\"\n        ],\n        \"semantic_type\": \"\",\n        \"description\": \"\"\n      }\n    },\n    {\n      \"column\": \"ACC\",\n      \"properties\": {\n        \"dtype\": \"number\",\n        \"std\": 0.15276628850848809,\n        \"min\": 0.1,\n        \"max\": 1.0,\n        \"num_unique_values\": 16,\n        \"samples\": [\n          1.0,\n          0.75\n        ],\n        \"semantic_type\": \"\",\n        \"description\": \"\"\n      }\n    },\n    {\n      \"column\": \"ACC_NONTARGET\",\n      \"properties\": {\n        \"dtype\": \"number\",\n        \"std\": 0.14394957484204174,\n        \"min\": 0.0,\n        \"max\": 1.0,\n        \"num_unique_values\": 13,\n        \"samples\": [\n          0.0,\n          0.3333333333329999\n        ],\n        \"semantic_type\": \"\",\n        \"description\": \"\"\n      }\n    },\n    {\n      \"column\": \"ACC_TARGET\",\n      \"properties\": {\n        \"dtype\": \"number\",\n        \"std\": 0.3222839496514043,\n        \"min\": 0.0,\n        \"max\": 1.0,\n        \"num_unique_values\": 3,\n        \"samples\": [\n          1.0,\n          0.5\n        ],\n        \"semantic_type\": \"\",\n        \"description\": \"\"\n      }\n    },\n    {\n      \"column\": \"MEDIAN_RT\",\n      \"properties\": {\n        \"dtype\": \"number\",\n        \"std\": 241.63897421082956,\n        \"min\": 291.0,\n        \"max\": 1839.0,\n        \"num_unique_values\": 1704,\n        \"samples\": [\n          834.5,\n          649.0\n        ],\n        \"semantic_type\": \"\",\n        \"description\": \"\"\n      }\n    },\n    {\n      \"column\": \"MEDIAN_RT_NONTARGET\",\n      \"properties\": {\n        \"dtype\": \"number\",\n        \"std\": 254.81493871844938,\n        \"min\": 291.0,\n        \"max\": 1839.0,\n        \"num_unique_values\": 1787,\n        \"samples\": [\n          871.0,\n          1097.0\n        ],\n        \"semantic_type\": \"\",\n        \"description\": \"\"\n      }\n    },\n    {\n      \"column\": \"MEDIAN_RT_TARGET\",\n      \"properties\": {\n        \"dtype\": \"number\",\n        \"std\": 276.05496281111226,\n        \"min\": 75.0,\n        \"max\": 1978.0,\n        \"num_unique_values\": 1806,\n        \"samples\": [\n          710.0,\n          1797.0\n        ],\n        \"semantic_type\": \"\",\n        \"description\": \"\"\n      }\n    }\n  ]\n}",
              "type": "dataframe",
              "variable_name": "wm_behavior"
            },
            "text/html": [
              "\n",
              "  <div id=\"df-2d9bea5f-200b-458a-a7d0-4d59d999d291\" class=\"colab-df-container\">\n",
              "    <div>\n",
              "<style scoped>\n",
              "    .dataframe tbody tr th:only-of-type {\n",
              "        vertical-align: middle;\n",
              "    }\n",
              "\n",
              "    .dataframe tbody tr th {\n",
              "        vertical-align: top;\n",
              "    }\n",
              "\n",
              "    .dataframe thead th {\n",
              "        text-align: right;\n",
              "    }\n",
              "</style>\n",
              "<table border=\"1\" class=\"dataframe\">\n",
              "  <thead>\n",
              "    <tr style=\"text-align: right;\">\n",
              "      <th></th>\n",
              "      <th>Subject</th>\n",
              "      <th>Run</th>\n",
              "      <th>ConditionName</th>\n",
              "      <th>ACC</th>\n",
              "      <th>ACC_NONTARGET</th>\n",
              "      <th>ACC_TARGET</th>\n",
              "      <th>MEDIAN_RT</th>\n",
              "      <th>MEDIAN_RT_NONTARGET</th>\n",
              "      <th>MEDIAN_RT_TARGET</th>\n",
              "    </tr>\n",
              "  </thead>\n",
              "  <tbody>\n",
              "    <tr>\n",
              "      <th>0</th>\n",
              "      <td>0</td>\n",
              "      <td>0</td>\n",
              "      <td>0BK_BODY</td>\n",
              "      <td>1.00</td>\n",
              "      <td>1.000000</td>\n",
              "      <td>1.0</td>\n",
              "      <td>705.5</td>\n",
              "      <td>740.5</td>\n",
              "      <td>696.0</td>\n",
              "    </tr>\n",
              "    <tr>\n",
              "      <th>1</th>\n",
              "      <td>0</td>\n",
              "      <td>0</td>\n",
              "      <td>0BK_FACE</td>\n",
              "      <td>1.00</td>\n",
              "      <td>1.000000</td>\n",
              "      <td>1.0</td>\n",
              "      <td>779.5</td>\n",
              "      <td>765.0</td>\n",
              "      <td>915.0</td>\n",
              "    </tr>\n",
              "    <tr>\n",
              "      <th>2</th>\n",
              "      <td>0</td>\n",
              "      <td>0</td>\n",
              "      <td>0BK_PLACE</td>\n",
              "      <td>1.00</td>\n",
              "      <td>1.000000</td>\n",
              "      <td>1.0</td>\n",
              "      <td>926.0</td>\n",
              "      <td>993.5</td>\n",
              "      <td>811.5</td>\n",
              "    </tr>\n",
              "    <tr>\n",
              "      <th>3</th>\n",
              "      <td>0</td>\n",
              "      <td>0</td>\n",
              "      <td>0BK_TOOL</td>\n",
              "      <td>1.00</td>\n",
              "      <td>1.000000</td>\n",
              "      <td>1.0</td>\n",
              "      <td>807.5</td>\n",
              "      <td>807.5</td>\n",
              "      <td>807.5</td>\n",
              "    </tr>\n",
              "    <tr>\n",
              "      <th>4</th>\n",
              "      <td>0</td>\n",
              "      <td>0</td>\n",
              "      <td>2BK_BODY</td>\n",
              "      <td>1.00</td>\n",
              "      <td>1.000000</td>\n",
              "      <td>1.0</td>\n",
              "      <td>1133.0</td>\n",
              "      <td>1205.5</td>\n",
              "      <td>732.5</td>\n",
              "    </tr>\n",
              "    <tr>\n",
              "      <th>5</th>\n",
              "      <td>0</td>\n",
              "      <td>0</td>\n",
              "      <td>2BK_FACE</td>\n",
              "      <td>1.00</td>\n",
              "      <td>1.000000</td>\n",
              "      <td>1.0</td>\n",
              "      <td>1308.5</td>\n",
              "      <td>1350.5</td>\n",
              "      <td>1064.5</td>\n",
              "    </tr>\n",
              "    <tr>\n",
              "      <th>6</th>\n",
              "      <td>0</td>\n",
              "      <td>0</td>\n",
              "      <td>2BK_PLACE</td>\n",
              "      <td>1.00</td>\n",
              "      <td>1.000000</td>\n",
              "      <td>1.0</td>\n",
              "      <td>1016.0</td>\n",
              "      <td>1016.0</td>\n",
              "      <td>1097.0</td>\n",
              "    </tr>\n",
              "    <tr>\n",
              "      <th>7</th>\n",
              "      <td>0</td>\n",
              "      <td>0</td>\n",
              "      <td>2BK_TOOL</td>\n",
              "      <td>0.75</td>\n",
              "      <td>0.666667</td>\n",
              "      <td>1.0</td>\n",
              "      <td>892.0</td>\n",
              "      <td>892.0</td>\n",
              "      <td>915.5</td>\n",
              "    </tr>\n",
              "    <tr>\n",
              "      <th>8</th>\n",
              "      <td>0</td>\n",
              "      <td>1</td>\n",
              "      <td>0BK_BODY</td>\n",
              "      <td>1.00</td>\n",
              "      <td>1.000000</td>\n",
              "      <td>1.0</td>\n",
              "      <td>1117.0</td>\n",
              "      <td>1117.0</td>\n",
              "      <td>1350.0</td>\n",
              "    </tr>\n",
              "    <tr>\n",
              "      <th>9</th>\n",
              "      <td>0</td>\n",
              "      <td>1</td>\n",
              "      <td>0BK_FACE</td>\n",
              "      <td>1.00</td>\n",
              "      <td>1.000000</td>\n",
              "      <td>1.0</td>\n",
              "      <td>806.5</td>\n",
              "      <td>806.5</td>\n",
              "      <td>755.5</td>\n",
              "    </tr>\n",
              "    <tr>\n",
              "      <th>10</th>\n",
              "      <td>0</td>\n",
              "      <td>1</td>\n",
              "      <td>0BK_PLACE</td>\n",
              "      <td>1.00</td>\n",
              "      <td>1.000000</td>\n",
              "      <td>1.0</td>\n",
              "      <td>799.0</td>\n",
              "      <td>779.0</td>\n",
              "      <td>820.0</td>\n",
              "    </tr>\n",
              "    <tr>\n",
              "      <th>11</th>\n",
              "      <td>0</td>\n",
              "      <td>1</td>\n",
              "      <td>0BK_TOOL</td>\n",
              "      <td>1.00</td>\n",
              "      <td>1.000000</td>\n",
              "      <td>1.0</td>\n",
              "      <td>877.0</td>\n",
              "      <td>926.5</td>\n",
              "      <td>649.5</td>\n",
              "    </tr>\n",
              "    <tr>\n",
              "      <th>12</th>\n",
              "      <td>0</td>\n",
              "      <td>1</td>\n",
              "      <td>2BK_BODY</td>\n",
              "      <td>0.75</td>\n",
              "      <td>0.666667</td>\n",
              "      <td>1.0</td>\n",
              "      <td>1009.5</td>\n",
              "      <td>999.0</td>\n",
              "      <td>1139.5</td>\n",
              "    </tr>\n",
              "    <tr>\n",
              "      <th>13</th>\n",
              "      <td>0</td>\n",
              "      <td>1</td>\n",
              "      <td>2BK_FACE</td>\n",
              "      <td>1.00</td>\n",
              "      <td>1.000000</td>\n",
              "      <td>1.0</td>\n",
              "      <td>1040.5</td>\n",
              "      <td>1060.0</td>\n",
              "      <td>821.5</td>\n",
              "    </tr>\n",
              "    <tr>\n",
              "      <th>14</th>\n",
              "      <td>0</td>\n",
              "      <td>1</td>\n",
              "      <td>2BK_PLACE</td>\n",
              "      <td>1.00</td>\n",
              "      <td>1.000000</td>\n",
              "      <td>1.0</td>\n",
              "      <td>1114.0</td>\n",
              "      <td>1138.0</td>\n",
              "      <td>1076.5</td>\n",
              "    </tr>\n",
              "  </tbody>\n",
              "</table>\n",
              "</div>\n",
              "    <div class=\"colab-df-buttons\">\n",
              "\n",
              "  <div class=\"colab-df-container\">\n",
              "    <button class=\"colab-df-convert\" onclick=\"convertToInteractive('df-2d9bea5f-200b-458a-a7d0-4d59d999d291')\"\n",
              "            title=\"Convert this dataframe to an interactive table.\"\n",
              "            style=\"display:none;\">\n",
              "\n",
              "  <svg xmlns=\"http://www.w3.org/2000/svg\" height=\"24px\" viewBox=\"0 -960 960 960\">\n",
              "    <path d=\"M120-120v-720h720v720H120Zm60-500h600v-160H180v160Zm220 220h160v-160H400v160Zm0 220h160v-160H400v160ZM180-400h160v-160H180v160Zm440 0h160v-160H620v160ZM180-180h160v-160H180v160Zm440 0h160v-160H620v160Z\"/>\n",
              "  </svg>\n",
              "    </button>\n",
              "\n",
              "  <style>\n",
              "    .colab-df-container {\n",
              "      display:flex;\n",
              "      gap: 12px;\n",
              "    }\n",
              "\n",
              "    .colab-df-convert {\n",
              "      background-color: #E8F0FE;\n",
              "      border: none;\n",
              "      border-radius: 50%;\n",
              "      cursor: pointer;\n",
              "      display: none;\n",
              "      fill: #1967D2;\n",
              "      height: 32px;\n",
              "      padding: 0 0 0 0;\n",
              "      width: 32px;\n",
              "    }\n",
              "\n",
              "    .colab-df-convert:hover {\n",
              "      background-color: #E2EBFA;\n",
              "      box-shadow: 0px 1px 2px rgba(60, 64, 67, 0.3), 0px 1px 3px 1px rgba(60, 64, 67, 0.15);\n",
              "      fill: #174EA6;\n",
              "    }\n",
              "\n",
              "    .colab-df-buttons div {\n",
              "      margin-bottom: 4px;\n",
              "    }\n",
              "\n",
              "    [theme=dark] .colab-df-convert {\n",
              "      background-color: #3B4455;\n",
              "      fill: #D2E3FC;\n",
              "    }\n",
              "\n",
              "    [theme=dark] .colab-df-convert:hover {\n",
              "      background-color: #434B5C;\n",
              "      box-shadow: 0px 1px 3px 1px rgba(0, 0, 0, 0.15);\n",
              "      filter: drop-shadow(0px 1px 2px rgba(0, 0, 0, 0.3));\n",
              "      fill: #FFFFFF;\n",
              "    }\n",
              "  </style>\n",
              "\n",
              "    <script>\n",
              "      const buttonEl =\n",
              "        document.querySelector('#df-2d9bea5f-200b-458a-a7d0-4d59d999d291 button.colab-df-convert');\n",
              "      buttonEl.style.display =\n",
              "        google.colab.kernel.accessAllowed ? 'block' : 'none';\n",
              "\n",
              "      async function convertToInteractive(key) {\n",
              "        const element = document.querySelector('#df-2d9bea5f-200b-458a-a7d0-4d59d999d291');\n",
              "        const dataTable =\n",
              "          await google.colab.kernel.invokeFunction('convertToInteractive',\n",
              "                                                    [key], {});\n",
              "        if (!dataTable) return;\n",
              "\n",
              "        const docLinkHtml = 'Like what you see? Visit the ' +\n",
              "          '<a target=\"_blank\" href=https://colab.research.google.com/notebooks/data_table.ipynb>data table notebook</a>'\n",
              "          + ' to learn more about interactive tables.';\n",
              "        element.innerHTML = '';\n",
              "        dataTable['output_type'] = 'display_data';\n",
              "        await google.colab.output.renderOutput(dataTable, element);\n",
              "        const docLink = document.createElement('div');\n",
              "        docLink.innerHTML = docLinkHtml;\n",
              "        element.appendChild(docLink);\n",
              "      }\n",
              "    </script>\n",
              "  </div>\n",
              "\n",
              "\n",
              "<div id=\"df-e1d1e75e-2ddb-4e48-9b6e-95c38ef92957\">\n",
              "  <button class=\"colab-df-quickchart\" onclick=\"quickchart('df-e1d1e75e-2ddb-4e48-9b6e-95c38ef92957')\"\n",
              "            title=\"Suggest charts\"\n",
              "            style=\"display:none;\">\n",
              "\n",
              "<svg xmlns=\"http://www.w3.org/2000/svg\" height=\"24px\"viewBox=\"0 0 24 24\"\n",
              "     width=\"24px\">\n",
              "    <g>\n",
              "        <path d=\"M19 3H5c-1.1 0-2 .9-2 2v14c0 1.1.9 2 2 2h14c1.1 0 2-.9 2-2V5c0-1.1-.9-2-2-2zM9 17H7v-7h2v7zm4 0h-2V7h2v10zm4 0h-2v-4h2v4z\"/>\n",
              "    </g>\n",
              "</svg>\n",
              "  </button>\n",
              "\n",
              "<style>\n",
              "  .colab-df-quickchart {\n",
              "      --bg-color: #E8F0FE;\n",
              "      --fill-color: #1967D2;\n",
              "      --hover-bg-color: #E2EBFA;\n",
              "      --hover-fill-color: #174EA6;\n",
              "      --disabled-fill-color: #AAA;\n",
              "      --disabled-bg-color: #DDD;\n",
              "  }\n",
              "\n",
              "  [theme=dark] .colab-df-quickchart {\n",
              "      --bg-color: #3B4455;\n",
              "      --fill-color: #D2E3FC;\n",
              "      --hover-bg-color: #434B5C;\n",
              "      --hover-fill-color: #FFFFFF;\n",
              "      --disabled-bg-color: #3B4455;\n",
              "      --disabled-fill-color: #666;\n",
              "  }\n",
              "\n",
              "  .colab-df-quickchart {\n",
              "    background-color: var(--bg-color);\n",
              "    border: none;\n",
              "    border-radius: 50%;\n",
              "    cursor: pointer;\n",
              "    display: none;\n",
              "    fill: var(--fill-color);\n",
              "    height: 32px;\n",
              "    padding: 0;\n",
              "    width: 32px;\n",
              "  }\n",
              "\n",
              "  .colab-df-quickchart:hover {\n",
              "    background-color: var(--hover-bg-color);\n",
              "    box-shadow: 0 1px 2px rgba(60, 64, 67, 0.3), 0 1px 3px 1px rgba(60, 64, 67, 0.15);\n",
              "    fill: var(--button-hover-fill-color);\n",
              "  }\n",
              "\n",
              "  .colab-df-quickchart-complete:disabled,\n",
              "  .colab-df-quickchart-complete:disabled:hover {\n",
              "    background-color: var(--disabled-bg-color);\n",
              "    fill: var(--disabled-fill-color);\n",
              "    box-shadow: none;\n",
              "  }\n",
              "\n",
              "  .colab-df-spinner {\n",
              "    border: 2px solid var(--fill-color);\n",
              "    border-color: transparent;\n",
              "    border-bottom-color: var(--fill-color);\n",
              "    animation:\n",
              "      spin 1s steps(1) infinite;\n",
              "  }\n",
              "\n",
              "  @keyframes spin {\n",
              "    0% {\n",
              "      border-color: transparent;\n",
              "      border-bottom-color: var(--fill-color);\n",
              "      border-left-color: var(--fill-color);\n",
              "    }\n",
              "    20% {\n",
              "      border-color: transparent;\n",
              "      border-left-color: var(--fill-color);\n",
              "      border-top-color: var(--fill-color);\n",
              "    }\n",
              "    30% {\n",
              "      border-color: transparent;\n",
              "      border-left-color: var(--fill-color);\n",
              "      border-top-color: var(--fill-color);\n",
              "      border-right-color: var(--fill-color);\n",
              "    }\n",
              "    40% {\n",
              "      border-color: transparent;\n",
              "      border-right-color: var(--fill-color);\n",
              "      border-top-color: var(--fill-color);\n",
              "    }\n",
              "    60% {\n",
              "      border-color: transparent;\n",
              "      border-right-color: var(--fill-color);\n",
              "    }\n",
              "    80% {\n",
              "      border-color: transparent;\n",
              "      border-right-color: var(--fill-color);\n",
              "      border-bottom-color: var(--fill-color);\n",
              "    }\n",
              "    90% {\n",
              "      border-color: transparent;\n",
              "      border-bottom-color: var(--fill-color);\n",
              "    }\n",
              "  }\n",
              "</style>\n",
              "\n",
              "  <script>\n",
              "    async function quickchart(key) {\n",
              "      const quickchartButtonEl =\n",
              "        document.querySelector('#' + key + ' button');\n",
              "      quickchartButtonEl.disabled = true;  // To prevent multiple clicks.\n",
              "      quickchartButtonEl.classList.add('colab-df-spinner');\n",
              "      try {\n",
              "        const charts = await google.colab.kernel.invokeFunction(\n",
              "            'suggestCharts', [key], {});\n",
              "      } catch (error) {\n",
              "        console.error('Error during call to suggestCharts:', error);\n",
              "      }\n",
              "      quickchartButtonEl.classList.remove('colab-df-spinner');\n",
              "      quickchartButtonEl.classList.add('colab-df-quickchart-complete');\n",
              "    }\n",
              "    (() => {\n",
              "      let quickchartButtonEl =\n",
              "        document.querySelector('#df-e1d1e75e-2ddb-4e48-9b6e-95c38ef92957 button');\n",
              "      quickchartButtonEl.style.display =\n",
              "        google.colab.kernel.accessAllowed ? 'block' : 'none';\n",
              "    })();\n",
              "  </script>\n",
              "</div>\n",
              "    </div>\n",
              "  </div>\n"
            ],
            "text/plain": [
              "    Subject  Run ConditionName   ACC  ACC_NONTARGET  ACC_TARGET  MEDIAN_RT  \\\n",
              "0         0    0      0BK_BODY  1.00       1.000000         1.0      705.5   \n",
              "1         0    0      0BK_FACE  1.00       1.000000         1.0      779.5   \n",
              "2         0    0     0BK_PLACE  1.00       1.000000         1.0      926.0   \n",
              "3         0    0      0BK_TOOL  1.00       1.000000         1.0      807.5   \n",
              "4         0    0      2BK_BODY  1.00       1.000000         1.0     1133.0   \n",
              "5         0    0      2BK_FACE  1.00       1.000000         1.0     1308.5   \n",
              "6         0    0     2BK_PLACE  1.00       1.000000         1.0     1016.0   \n",
              "7         0    0      2BK_TOOL  0.75       0.666667         1.0      892.0   \n",
              "8         0    1      0BK_BODY  1.00       1.000000         1.0     1117.0   \n",
              "9         0    1      0BK_FACE  1.00       1.000000         1.0      806.5   \n",
              "10        0    1     0BK_PLACE  1.00       1.000000         1.0      799.0   \n",
              "11        0    1      0BK_TOOL  1.00       1.000000         1.0      877.0   \n",
              "12        0    1      2BK_BODY  0.75       0.666667         1.0     1009.5   \n",
              "13        0    1      2BK_FACE  1.00       1.000000         1.0     1040.5   \n",
              "14        0    1     2BK_PLACE  1.00       1.000000         1.0     1114.0   \n",
              "\n",
              "    MEDIAN_RT_NONTARGET  MEDIAN_RT_TARGET  \n",
              "0                 740.5             696.0  \n",
              "1                 765.0             915.0  \n",
              "2                 993.5             811.5  \n",
              "3                 807.5             807.5  \n",
              "4                1205.5             732.5  \n",
              "5                1350.5            1064.5  \n",
              "6                1016.0            1097.0  \n",
              "7                 892.0             915.5  \n",
              "8                1117.0            1350.0  \n",
              "9                 806.5             755.5  \n",
              "10                779.0             820.0  \n",
              "11                926.5             649.5  \n",
              "12                999.0            1139.5  \n",
              "13               1060.0             821.5  \n",
              "14               1138.0            1076.5  "
            ]
          },
          "execution_count": 16,
          "metadata": {},
          "output_type": "execute_result"
        }
      ],
      "source": [
        "wm_behavior.head(15)"
      ]
    },
    {
      "cell_type": "markdown",
      "metadata": {
        "id": "j2KAQ-i4elQ_"
      },
      "source": [
        "## Times series exploratory Work"
      ]
    },
    {
      "cell_type": "code",
      "execution_count": null,
      "metadata": {
        "colab": {
          "background_save": true
        },
        "id": "b6MUPAWJhK_y",
        "outputId": "75f1ed69-0270-481c-88d9-3f5d35d5a9fc"
      },
      "outputs": [
        {
          "name": "stdout",
          "output_type": "stream",
          "text": [
            "['vol_to_surf', 'download_data', 'load_regions_and_atlas', 'read_behavior_data', 'get_image_ids', 'load_timeseries', 'load_single_timeseries', 'load_evs', 'condition_frames', 'selective_average', 'seconds_to_samples', 'get_conds', 'extract_frontoparietal_parcels', 'get_cond_onsets', 'get_cond_timeseries']\n"
          ]
        }
      ],
      "source": [
        "print(function_list)"
      ]
    },
    {
      "cell_type": "code",
      "execution_count": null,
      "metadata": {
        "colab": {
          "background_save": true
        },
        "id": "ynRTEmhKgqiy",
        "outputId": "d42b516e-c9e0-489c-f3aa-35065b93c1ea"
      },
      "outputs": [
        {
          "name": "stdout",
          "output_type": "stream",
          "text": [
            "Help on function load_timeseries in module __main__:\n",
            "\n",
            "load_timeseries(subject, name, dir, runs=None, concat=True, remove_mean=True)\n",
            "    Load timeseries data for a single subject.\n",
            "    \n",
            "    Args:\n",
            "      subject (int): 0-based subject ID to load\n",
            "      name (str) : Name of experiment (\"rest\" or name of task) to load\n",
            "      dir (str) : data directory\n",
            "      run (None or int or list of ints): 0-based run(s) of the task to load,\n",
            "        or None to load all runs.\n",
            "      concat (bool) : If True, concatenate multiple runs in time\n",
            "      remove_mean (bool) : If True, subtract the parcel-wise mean\n",
            "    \n",
            "    Returns\n",
            "      ts (n_parcel x n_tp array): Array of BOLD data values\n",
            "\n"
          ]
        }
      ],
      "source": [
        "help(load_timeseries)"
      ]
    },
    {
      "cell_type": "code",
      "execution_count": null,
      "metadata": {
        "colab": {
          "background_save": true
        },
        "id": "2W4l6XMZhXGo",
        "outputId": "93b754ce-5751-4826-8d76-e6ba5b8d587b"
      },
      "outputs": [
        {
          "name": "stdout",
          "output_type": "stream",
          "text": [
            "Help on function load_single_timeseries in module __main__:\n",
            "\n",
            "load_single_timeseries(subject, bold_run, dir, remove_mean=True)\n",
            "    Load timeseries data for a single subject and single run.\n",
            "    \n",
            "    Args:\n",
            "      subject (int): 0-based subject ID to load\n",
            "      bold_run (int): 1-based run index, across all tasks\n",
            "      dir (str) : data directory\n",
            "      remove_mean (bool): If True, subtract the parcel-wise mean\n",
            "    \n",
            "    Returns\n",
            "      ts (n_parcel x n_timepoint array): Array of BOLD data values\n",
            "\n"
          ]
        }
      ],
      "source": [
        "help(load_single_timeseries)"
      ]
    },
    {
      "cell_type": "code",
      "execution_count": null,
      "metadata": {
        "colab": {
          "background_save": true
        },
        "id": "ZqrAnfCrKOu2",
        "outputId": "0cc9b493-3ed8-4677-a6a3-b012ca4a92f2"
      },
      "outputs": [
        {
          "name": "stdout",
          "output_type": "stream",
          "text": [
            "type(ts0): <class 'numpy.ndarray'>\n",
            "ts0.shape: (360, 810)\n",
            "Number of elements in ts0: 291600\n",
            "ts0.dtype: float64\n",
            "[[ -16.91901235  -53.11901235  -54.61901235 ...  -82.17975309\n",
            "   -77.37975309  -89.27975309]\n",
            " [  63.30716049   26.30716049   45.30716049 ...  -46.91111111\n",
            "     6.98888889  -20.51111111]\n",
            " [ 175.83382716   72.73382716   65.23382716 ...  -43.18666667\n",
            "   -57.88666667  -90.68666667]\n",
            " ...\n",
            " [ 137.83901235   59.63901235   53.93901235 ...   18.26518519\n",
            "    13.36518519  -37.43481481]\n",
            " [  53.99753086  -16.20246914  -79.10246914 ... -105.61259259\n",
            "   -96.41259259  -99.71259259]\n",
            " [ -86.74691358 -113.34691358 -129.44691358 ...    5.38666667\n",
            "    23.58666667  -23.41333333]]\n"
          ]
        }
      ],
      "source": [
        "ts0 = load_timeseries(0, \"wm\", fpath_task)\n",
        "\n",
        "print('type(ts0):', type(ts0))\n",
        "print('ts0.shape:', ts0.shape)\n",
        "print('Number of elements in ts0:', ts0.size)\n",
        "print('ts0.dtype:', ts0.dtype)\n",
        "print(ts0)"
      ]
    },
    {
      "cell_type": "code",
      "execution_count": null,
      "metadata": {
        "colab": {
          "background_save": true
        },
        "id": "oGEDcJbciaRc"
      },
      "outputs": [],
      "source": [
        "#ts0 = load_single_timeseries(0, 1, fpath_task)\n",
        "\n",
        "# have a problem with the directory."
      ]
    },
    {
      "cell_type": "code",
      "execution_count": null,
      "metadata": {
        "colab": {
          "background_save": true
        },
        "id": "yOk08efOOnLa",
        "outputId": "deae1cb0-faa0-4ae9-d2c6-11bb43708884"
      },
      "outputs": [
        {
          "data": {
            "text/plain": [
              "[<matplotlib.lines.Line2D at 0x7f724420cf70>]"
            ]
          },
          "execution_count": 22,
          "metadata": {},
          "output_type": "execute_result"
        },
        {
          "data": {
            "image/png": "[encoded data removed]",
            "text/plain": [
              "<Figure size 800x600 with 1 Axes>"
            ]
          },
          "metadata": {
            "image/png": {
              "height": 575,
              "width": 775
            }
          },
          "output_type": "display_data"
        }
      ],
      "source": [
        "plt.plot(ts0[0, :])"
      ]
    },
    {
      "cell_type": "code",
      "execution_count": null,
      "metadata": {
        "colab": {
          "background_save": true
        },
        "id": "05HUJfWyGWCg",
        "outputId": "819e9191-16e3-4e0a-b58c-afa4335238f2"
      },
      "outputs": [
        {
          "name": "stdout",
          "output_type": "stream",
          "text": [
            "Help on function load_timeseries in module __main__:\n",
            "\n",
            "load_timeseries(subject, name, dir, runs=None, concat=True, remove_mean=True)\n",
            "    Load timeseries data for a single subject.\n",
            "    \n",
            "    Args:\n",
            "      subject (int): 0-based subject ID to load\n",
            "      name (str) : Name of experiment (\"rest\" or name of task) to load\n",
            "      dir (str) : data directory\n",
            "      run (None or int or list of ints): 0-based run(s) of the task to load,\n",
            "        or None to load all runs.\n",
            "      concat (bool) : If True, concatenate multiple runs in time\n",
            "      remove_mean (bool) : If True, subtract the parcel-wise mean\n",
            "    \n",
            "    Returns\n",
            "      ts (n_parcel x n_tp array): Array of BOLD data values\n",
            "\n"
          ]
        }
      ],
      "source": [
        "# curious about a fun? use help()\n",
        "help(load_timeseries)\n"
      ]
    },
    {
      "cell_type": "markdown",
      "metadata": {
        "id": "-ysUANiIOtjR"
      },
      "source": [
        "## Concatenate conditions\n",
        "\n",
        "This can be used to concatenate any number of conditions within any task. Just provide a list of all conditions you wanna concat and task id."
      ]
    },
    {
      "cell_type": "code",
      "execution_count": null,
      "metadata": {
        "colab": {
          "background_save": true
        },
        "id": "_0iJf-Pq-lm1",
        "outputId": "fc7d5c5d-d8bf-40df-ee72-952ae75cf218"
      },
      "outputs": [
        {
          "name": "stdout",
          "output_type": "stream",
          "text": [
            "Help on function get_conds in module __main__:\n",
            "\n",
            "get_conds(subject, task, conds, concat=False, skip=0)\n",
            "    Get timeseries for conditions of interest.\n",
            "    Args:\n",
            "    subject (int): subject id,\n",
            "    task (string): task id (\"wm\", \"gambling\" etc.)\n",
            "    conds (list): list of conditions to concatenate.\n",
            "    concat (bool): If true, concatenate conditions instead of making a list.\n",
            "    skip (int):  Ignore this many frames at the start of each trial, to account\n",
            "        for hemodynamic lag\n",
            "    Returns:\n",
            "    ndarray (n_parcel x n_tp array) or list of ndarrays: Array of concatenated BOLD data values or a list of (not concatenated) data values.\n",
            "\n"
          ]
        }
      ],
      "source": [
        "help(get_conds)"
      ]
    },
    {
      "cell_type": "code",
      "execution_count": null,
      "metadata": {
        "colab": {
          "background_save": true
        },
        "id": "24FZ1gS0OvQ-",
        "outputId": "e74805d7-7bad-45a9-e70c-fd3292a25285"
      },
      "outputs": [
        {
          "name": "stdout",
          "output_type": "stream",
          "text": [
            "(360, 312)\n"
          ]
        }
      ],
      "source": [
        "# list all 2-back conditions\n",
        "two_back_conds = ['2bk_body', '2bk_faces', '2bk_places', '2bk_tools']\n",
        "\n",
        "# list all 0-back conditions\n",
        "no_back_conds = ['0bk_body', '0bk_faces', '0bk_places', '0bk_tools']\n",
        "\n",
        "two_back, no_back = [], []\n",
        "for s in subjects:\n",
        "  two_back.append(get_conds(s, \"wm\", two_back_conds, concat=True))\n",
        "  no_back.append(get_conds(s, \"wm\", no_back_conds, concat=True))\n",
        "\n",
        "print(two_back[0].shape)"
      ]
    },
    {
      "cell_type": "markdown",
      "metadata": {
        "id": "T82-apeJKZhj"
      },
      "source": [
        "## Extract FPN timeseries"
      ]
    },
    {
      "cell_type": "code",
      "execution_count": null,
      "metadata": {
        "colab": {
          "background_save": true
        },
        "id": "D6CDZdThdz0_",
        "outputId": "d5b5ac7e-2886-4b2a-e920-26b43fe45f3a"
      },
      "outputs": [
        {
          "name": "stdout",
          "output_type": "stream",
          "text": [
            "Help on function extract_frontoparietal_parcels in module __main__:\n",
            "\n",
            "extract_frontoparietal_parcels(two_back, no_back, region_info)\n",
            "    Extracts the Frontoparietal network parcels from two_back and no_back datasets.\n",
            "    \n",
            "    Parameters:\n",
            "    - two_back: List of NumPy arrays, each representing the time series data for a participant\n",
            "                during the two-back task with shape (regions:360, subjects:399).\n",
            "    - no_back: List of NumPy arrays, each representing the time series data for a participant\n",
            "                during the no-back task with shape (regions:360, subjects:399).\n",
            "    - region_info: A dictionary containing region metadata, including network assignments.\n",
            "    \n",
            "    Returns:\n",
            "    - two_back_fpn: List of NumPy arrays containing only the Frontoparietal network parcels\n",
            "                     from the two_back dataset. (subjetcs: 339, parcels: 50, timepoints:152)\n",
            "    - no_back_fpn: List of NumPy arrays containing only the Frontoparietal network parcels\n",
            "                    from the no_back dataset. (subjetcs: 339, parcels: 50, timepoints:152)\n",
            "\n"
          ]
        }
      ],
      "source": [
        "## Use the extract_frontoparietal_parcels function\n",
        "help(extract_frontoparietal_parcels)"
      ]
    },
    {
      "cell_type": "code",
      "execution_count": null,
      "metadata": {
        "colab": {
          "background_save": true
        },
        "id": "fZH8HIFyKmRc"
      },
      "outputs": [],
      "source": [
        "## Uses the extract_frontoparietal_parcels to extract timeseries of parcels belonging to FPN\n",
        "two_back_fpn, no_back_fpn = extract_frontoparietal_parcels(two_back, no_back, region_info)\n"
      ]
    },
    {
      "cell_type": "markdown",
      "metadata": {
        "id": "1R14UfE72_vN"
      },
      "source": [
        "## Get condition onsets & timeseries"
      ]
    },
    {
      "cell_type": "code",
      "execution_count": null,
      "metadata": {
        "colab": {
          "background_save": true
        },
        "id": "FZbsuDQh5vu_",
        "outputId": "766a02eb-da70-4b4a-e609-ffca22f3ae48"
      },
      "outputs": [
        {
          "name": "stdout",
          "output_type": "stream",
          "text": [
            "Help on function get_cond_onsets in module __main__:\n",
            "\n",
            "get_cond_onsets(num_subjects, conditions, fpath_task)\n",
            "    Extracts the onsets of each condition of each subject\n",
            "    \n",
            "    Parameters:\n",
            "    - num_subjects: Integer, from how many subjects you would like to extract the data (maximum=338).\n",
            "    - conditions: List of wm conditions, e.g., ['2bk_body', '2bk_faces',...\n",
            "        ...'2bk_places', '2bk_tools','0bk_body', '0bk_faces', '0bk_places', '0bk_tools']\n",
            "    - fpath_task: path to the event info\n",
            "    \n",
            "    Returns:\n",
            "    - Onsets: pandas dataframe containing the onset time per condition,\n",
            "        separated for each run (subject:339 (0 to 338) x condition:16 (2bk_body_run0, 2bk_body_run1, etc.))\n",
            "\n"
          ]
        }
      ],
      "source": [
        "help(get_cond_onsets)"
      ]
    },
    {
      "cell_type": "code",
      "execution_count": null,
      "metadata": {
        "colab": {
          "background_save": true
        },
        "id": "m6LF2U-j6luJ",
        "outputId": "53d9c35d-455a-4161-ab3d-6f818bd417ce"
      },
      "outputs": [
        {
          "name": "stdout",
          "output_type": "stream",
          "text": [
            "Help on function get_cond_timeseries in module __main__:\n",
            "\n",
            "get_cond_timeseries(num_subjects, conditions, fpath_task, Onsets)\n",
            "    Extracts the timeseries of each condition of each subject (360 ROI * 38 or 39 timepoints)\n",
            "    \n",
            "    Parameters:\n",
            "    - num_subjects: Integer, from how many subjects you would like to extract the data (maximum=338).\n",
            "    - conditions: List of wm conditions, e.g., ['2bk_body', '2bk_faces',...\n",
            "        ...'2bk_places', '2bk_tools','0bk_body', '0bk_faces', '0bk_places', '0bk_tools']\n",
            "    - fpath_task: path to the event info\n",
            "    \n",
            "    Returns:\n",
            "    - TimeSeries: pandas dataframe containing the timeseries per condition, separated for each run\n",
            "        (subject:339 (0 to 338) x condition:16 (2bk_body_run0, 2bk_body_run1, etc.)),\n",
            "        each cell of the pd dataframe contains the timeseries of all 360 ROIs\n",
            "\n"
          ]
        }
      ],
      "source": [
        "help(get_cond_timeseries)"
      ]
    },
    {
      "cell_type": "code",
      "execution_count": null,
      "metadata": {
        "colab": {
          "background_save": true
        },
        "id": "Z-xMiYs_5p9F",
        "outputId": "4819a36f-4894-4a59-c301-a6f161245d57"
      },
      "outputs": [
        {
          "name": "stdout",
          "output_type": "stream",
          "text": [
            "   2bk_body_run0  2bk_body_run1  2bk_faces_run0  2bk_faces_run1  \\\n",
            "0          7.997        150.593         178.794          79.275   \n",
            "1          7.996        150.806         179.021          79.355   \n",
            "2          7.997        150.538         178.767          79.234   \n",
            "3          7.997        150.514         178.783          79.209   \n",
            "4          7.997        150.966         179.141          79.434   \n",
            "\n",
            "   2bk_places_run0  2bk_places_run1  2bk_tools_run0  2bk_tools_run1  \\\n",
            "0          250.219          178.755          79.368           7.997   \n",
            "1          250.499          178.968          79.434           7.997   \n",
            "2          250.071          178.646          79.368           7.997   \n",
            "3          250.088          178.596          79.369           7.997   \n",
            "4          250.712          179.141          79.488           7.997   \n",
            "\n",
            "   0bk_body_run0  0bk_body_run1  0bk_faces_run0  0bk_faces_run1  \\\n",
            "0        107.463         36.146          36.159         222.057   \n",
            "1        107.650         36.226          36.199         222.311   \n",
            "2        107.463         36.132          36.159         221.882   \n",
            "3        107.464         36.133          36.159         221.832   \n",
            "4        107.730         36.319          36.265         222.443   \n",
            "\n",
            "   0bk_places_run0  0bk_places_run1  0bk_tools_run0  0bk_tools_run1  \n",
            "0          150.579          250.339         222.057         107.503  \n",
            "1          150.805          250.593         222.363         107.664  \n",
            "2          150.552          250.097         221.989         107.462  \n",
            "3          150.567          250.048         222.006         107.438  \n",
            "4          150.912          250.739         222.523         107.796  \n"
          ]
        }
      ],
      "source": [
        "# Get condition onsets\n",
        "conditions=['2bk_body', '2bk_faces', '2bk_places', '2bk_tools','0bk_body', '0bk_faces', '0bk_places', '0bk_tools']\n",
        "num_subjects = 339\n",
        "\n",
        "Onsets = get_cond_onsets(num_subjects,conditions,fpath_task)\n",
        "\n",
        "print(Onsets.head())"
      ]
    },
    {
      "cell_type": "code",
      "execution_count": null,
      "metadata": {
        "colab": {
          "background_save": true
        },
        "id": "QojQe6vt6v65",
        "outputId": "7e61dc2d-bd8e-4b75-a3b1-d4db9875a59a"
      },
      "outputs": [
        {
          "name": "stdout",
          "output_type": "stream",
          "text": [
            "(339, 16)\n",
            "Index(['0', '1', '2', '3', '4', '5', '6', '7', '8', '9',\n",
            "       ...\n",
            "       '329', '330', '331', '332', '333', '334', '335', '336', '337', '338'],\n",
            "      dtype='object', length=339)\n",
            "Index(['2bk_body_run0', '2bk_body_run1', '2bk_faces_run0', '2bk_faces_run1',\n",
            "       '2bk_places_run0', '2bk_places_run1', '2bk_tools_run0',\n",
            "       '2bk_tools_run1', '0bk_body_run0', '0bk_body_run1', '0bk_faces_run0',\n",
            "       '0bk_faces_run1', '0bk_places_run0', '0bk_places_run1',\n",
            "       '0bk_tools_run0', '0bk_tools_run1'],\n",
            "      dtype='object')\n",
            "              0           1           2           3           4           5  \\\n",
            "0   -108.519012 -130.319012 -116.919012 -132.319012 -109.219012  -46.819012   \n",
            "1     113.20716    69.80716   125.60716   126.00716   142.40716    47.40716   \n",
            "2     49.633827   58.733827   21.133827    0.333827   -1.166173   84.333827   \n",
            "3    -56.068395  -54.068395  -22.168395  -63.668395  -67.568395  -38.068395   \n",
            "4    -51.088148  -77.288148  -37.788148  -53.788148  -79.688148  -33.488148   \n",
            "..          ...         ...         ...         ...         ...         ...   \n",
            "355  120.583951  114.483951   78.383951   78.283951  113.083951  170.783951   \n",
            "356  -55.063407  -96.573407  -51.393407  -77.013407  -51.783407  -85.373407   \n",
            "357   79.739012  154.739012   45.139012   29.439012   -1.160988   51.139012   \n",
            "358  -50.302469 -110.602469 -130.702469  -77.302469  -29.502469  -41.602469   \n",
            "359 -182.546914 -150.346914 -178.246914 -333.546914  -94.446914  -87.946914   \n",
            "\n",
            "              6           7           8           9  ...          28  \\\n",
            "0    -18.919012   26.680988   70.680988   54.380988  ...   70.780988   \n",
            "1       6.00716    56.10716    59.20716     4.30716  ...    58.10716   \n",
            "2     48.533827   53.533827   96.333827   56.633827  ...   48.333827   \n",
            "3     12.131605   34.231605   65.031605   61.031605  ...   31.831605   \n",
            "4    -31.388148    2.211852   32.311852   17.511852  ...   18.011852   \n",
            "..          ...         ...         ...         ...  ...         ...   \n",
            "355   83.483951  137.683951  157.483951   94.283951  ...   48.283951   \n",
            "356  -62.233407  -18.543407  -22.443407   -8.703407  ...   -6.103407   \n",
            "357  104.539012   74.839012   50.039012  173.339012  ...  127.839012   \n",
            "358   11.497531  -23.202469   52.097531   75.797531  ...   83.797531   \n",
            "359 -160.046914  -77.746914  -15.146914  -24.246914  ... -124.646914   \n",
            "\n",
            "             29          30         31         32         33          34  \\\n",
            "0     59.380988   31.280988  40.680988  42.880988  58.180988   60.780988   \n",
            "1      21.50716     9.20716   57.70716   22.10716   16.70716     9.20716   \n",
            "2     34.633827  101.933827  20.833827  79.033827  10.833827   44.533827   \n",
            "3     44.731605   46.131605  51.331605  33.831605  47.231605   69.131605   \n",
            "4     23.511852   15.111852  26.411852  -4.788148  18.011852   48.811852   \n",
            "..          ...         ...        ...        ...        ...         ...   \n",
            "355  139.083951  120.683951  83.883951  57.583951 -21.216049  116.883951   \n",
            "356   -8.443407  -18.673407  10.766593  -8.333407  -2.743407  -37.063407   \n",
            "357  -41.760988   -1.160988   6.239012 -41.660988  90.939012   14.739012   \n",
            "358  -16.902469   21.997531  38.897531 -45.902469  -9.202469   26.397531   \n",
            "359  -72.746914  145.653086 -11.746914  -8.746914 -48.346914  -67.246914   \n",
            "\n",
            "             35          36         37  \n",
            "0     75.780988   59.980988  60.680988  \n",
            "1      78.90716    36.50716  -69.89284  \n",
            "2    120.033827   71.533827  60.133827  \n",
            "3     79.331605   90.531605  94.331605  \n",
            "4     59.811852   51.111852  42.111852  \n",
            "..          ...         ...        ...  \n",
            "355   36.483951   64.283951  99.683951  \n",
            "356  -18.843407  -52.753407 -22.733407  \n",
            "357   15.539012   28.839012  48.539012  \n",
            "358    3.897531  -55.902469  36.897531  \n",
            "359 -131.446914 -186.546914 -56.046914  \n",
            "\n",
            "[360 rows x 38 columns]\n"
          ]
        }
      ],
      "source": [
        "# Get events timeseries\n",
        "conditions=['2bk_body', '2bk_faces', '2bk_places', '2bk_tools','0bk_body', '0bk_faces', '0bk_places', '0bk_tools']\n",
        "num_subjects = 339\n",
        "TimeSeries = get_cond_timeseries(num_subjects,conditions,fpath_task,Onsets)\n",
        "\n",
        "print(TimeSeries.shape) # 339 * 16\n",
        "print(TimeSeries.index) # rows=339 subjects\n",
        "print(TimeSeries.columns) # columns=8 conditions in 2 runs\n",
        "print(TimeSeries.iloc[0,0]) # 360 ROIs * (38 or 39) slices"
      ]
    },
    {
      "cell_type": "markdown",
      "metadata": {
        "id": "Bitnp9QavVBB"
      },
      "source": [
        "## BOLD signal variability"
      ]
    },
    {
      "cell_type": "markdown",
      "metadata": {
        "id": "Afogqt0jvmxX"
      },
      "source": [
        "BOLD signal variability refers to the fluctuations in the blood oxygen level-dependent (BOLD) signal measured during functional magnetic resonance imaging (fMRI) experiments. It represents the moment-to-moment changes in brain activity rather than just the average or mean activity levels typically analyzed in fMRI studies. This is typically calculated as the standard deviation (SD) or entropy measures such as multiscale entropy (MSE) of the BOLD signal over time for each voxel or region of interest.\n",
        "\n",
        "**Key references**\n",
        "\n",
        "Whats the meaning of BOLD variavility?\n",
        "https://doi.org/10.1016/j.neuron.2021.01.023\n",
        "\n",
        "Using SD as a measure of BOLD variability\n",
        "https://doi.org/10.1016/j.neuroimage.2019.116373\n",
        "\n",
        "\n",
        "Using BOLD brain signal variability in task data:\n",
        "https://doi.org/10.1016/j.neuroimage.2017.12.031\n"
      ]
    },
    {
      "cell_type": "markdown",
      "metadata": {
        "id": "iXNtqsZ_yB0n"
      },
      "source": [
        "![boldsignalvar.png](data:image/png;base64,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)"
      ]
    },
    {
      "cell_type": "markdown",
      "metadata": {
        "id": "Tf6gadyayJQp"
      },
      "source": [
        "![boldsingal.jpg](data:image/jpeg;base64,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)"
      ]
    },
    {
      "cell_type": "markdown",
      "metadata": {
        "id": "sILZij23vbc9"
      },
      "source": [
        "### SD BOLD (whole-brain)"
      ]
    },
    {
      "cell_type": "markdown",
      "metadata": {
        "id": "iW5nQvdIVTpC"
      },
      "source": [
        "NOTE: here we might need to do some pre-processing steps\n",
        "\n",
        "e.g., \"normalize all\n",
        "blocks for each condition such that the overall 4D mean across brain and\n",
        "block was 100\""
      ]
    },
    {
      "cell_type": "code",
      "execution_count": null,
      "metadata": {
        "colab": {
          "background_save": true
        },
        "id": "12_tI2OyviHS",
        "outputId": "ab5335e9-e5f8-4120-ff7a-d1becd7e3766"
      },
      "outputs": [
        {
          "name": "stdout",
          "output_type": "stream",
          "text": [
            "(339, 360)\n",
            "(339, 360)\n"
          ]
        }
      ],
      "source": [
        "## Compute SD per condition per participant\n",
        "\n",
        "# Initialize lists to store standard deviations\n",
        "SD_two_back = []\n",
        "SD_no_back = []\n",
        "\n",
        "for s in subjects:\n",
        "    # Compute the standard deviation for each condition\n",
        "    sd_two_back = np.std(two_back, axis=2)  # axis=2 computes SD across time points\n",
        "    sd_no_back = np.std(no_back, axis=2)  # axis=2 computes SD across time points\n",
        "\n",
        "    # Append the results to the respective lists\n",
        "    SD_two_back.append(sd_two_back)\n",
        "    SD_no_back.append(sd_no_back)\n",
        "\n",
        "# Print shapes of the first elements in the lists to verify\n",
        "print(SD_two_back[0].shape)\n",
        "print(SD_no_back[0].shape)\n",
        "\n",
        "# The shape\n"
      ]
    },
    {
      "cell_type": "markdown",
      "metadata": {
        "id": "Cng0GAt4ajo8"
      },
      "source": [
        "### SD BOLD (FPN only)"
      ]
    },
    {
      "cell_type": "code",
      "execution_count": null,
      "metadata": {
        "colab": {
          "background_save": true
        },
        "id": "2fPUeH49LEU_",
        "outputId": "4008266f-9cd7-4c7b-c766-63a6a6e2d4ca"
      },
      "outputs": [
        {
          "name": "stdout",
          "output_type": "stream",
          "text": [
            "SD_two_back_fpn shape: (339, 50)\n",
            "SD_no_back_fpn shape: (339, 50)\n"
          ]
        }
      ],
      "source": [
        "# Calculate the standard deviation for Frontoparietal parcels across time points\n",
        "SD_two_back_fpn = np.std(two_back_fpn, axis=2)\n",
        "SD_no_back_fpn = np.std(no_back_fpn, axis=2)\n",
        "\n",
        "# Print shapes to verify\n",
        "print(\"SD_two_back_fpn shape:\", SD_two_back_fpn.shape)  # Shape should be (339, 50)\n",
        "print(\"SD_no_back_fpn shape:\", SD_no_back_fpn.shape)    # Shape should be (339, 50)\n",
        "\n",
        "# For every participant (399) there are 50 brain regions with a SD"
      ]
    },
    {
      "cell_type": "code",
      "execution_count": null,
      "metadata": {
        "colab": {
          "background_save": true
        },
        "id": "gQX8feJGdgTa",
        "outputId": "9031d45d-7091-4d46-88ae-ce499ed8dabb"
      },
      "outputs": [
        {
          "name": "stdout",
          "output_type": "stream",
          "text": [
            "(339,)\n"
          ]
        }
      ],
      "source": [
        "## Average SD BOLD for all parcels of the FPN\n",
        "\n",
        "# Calculate the mean SD across parcels for each participant\n",
        "average_SD_two_back_fpn = np.mean(SD_two_back_fpn, axis=1)  # Shape will be (399,)\n",
        "average_SD_no_back_fpn = np.mean(SD_no_back_fpn, axis=1)    # Shape will be (399,)\n",
        "print(average_SD_no_back_fpn.shape)\n",
        "\n",
        " # For every participant (399) there is 1 average SD\n"
      ]
    },
    {
      "cell_type": "code",
      "execution_count": null,
      "metadata": {
        "colab": {
          "background_save": true
        },
        "id": "CN_XxyMz2z0E"
      },
      "outputs": [],
      "source": [
        "# check shapes\n",
        "pd.DataFrame({\n",
        "    'subject': np.arange(339),\n",
        "    'two_back':average_SD_two_back_fpn,\n",
        "    'no_back': average_SD_no_back_fpn,\n",
        "}).to_csv('sd_bold_fpn_only.csv')\n",
        "\n"
      ]
    },
    {
      "cell_type": "markdown",
      "source": [
        "## Visulize the FPN SD"
      ],
      "metadata": {
        "id": "ByV_OwmcEVEh"
      }
    },
    {
      "cell_type": "markdown",
      "source": [
        "Scatter plot average_SD_two_back_fpn in term of average_SD_two_back_fpn"
      ],
      "metadata": {
        "id": "gRZGPOS2EcIq"
      }
    },
    {
      "cell_type": "code",
      "execution_count": null,
      "metadata": {
        "colab": {
          "background_save": true
        },
        "id": "16s8RrXcMw-_",
        "outputId": "de9f16fd-ca46-429f-88a7-c4371cdf1359"
      },
      "outputs": [
        {
          "data": {
            "image/png": "[encoded data removed]",
            "text/plain": [
              "<Figure size 800x600 with 1 Axes>"
            ]
          },
          "metadata": {
            "image/png": {
              "height": 575,
              "width": 774
            }
          },
          "output_type": "display_data"
        }
      ],
      "source": [
        "plt.scatter(average_SD_no_back_fpn, average_SD_two_back_fpn)\n",
        "plt.xlabel(\"average_SD_no_back_fpn\")\n",
        "plt.ylabel(\"average_SD_two_back_fpn\")\n",
        "plt.show()"
      ]
    },
    {
      "cell_type": "markdown",
      "source": [
        "Histogram of average_SD_no_back_fpn and average_SD_two_back_fpn"
      ],
      "metadata": {
        "id": "eb20SaW9Eu1H"
      }
    },
    {
      "cell_type": "code",
      "execution_count": null,
      "metadata": {
        "colab": {
          "background_save": true
        },
        "id": "mBj4rya0NIdb",
        "outputId": "f6da6934-6ea1-4e9f-9b4f-a27b744c2359"
      },
      "outputs": [
        {
          "data": {
            "text/plain": [
              "array([[<Axes: title={'center': '0'}>]], dtype=object)"
            ]
          },
          "execution_count": 37,
          "metadata": {},
          "output_type": "execute_result"
        },
        {
          "data": {
            "image/png": "[encoded data removed]",
            "text/plain": [
              "<Figure size 800x600 with 1 Axes>"
            ]
          },
          "metadata": {
            "image/png": {
              "height": 575,
              "width": 774
            }
          },
          "output_type": "display_data"
        },
        {
          "data": {
            "image/png": "[encoded data removed]",
            "text/plain": [
              "<Figure size 800x600 with 1 Axes>"
            ]
          },
          "metadata": {
            "image/png": {
              "height": 575,
              "width": 774
            }
          },
          "output_type": "display_data"
        }
      ],
      "source": [
        "pd.DataFrame(average_SD_no_back_fpn).hist()\n",
        "pd.DataFrame(average_SD_two_back_fpn).hist()"
      ]
    },
    {
      "cell_type": "markdown",
      "source": [
        "## SVM on FPN SD"
      ],
      "metadata": {
        "id": "pCVdOoa8JA6M"
      }
    },
    {
      "cell_type": "markdown",
      "source": [
        "Make features_array (number of subject x number of FPN Parcels) and label vector"
      ],
      "metadata": {
        "id": "2E_XgbhyE6IX"
      }
    },
    {
      "cell_type": "code",
      "execution_count": null,
      "metadata": {
        "colab": {
          "background_save": true
        },
        "id": "5bO9ChX-F97u"
      },
      "outputs": [],
      "source": [
        "# Make features_array by concatinating of SD_no_back_fpn and SD_two_back_fpn\n",
        "features_array = np.concatenate((SD_no_back_fpn, SD_two_back_fpn),axis = 0)\n",
        "# Make label_array\n",
        "label_array = np.zeros(features_array.shape[0])\n",
        "label_array[0:339] = 0\n",
        "label_array[339:678] = 1"
      ]
    },
    {
      "cell_type": "markdown",
      "source": [
        "Split data into train and test data and data normalization"
      ],
      "metadata": {
        "id": "Ep-k21uTFoxt"
      }
    },
    {
      "cell_type": "code",
      "execution_count": null,
      "metadata": {
        "colab": {
          "background_save": true
        },
        "id": "h39QeTdEL_RI"
      },
      "outputs": [],
      "source": [
        "from sklearn.model_selection import train_test_split\n",
        "from sklearn.model_selection import GridSearchCV\n",
        "from sklearn.linear_model import LogisticRegression\n",
        "from sklearn.pipeline import Pipeline\n",
        "from sklearn.preprocessing import StandardScaler\n",
        "from sklearn.model_selection import GroupKFold,GridSearchCV,cross_val_score,cross_validate\n",
        "\n",
        "X_train, X_test, y_train, y_test = train_test_split(features_array,label_array,test_size=0.2,random_state=50)\n",
        "\n",
        "sc = StandardScaler()\n",
        "X_train = sc.fit_transform(X_train)\n",
        "X_test = sc.fit_transform(X_test)"
      ]
    },
    {
      "cell_type": "code",
      "execution_count": null,
      "metadata": {
        "colab": {
          "background_save": true
        },
        "id": "xGvjq6rMOI1s",
        "outputId": "4113ad44-46d7-493e-d44a-7b16d1537e2d"
      },
      "outputs": [
        {
          "data": {
            "text/plain": [
              "(542, 50)"
            ]
          },
          "execution_count": 40,
          "metadata": {},
          "output_type": "execute_result"
        }
      ],
      "source": [
        "print(X_train.shape, X_test.shape)"
      ]
    },
    {
      "cell_type": "markdown",
      "source": [
        "Implementation of SVM on FPN SD"
      ],
      "metadata": {
        "id": "b4D147kSF8b5"
      }
    },
    {
      "cell_type": "code",
      "execution_count": null,
      "metadata": {
        "colab": {
          "background_save": true
        },
        "id": "VTOSpr1_Nat1",
        "outputId": "1912c50f-d326-4466-e905-39a196d873e3"
      },
      "outputs": [
        {
          "name": "stdout",
          "output_type": "stream",
          "text": [
            "0.6309963099630996\n"
          ]
        },
        {
          "data": {
            "image/png": "[encoded data removed]",
            "text/plain": [
              "<Figure size 800x600 with 2 Axes>"
            ]
          },
          "metadata": {
            "image/png": {
              "height": 574,
              "width": 737
            }
          },
          "output_type": "display_data"
        }
      ],
      "source": [
        "from sklearn.metrics import confusion_matrix, accuracy_score\n",
        "from sklearn.svm import SVC\n",
        "import seaborn as sns\n",
        "clf = SVC(C = 0.5,kernel = 'linear')\n",
        "clf.fit(X_train,y_train)\n",
        "y_predict = clf.predict(X_train)\n",
        "cm = confusion_matrix(y_train,y_predict)\n",
        "sns.heatmap(cm,annot = True)\n",
        "print(accuracy_score(y_train,y_predict))"
      ]
    },
    {
      "cell_type": "markdown",
      "source": [
        "Confusion matrix for test data"
      ],
      "metadata": {
        "id": "VsgAJPuEH9y3"
      }
    },
    {
      "cell_type": "code",
      "execution_count": null,
      "metadata": {
        "colab": {
          "background_save": true
        },
        "id": "E0joLoucOVya",
        "outputId": "734962db-c747-4f1c-b180-7c9f94078bc3"
      },
      "outputs": [
        {
          "name": "stdout",
          "output_type": "stream",
          "text": [
            "0.5735294117647058\n"
          ]
        },
        {
          "data": {
            "text/plain": [
              "<Axes: >"
            ]
          },
          "execution_count": 42,
          "metadata": {},
          "output_type": "execute_result"
        },
        {
          "data": {
            "image/png": "[encoded data removed]",
            "text/plain": [
              "<Figure size 800x600 with 2 Axes>"
            ]
          },
          "metadata": {
            "image/png": {
              "height": 575,
              "width": 725
            }
          },
          "output_type": "display_data"
        }
      ],
      "source": [
        "y_predict = clf.predict(X_test)\n",
        "print(accuracy_score(y_test,y_predict))\n",
        "cm = confusion_matrix(y_test,y_predict)\n",
        "sns.heatmap(cm,annot = True)"
      ]
    },
    {
      "cell_type": "markdown",
      "source": [
        "## SVM on MMSE data"
      ],
      "metadata": {
        "id": "KGx-MnCbIJQF"
      }
    },
    {
      "cell_type": "markdown",
      "source": [
        "Read data"
      ],
      "metadata": {
        "id": "nVTp82lmIPqn"
      }
    },
    {
      "cell_type": "code",
      "source": [
        "import pandas as pd\n",
        "from google.colab import drive\n",
        "drive.mount('/content/drive')\n"
      ],
      "metadata": {
        "colab": {
          "base_uri": "https://localhost:8080/"
        },
        "id": "L_iXkNThtH-s",
        "outputId": "3104a049-8ea3-404a-e7c7-552f73592ad9"
      },
      "execution_count": null,
      "outputs": [
        {
          "output_type": "stream",
          "name": "stdout",
          "text": [
            "Mounted at /content/drive\n"
          ]
        }
      ]
    },
    {
      "cell_type": "code",
      "source": [
        "df = pd.read_csv('/content/drive/MyDrive/dataset/MMSE.csv')"
      ],
      "metadata": {
        "id": "F7ZNVigDuWOC"
      },
      "execution_count": null,
      "outputs": []
    },
    {
      "cell_type": "code",
      "source": [
        "import numpy as np"
      ],
      "metadata": {
        "id": "YW20IgccwefR"
      },
      "execution_count": null,
      "outputs": []
    },
    {
      "cell_type": "code",
      "source": [
        "X = np.array(df[\"mmse\"])"
      ],
      "metadata": {
        "id": "KvbRGFbcuGXp"
      },
      "execution_count": null,
      "outputs": []
    },
    {
      "cell_type": "code",
      "source": [
        "df"
      ],
      "metadata": {
        "colab": {
          "base_uri": "https://localhost:8080/",
          "height": 423
        },
        "id": "HWMDe7cVzpNV",
        "outputId": "7707d22c-691c-4db1-9a27-2bc3cad44d10"
      },
      "execution_count": null,
      "outputs": [
        {
          "output_type": "execute_result",
          "data": {
            "text/plain": [
              "      id  subject condition  scale      mmse\n",
              "0      0        0  two_back      0  0.003690\n",
              "1      1        0  two_back      1  0.005728\n",
              "2      2        0  two_back      2  0.009555\n",
              "3      3        0  two_back      3  0.013500\n",
              "4      4        0  two_back      4  0.017007\n",
              "...   ..      ...       ...    ...       ...\n",
              "5419   3      338   no_back      3  0.010271\n",
              "5420   4      338   no_back      4  0.014851\n",
              "5421   5      338   no_back      5  0.016846\n",
              "5422   6      338   no_back      6  0.017222\n",
              "5423   7      338   no_back      7  0.022546\n",
              "\n",
              "[5424 rows x 5 columns]"
            ],
            "text/html": [
              "\n",
              "  <div id=\"df-1de51702-543e-45e7-9fde-a7be3cc61142\" class=\"colab-df-container\">\n",
              "    <div>\n",
              "<style scoped>\n",
              "    .dataframe tbody tr th:only-of-type {\n",
              "        vertical-align: middle;\n",
              "    }\n",
              "\n",
              "    .dataframe tbody tr th {\n",
              "        vertical-align: top;\n",
              "    }\n",
              "\n",
              "    .dataframe thead th {\n",
              "        text-align: right;\n",
              "    }\n",
              "</style>\n",
              "<table border=\"1\" class=\"dataframe\">\n",
              "  <thead>\n",
              "    <tr style=\"text-align: right;\">\n",
              "      <th></th>\n",
              "      <th>id</th>\n",
              "      <th>subject</th>\n",
              "      <th>condition</th>\n",
              "      <th>scale</th>\n",
              "      <th>mmse</th>\n",
              "    </tr>\n",
              "  </thead>\n",
              "  <tbody>\n",
              "    <tr>\n",
              "      <th>0</th>\n",
              "      <td>0</td>\n",
              "      <td>0</td>\n",
              "      <td>two_back</td>\n",
              "      <td>0</td>\n",
              "      <td>0.003690</td>\n",
              "    </tr>\n",
              "    <tr>\n",
              "      <th>1</th>\n",
              "      <td>1</td>\n",
              "      <td>0</td>\n",
              "      <td>two_back</td>\n",
              "      <td>1</td>\n",
              "      <td>0.005728</td>\n",
              "    </tr>\n",
              "    <tr>\n",
              "      <th>2</th>\n",
              "      <td>2</td>\n",
              "      <td>0</td>\n",
              "      <td>two_back</td>\n",
              "      <td>2</td>\n",
              "      <td>0.009555</td>\n",
              "    </tr>\n",
              "    <tr>\n",
              "      <th>3</th>\n",
              "      <td>3</td>\n",
              "      <td>0</td>\n",
              "      <td>two_back</td>\n",
              "      <td>3</td>\n",
              "      <td>0.013500</td>\n",
              "    </tr>\n",
              "    <tr>\n",
              "      <th>4</th>\n",
              "      <td>4</td>\n",
              "      <td>0</td>\n",
              "      <td>two_back</td>\n",
              "      <td>4</td>\n",
              "      <td>0.017007</td>\n",
              "    </tr>\n",
              "    <tr>\n",
              "      <th>...</th>\n",
              "      <td>...</td>\n",
              "      <td>...</td>\n",
              "      <td>...</td>\n",
              "      <td>...</td>\n",
              "      <td>...</td>\n",
              "    </tr>\n",
              "    <tr>\n",
              "      <th>5419</th>\n",
              "      <td>3</td>\n",
              "      <td>338</td>\n",
              "      <td>no_back</td>\n",
              "      <td>3</td>\n",
              "      <td>0.010271</td>\n",
              "    </tr>\n",
              "    <tr>\n",
              "      <th>5420</th>\n",
              "      <td>4</td>\n",
              "      <td>338</td>\n",
              "      <td>no_back</td>\n",
              "      <td>4</td>\n",
              "      <td>0.014851</td>\n",
              "    </tr>\n",
              "    <tr>\n",
              "      <th>5421</th>\n",
              "      <td>5</td>\n",
              "      <td>338</td>\n",
              "      <td>no_back</td>\n",
              "      <td>5</td>\n",
              "      <td>0.016846</td>\n",
              "    </tr>\n",
              "    <tr>\n",
              "      <th>5422</th>\n",
              "      <td>6</td>\n",
              "      <td>338</td>\n",
              "      <td>no_back</td>\n",
              "      <td>6</td>\n",
              "      <td>0.017222</td>\n",
              "    </tr>\n",
              "    <tr>\n",
              "      <th>5423</th>\n",
              "      <td>7</td>\n",
              "      <td>338</td>\n",
              "      <td>no_back</td>\n",
              "      <td>7</td>\n",
              "      <td>0.022546</td>\n",
              "    </tr>\n",
              "  </tbody>\n",
              "</table>\n",
              "<p>5424 rows × 5 columns</p>\n",
              "</div>\n",
              "    <div class=\"colab-df-buttons\">\n",
              "\n",
              "  <div class=\"colab-df-container\">\n",
              "    <button class=\"colab-df-convert\" onclick=\"convertToInteractive('df-1de51702-543e-45e7-9fde-a7be3cc61142')\"\n",
              "            title=\"Convert this dataframe to an interactive table.\"\n",
              "            style=\"display:none;\">\n",
              "\n",
              "  <svg xmlns=\"http://www.w3.org/2000/svg\" height=\"24px\" viewBox=\"0 -960 960 960\">\n",
              "    <path d=\"M120-120v-720h720v720H120Zm60-500h600v-160H180v160Zm220 220h160v-160H400v160Zm0 220h160v-160H400v160ZM180-400h160v-160H180v160Zm440 0h160v-160H620v160ZM180-180h160v-160H180v160Zm440 0h160v-160H620v160Z\"/>\n",
              "  </svg>\n",
              "    </button>\n",
              "\n",
              "  <style>\n",
              "    .colab-df-container {\n",
              "      display:flex;\n",
              "      gap: 12px;\n",
              "    }\n",
              "\n",
              "    .colab-df-convert {\n",
              "      background-color: #E8F0FE;\n",
              "      border: none;\n",
              "      border-radius: 50%;\n",
              "      cursor: pointer;\n",
              "      display: none;\n",
              "      fill: #1967D2;\n",
              "      height: 32px;\n",
              "      padding: 0 0 0 0;\n",
              "      width: 32px;\n",
              "    }\n",
              "\n",
              "    .colab-df-convert:hover {\n",
              "      background-color: #E2EBFA;\n",
              "      box-shadow: 0px 1px 2px rgba(60, 64, 67, 0.3), 0px 1px 3px 1px rgba(60, 64, 67, 0.15);\n",
              "      fill: #174EA6;\n",
              "    }\n",
              "\n",
              "    .colab-df-buttons div {\n",
              "      margin-bottom: 4px;\n",
              "    }\n",
              "\n",
              "    [theme=dark] .colab-df-convert {\n",
              "      background-color: #3B4455;\n",
              "      fill: #D2E3FC;\n",
              "    }\n",
              "\n",
              "    [theme=dark] .colab-df-convert:hover {\n",
              "      background-color: #434B5C;\n",
              "      box-shadow: 0px 1px 3px 1px rgba(0, 0, 0, 0.15);\n",
              "      filter: drop-shadow(0px 1px 2px rgba(0, 0, 0, 0.3));\n",
              "      fill: #FFFFFF;\n",
              "    }\n",
              "  </style>\n",
              "\n",
              "    <script>\n",
              "      const buttonEl =\n",
              "        document.querySelector('#df-1de51702-543e-45e7-9fde-a7be3cc61142 button.colab-df-convert');\n",
              "      buttonEl.style.display =\n",
              "        google.colab.kernel.accessAllowed ? 'block' : 'none';\n",
              "\n",
              "      async function convertToInteractive(key) {\n",
              "        const element = document.querySelector('#df-1de51702-543e-45e7-9fde-a7be3cc61142');\n",
              "        const dataTable =\n",
              "          await google.colab.kernel.invokeFunction('convertToInteractive',\n",
              "                                                    [key], {});\n",
              "        if (!dataTable) return;\n",
              "\n",
              "        const docLinkHtml = 'Like what you see? Visit the ' +\n",
              "          '<a target=\"_blank\" href=https://colab.research.google.com/notebooks/data_table.ipynb>data table notebook</a>'\n",
              "          + ' to learn more about interactive tables.';\n",
              "        element.innerHTML = '';\n",
              "        dataTable['output_type'] = 'display_data';\n",
              "        await google.colab.output.renderOutput(dataTable, element);\n",
              "        const docLink = document.createElement('div');\n",
              "        docLink.innerHTML = docLinkHtml;\n",
              "        element.appendChild(docLink);\n",
              "      }\n",
              "    </script>\n",
              "  </div>\n",
              "\n",
              "\n",
              "<div id=\"df-d4fc80dc-835e-4535-b2bf-29b980c04380\">\n",
              "  <button class=\"colab-df-quickchart\" onclick=\"quickchart('df-d4fc80dc-835e-4535-b2bf-29b980c04380')\"\n",
              "            title=\"Suggest charts\"\n",
              "            style=\"display:none;\">\n",
              "\n",
              "<svg xmlns=\"http://www.w3.org/2000/svg\" height=\"24px\"viewBox=\"0 0 24 24\"\n",
              "     width=\"24px\">\n",
              "    <g>\n",
              "        <path d=\"M19 3H5c-1.1 0-2 .9-2 2v14c0 1.1.9 2 2 2h14c1.1 0 2-.9 2-2V5c0-1.1-.9-2-2-2zM9 17H7v-7h2v7zm4 0h-2V7h2v10zm4 0h-2v-4h2v4z\"/>\n",
              "    </g>\n",
              "</svg>\n",
              "  </button>\n",
              "\n",
              "<style>\n",
              "  .colab-df-quickchart {\n",
              "      --bg-color: #E8F0FE;\n",
              "      --fill-color: #1967D2;\n",
              "      --hover-bg-color: #E2EBFA;\n",
              "      --hover-fill-color: #174EA6;\n",
              "      --disabled-fill-color: #AAA;\n",
              "      --disabled-bg-color: #DDD;\n",
              "  }\n",
              "\n",
              "  [theme=dark] .colab-df-quickchart {\n",
              "      --bg-color: #3B4455;\n",
              "      --fill-color: #D2E3FC;\n",
              "      --hover-bg-color: #434B5C;\n",
              "      --hover-fill-color: #FFFFFF;\n",
              "      --disabled-bg-color: #3B4455;\n",
              "      --disabled-fill-color: #666;\n",
              "  }\n",
              "\n",
              "  .colab-df-quickchart {\n",
              "    background-color: var(--bg-color);\n",
              "    border: none;\n",
              "    border-radius: 50%;\n",
              "    cursor: pointer;\n",
              "    display: none;\n",
              "    fill: var(--fill-color);\n",
              "    height: 32px;\n",
              "    padding: 0;\n",
              "    width: 32px;\n",
              "  }\n",
              "\n",
              "  .colab-df-quickchart:hover {\n",
              "    background-color: var(--hover-bg-color);\n",
              "    box-shadow: 0 1px 2px rgba(60, 64, 67, 0.3), 0 1px 3px 1px rgba(60, 64, 67, 0.15);\n",
              "    fill: var(--button-hover-fill-color);\n",
              "  }\n",
              "\n",
              "  .colab-df-quickchart-complete:disabled,\n",
              "  .colab-df-quickchart-complete:disabled:hover {\n",
              "    background-color: var(--disabled-bg-color);\n",
              "    fill: var(--disabled-fill-color);\n",
              "    box-shadow: none;\n",
              "  }\n",
              "\n",
              "  .colab-df-spinner {\n",
              "    border: 2px solid var(--fill-color);\n",
              "    border-color: transparent;\n",
              "    border-bottom-color: var(--fill-color);\n",
              "    animation:\n",
              "      spin 1s steps(1) infinite;\n",
              "  }\n",
              "\n",
              "  @keyframes spin {\n",
              "    0% {\n",
              "      border-color: transparent;\n",
              "      border-bottom-color: var(--fill-color);\n",
              "      border-left-color: var(--fill-color);\n",
              "    }\n",
              "    20% {\n",
              "      border-color: transparent;\n",
              "      border-left-color: var(--fill-color);\n",
              "      border-top-color: var(--fill-color);\n",
              "    }\n",
              "    30% {\n",
              "      border-color: transparent;\n",
              "      border-left-color: var(--fill-color);\n",
              "      border-top-color: var(--fill-color);\n",
              "      border-right-color: var(--fill-color);\n",
              "    }\n",
              "    40% {\n",
              "      border-color: transparent;\n",
              "      border-right-color: var(--fill-color);\n",
              "      border-top-color: var(--fill-color);\n",
              "    }\n",
              "    60% {\n",
              "      border-color: transparent;\n",
              "      border-right-color: var(--fill-color);\n",
              "    }\n",
              "    80% {\n",
              "      border-color: transparent;\n",
              "      border-right-color: var(--fill-color);\n",
              "      border-bottom-color: var(--fill-color);\n",
              "    }\n",
              "    90% {\n",
              "      border-color: transparent;\n",
              "      border-bottom-color: var(--fill-color);\n",
              "    }\n",
              "  }\n",
              "</style>\n",
              "\n",
              "  <script>\n",
              "    async function quickchart(key) {\n",
              "      const quickchartButtonEl =\n",
              "        document.querySelector('#' + key + ' button');\n",
              "      quickchartButtonEl.disabled = true;  // To prevent multiple clicks.\n",
              "      quickchartButtonEl.classList.add('colab-df-spinner');\n",
              "      try {\n",
              "        const charts = await google.colab.kernel.invokeFunction(\n",
              "            'suggestCharts', [key], {});\n",
              "      } catch (error) {\n",
              "        console.error('Error during call to suggestCharts:', error);\n",
              "      }\n",
              "      quickchartButtonEl.classList.remove('colab-df-spinner');\n",
              "      quickchartButtonEl.classList.add('colab-df-quickchart-complete');\n",
              "    }\n",
              "    (() => {\n",
              "      let quickchartButtonEl =\n",
              "        document.querySelector('#df-d4fc80dc-835e-4535-b2bf-29b980c04380 button');\n",
              "      quickchartButtonEl.style.display =\n",
              "        google.colab.kernel.accessAllowed ? 'block' : 'none';\n",
              "    })();\n",
              "  </script>\n",
              "</div>\n",
              "    </div>\n",
              "  </div>\n"
            ],
            "application/vnd.google.colaboratory.intrinsic+json": {
              "type": "dataframe",
              "variable_name": "df",
              "summary": "{\n  \"name\": \"df\",\n  \"rows\": 5424,\n  \"fields\": [\n    {\n      \"column\": \"id\",\n      \"properties\": {\n        \"dtype\": \"number\",\n        \"std\": 2,\n        \"min\": 0,\n        \"max\": 7,\n        \"num_unique_values\": 8,\n        \"samples\": [\n          1,\n          5,\n          0\n        ],\n        \"semantic_type\": \"\",\n        \"description\": \"\"\n      }\n    },\n    {\n      \"column\": \"subject\",\n      \"properties\": {\n        \"dtype\": \"number\",\n        \"std\": 97,\n        \"min\": 0,\n        \"max\": 338,\n        \"num_unique_values\": 339,\n        \"samples\": [\n          284,\n          116,\n          113\n        ],\n        \"semantic_type\": \"\",\n        \"description\": \"\"\n      }\n    },\n    {\n      \"column\": \"condition\",\n      \"properties\": {\n        \"dtype\": \"category\",\n        \"num_unique_values\": 2,\n        \"samples\": [\n          \"no_back\",\n          \"two_back\"\n        ],\n        \"semantic_type\": \"\",\n        \"description\": \"\"\n      }\n    },\n    {\n      \"column\": \"scale\",\n      \"properties\": {\n        \"dtype\": \"number\",\n        \"std\": 2,\n        \"min\": 0,\n        \"max\": 7,\n        \"num_unique_values\": 8,\n        \"samples\": [\n          1,\n          5\n        ],\n        \"semantic_type\": \"\",\n        \"description\": \"\"\n      }\n    },\n    {\n      \"column\": \"mmse\",\n      \"properties\": {\n        \"dtype\": \"number\",\n        \"std\": 0.01307428360463825,\n        \"min\": -0.030890321,\n        \"max\": 0.087218059,\n        \"num_unique_values\": 5424,\n        \"samples\": [\n          0.014787845,\n          0.021165464\n        ],\n        \"semantic_type\": \"\",\n        \"description\": \"\"\n      }\n    }\n  ]\n}"
            }
          },
          "metadata": {},
          "execution_count": 39
        }
      ]
    },
    {
      "cell_type": "markdown",
      "source": [
        "Make features_array (Number of subject x order of MMSE)"
      ],
      "metadata": {
        "id": "2VyZRiZ6IUO5"
      }
    },
    {
      "cell_type": "code",
      "source": [
        "features_array = X.reshape((-1,8))"
      ],
      "metadata": {
        "id": "2uXwdqsRwU0W"
      },
      "execution_count": null,
      "outputs": []
    },
    {
      "cell_type": "code",
      "source": [
        "features_array.shape"
      ],
      "metadata": {
        "colab": {
          "base_uri": "https://localhost:8080/"
        },
        "id": "iW4me_wwwpIh",
        "outputId": "a3a0dc2d-79f5-470b-9b91-b7436cd623c7"
      },
      "execution_count": null,
      "outputs": [
        {
          "output_type": "execute_result",
          "data": {
            "text/plain": [
              "(678, 8)"
            ]
          },
          "metadata": {},
          "execution_count": 42
        }
      ]
    },
    {
      "cell_type": "markdown",
      "source": [
        "Make label vector"
      ],
      "metadata": {
        "id": "aacqDEduIsvy"
      }
    },
    {
      "cell_type": "code",
      "source": [
        "y = np.array(df['condition'])"
      ],
      "metadata": {
        "id": "5yGiV4rpzgK5"
      },
      "execution_count": null,
      "outputs": []
    },
    {
      "cell_type": "code",
      "source": [
        "label_array = y.reshape((-1,8))[:,0]"
      ],
      "metadata": {
        "id": "Z8eSuz3k0i12"
      },
      "execution_count": null,
      "outputs": []
    },
    {
      "cell_type": "code",
      "source": [
        "label_array.shape"
      ],
      "metadata": {
        "colab": {
          "base_uri": "https://localhost:8080/"
        },
        "id": "KmyEl6yQ0syp",
        "outputId": "7dede908-cf76-42cb-d605-bb1a14a3e25b"
      },
      "execution_count": null,
      "outputs": [
        {
          "output_type": "execute_result",
          "data": {
            "text/plain": [
              "(678,)"
            ]
          },
          "metadata": {},
          "execution_count": 45
        }
      ]
    },
    {
      "cell_type": "markdown",
      "source": [
        "Split data into train and test and data normalization"
      ],
      "metadata": {
        "id": "rm6yVch_IyHV"
      }
    },
    {
      "cell_type": "code",
      "source": [
        "from sklearn.model_selection import train_test_split\n",
        "from sklearn.model_selection import GridSearchCV\n",
        "from sklearn.linear_model import LogisticRegression\n",
        "from sklearn.pipeline import Pipeline\n",
        "from sklearn.preprocessing import StandardScaler\n",
        "from sklearn.model_selection import GroupKFold,GridSearchCV,cross_val_score,cross_validate\n",
        "\n",
        "X_train, X_test, y_train, y_test = train_test_split(features_array,label_array,test_size=0.2,random_state=50)\n",
        "\n",
        "sc = StandardScaler()\n",
        "X_train = sc.fit_transform(X_train)\n",
        "X_test = sc.fit_transform(X_test)"
      ],
      "metadata": {
        "id": "vX5WenZI1OMX"
      },
      "execution_count": null,
      "outputs": []
    },
    {
      "cell_type": "markdown",
      "source": [
        "Implementation of SVM on MMSE"
      ],
      "metadata": {
        "id": "sEPEcc9tJW3n"
      }
    },
    {
      "cell_type": "code",
      "source": [
        "from sklearn.metrics import confusion_matrix, accuracy_score\n",
        "from sklearn.svm import SVC\n",
        "import seaborn as sns\n",
        "clf = SVC(C = 0.5,kernel = 'linear')\n",
        "clf.fit(X_train,y_train)\n",
        "y_predict = clf.predict(X_train)\n",
        "cm = confusion_matrix(y_train,y_predict)\n",
        "sns.heatmap(cm,annot = True)\n",
        "print(accuracy_score(y_train,y_predict))"
      ],
      "metadata": {
        "colab": {
          "base_uri": "https://localhost:8080/",
          "height": 448
        },
        "id": "i1hh-EGp1YhS",
        "outputId": "e4070dc2-0790-4252-d1ad-116ee90e5562"
      },
      "execution_count": null,
      "outputs": [
        {
          "output_type": "stream",
          "name": "stdout",
          "text": [
            "0.6678966789667896\n"
          ]
        },
        {
          "output_type": "display_data",
          "data": {
            "text/plain": [
              "<Figure size 640x480 with 2 Axes>"
            ],
            "image/png": "[encoded data removed]"
          },
          "metadata": {}
        }
      ]
    },
    {
      "cell_type": "markdown",
      "source": [
        "Confusion matrix for test data"
      ],
      "metadata": {
        "id": "g1iScIt1JeiL"
      }
    },
    {
      "cell_type": "code",
      "source": [
        "y_predict = clf.predict(X_test)\n",
        "print(accuracy_score(y_test,y_predict))\n",
        "cm = confusion_matrix(y_test,y_predict)\n",
        "sns.heatmap(cm,annot = True)"
      ],
      "metadata": {
        "colab": {
          "base_uri": "https://localhost:8080/",
          "height": 467
        },
        "id": "ssTj1gaN1ZjV",
        "outputId": "2c0142b0-18e0-44d1-a274-5a7a3166d208"
      },
      "execution_count": null,
      "outputs": [
        {
          "output_type": "stream",
          "name": "stdout",
          "text": [
            "0.6544117647058824\n"
          ]
        },
        {
          "output_type": "execute_result",
          "data": {
            "text/plain": [
              "<Axes: >"
            ]
          },
          "metadata": {},
          "execution_count": 51
        },
        {
          "output_type": "display_data",
          "data": {
            "text/plain": [
              "<Figure size 640x480 with 2 Axes>"
            ],
            "image/png": "[encoded data removed]"
          },
          "metadata": {}
        }
      ]
    }
  ],
  "metadata": {
    "colab": {
      "provenance": [],
      "toc_visible": true
    },
    "kernelspec": {
      "display_name": "Python 3",
      "name": "python3"
    },
    "language_info": {
      "name": "python"
    }
  },
  "nbformat": 4,
  "nbformat_minor": 0
}