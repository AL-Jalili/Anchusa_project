{
  "cells": [
    {
      "cell_type": "markdown",
      "metadata": {
        "id": "view-in-github",
        "colab_type": "text"
      },
      "source": [
        "<a href=\"https://colab.research.google.com/github/AL-Jalili/Anchusa_project/blob/main/RNN_fpn_anchusa_project.ipynb\" target=\"_parent\"><img src=\"https://colab.research.google.com/assets/colab-badge.svg\" alt=\"Open In Colab\"/></a>"
      ]
    },
    {
      "cell_type": "markdown",
      "metadata": {
        "id": "dfBri3miK74A"
      },
      "source": [
        "# Imports and config\n",
        "\n",
        "Run this first to setup the notebook."
      ]
    },
    {
      "cell_type": "code",
      "execution_count": null,
      "metadata": {
        "id": "aPhR-cNxBN94",
        "colab": {
          "base_uri": "https://localhost:8080/"
        },
        "outputId": "f06a0b6a-58ff-4cbc-d17b-13f938fe418b"
      },
      "outputs": [
        {
          "output_type": "stream",
          "name": "stdout",
          "text": [
            "\u001b[2K   \u001b[90m━━━━━━━━━━━━━━━━━━━━━━━━━━━━━━━━━━━━━━━━\u001b[0m \u001b[32m10.4/10.4 MB\u001b[0m \u001b[31m61.0 MB/s\u001b[0m eta \u001b[36m0:00:00\u001b[0m\n",
            "\u001b[?25h"
          ]
        }
      ],
      "source": [
        "# install and import\n",
        "\n",
        "!pip install nilearn --quiet\n",
        "import os\n",
        "import numpy as np\n",
        "import matplotlib.pyplot as plt\n",
        "import os, requests, tarfile\n",
        "import pandas as pd\n",
        "\n",
        "# Necessary for visualization\n",
        "from nilearn import plotting, datasets\n",
        "from nilearn.surface import vol_to_surf\n",
        "\n",
        "%matplotlib inline\n",
        "%config InlineBackend.figure_format = 'retina'\n",
        "plt.style.use(\"https://raw.githubusercontent.com/NeuromatchAcademy/course-content/master/nma.mplstyle\")\n",
        "# The download cells will store the data in nested directories starting here:\n",
        "HCP_DIR = \"./DATA\"\n",
        "if not os.path.isdir(HCP_DIR):\n",
        "  os.mkdir(HCP_DIR)\n",
        "\n",
        "# filepaths for convinience\n",
        "fpath_task = os.path.join(HCP_DIR, \"hcp_task\")\n",
        "fpath_rest = os.path.join(HCP_DIR, \"hcp_rest\")\n",
        "\n",
        "# The data shared for NMA projects is a subset of the full HCP dataset\n",
        "N_SUBJECTS = 339\n",
        "\n",
        "# The data have already been aggregated into ROIs from the Glasesr parcellation\n",
        "N_PARCELS = 360\n",
        "\n",
        "# The acquisition parameters for all tasks were identical\n",
        "TR = 0.72  # Time resolution, in sec\n",
        "\n",
        "# The parcels are matched across hemispheres with the same order\n",
        "HEMIS = [\"Right\", \"Left\"]\n",
        "\n",
        "# Each experiment was repeated multiple times in each subject\n",
        "N_RUNS_REST = 4\n",
        "N_RUNS_TASK = 2\n",
        "\n",
        "# Time series data are organized by experiment, with each experiment\n",
        "# having an LR and RL (phase-encode direction) acquistion\n",
        "BOLD_NAMES = [\n",
        "  \"rfMRI_REST1_LR\", \"rfMRI_REST1_RL\",\n",
        "  \"rfMRI_REST2_LR\", \"rfMRI_REST2_RL\",\n",
        "  \"tfMRI_MOTOR_RL\", \"tfMRI_MOTOR_LR\",\n",
        "  \"tfMRI_WM_RL\", \"tfMRI_WM_LR\",\n",
        "  \"tfMRI_EMOTION_RL\", \"tfMRI_EMOTION_LR\",\n",
        "  \"tfMRI_GAMBLING_RL\", \"tfMRI_GAMBLING_LR\",\n",
        "  \"tfMRI_LANGUAGE_RL\", \"tfMRI_LANGUAGE_LR\",\n",
        "  \"tfMRI_RELATIONAL_RL\", \"tfMRI_RELATIONAL_LR\",\n",
        "  \"tfMRI_SOCIAL_RL\", \"tfMRI_SOCIAL_LR\"\n",
        "]\n",
        "\n",
        "# You may want to limit the subjects used during code development.\n",
        "# This will use all subjects:\n",
        "subjects = range(N_SUBJECTS)"
      ]
    },
    {
      "cell_type": "markdown",
      "metadata": {
        "id": "uwU_M9FtHbws"
      },
      "source": [
        "# Put functions here\n",
        "\n",
        "If you make a couple of lines of code that does something, it's good to wrap it in a function so that it can be re-used elsewhere. Let's put all of our functions here so that the actual analysis is as clean and readable as possible. Remember to add [docstrings](https://www.datacamp.com/tutorial/docstrings-python) to your functions so we can use them without looking at source code!"
      ]
    },
    {
      "cell_type": "code",
      "execution_count": null,
      "metadata": {
        "id": "sKBISi4-wdPB"
      },
      "outputs": [],
      "source": [
        "def download_data():\n",
        "  \"\"\"Download the HCP dataset.\"\"\"\n",
        "\n",
        "  fnames = [\"hcp_rest.tgz\",\n",
        "            \"hcp_task.tgz\",\n",
        "            \"hcp_covariates.tgz\",\n",
        "            \"atlas.npz\"]\n",
        "  urls = [\"https://osf.io/bqp7m/download\",\n",
        "          \"https://osf.io/s4h8j/download\",\n",
        "          \"https://osf.io/x5p4g/download\",\n",
        "          \"https://osf.io/j5kuc/download\"]\n",
        "\n",
        "\n",
        "  for fname, url in zip(fnames, urls):\n",
        "    if not os.path.isfile(fname):\n",
        "      try:\n",
        "        r = requests.get(url)\n",
        "      except requests.ConnectionError:\n",
        "        print(\"!!! Failed to download data !!!\")\n",
        "      else:\n",
        "        if r.status_code != requests.codes.ok:\n",
        "          print(\"!!! Failed to download data !!!\")\n",
        "        else:\n",
        "          print(f\"Downloading {fname}...\")\n",
        "          with open(fname, \"wb\") as fid:\n",
        "            fid.write(r.content)\n",
        "          print(f\"Download {fname} completed!\")\n",
        "\n",
        "\n",
        "  fnames = [\"hcp_covariates\", \"hcp_rest\", \"hcp_task\"]\n",
        "\n",
        "  for fname in fnames:\n",
        "    # open file\n",
        "    path_name = os.path.join(HCP_DIR, fname)\n",
        "    if not os.path.exists(path_name):\n",
        "      print(f\"Extracting {fname}.tgz...\")\n",
        "      with tarfile.open(f\"{fname}.tgz\") as fzip:\n",
        "        fzip.extractall(HCP_DIR)\n",
        "    else:\n",
        "      print(f\"File {fname}.tgz has already been extracted.\")\n",
        "\n",
        "\n",
        "def load_regions_and_atlas():\n",
        "  \"\"\"Load region info and parcellations.\n",
        "\n",
        "    Args:\n",
        "      None\n",
        "    Returns:\n",
        "      Tuple containing:\n",
        "        region_info (dict): region names and network assignments\n",
        "        atlas (dict): parcellation on the fsaverage5 surface and approximate MNI coordinates of each region\n",
        "  \"\"\"\n",
        "  folder = os.path.join(HCP_DIR, \"hcp_task\")  # choose the data directory\n",
        "  regions = np.load(os.path.join(folder, \"regions.npy\")).T\n",
        "  region_info = dict(name=regions[0].tolist(),\n",
        "                    network=regions[1],\n",
        "                    myelin=regions[2].astype(float)\n",
        "                    )\n",
        "  with np.load(f\"atlas.npz\") as dobj:\n",
        "    atlas = dict(**dobj)\n",
        "\n",
        "  return region_info, atlas\n",
        "\n",
        "\n",
        "def read_behavior_data(kind, output_type=\"pandas\"):\n",
        "    \"\"\"Read behavior data from HCP dataset.\n",
        "\n",
        "    Args:\n",
        "        kind (str): \"gambling\", \"language\", \"emotion\", \"relational\", \"social\" or \"wm\",\n",
        "        output_type (str): Sets the output dataframe format. Can be \"numpy\" or \"pandas\". Default is \"pandas\".\n",
        "    Returns:\n",
        "         wm_behavior (np.ndarray or pandas DataFrame): behavior data\n",
        "    \"\"\"\n",
        "    fpath = os.path.join(HCP_DIR, \"hcp\", \"behavior\", f\"{kind}.csv\")\n",
        "\n",
        "    if output_type == \"numpy\":\n",
        "        wm_behavior = np.genfromtxt(fpath,\n",
        "                                delimiter=\",\",\n",
        "                                names=True,\n",
        "                                dtype=None,\n",
        "                                encoding=\"utf\")\n",
        "\n",
        "    elif output_type == \"pandas\":\n",
        "        import pandas as pd\n",
        "        wm_behavior = pd.read_csv(fpath)\n",
        "\n",
        "    return wm_behavior\n",
        "\n",
        "\n",
        "def get_image_ids(name):\n",
        "  \"\"\"Get the 1-based image indices for runs in a given experiment.\n",
        "\n",
        "    Args:\n",
        "      name (str) : Name of experiment (\"rest\" or name of task) to load\n",
        "    Returns:\n",
        "      run_ids (list of int) : Numeric ID for experiment image files\n",
        "\n",
        "  \"\"\"\n",
        "  run_ids = [\n",
        "             i for i, code in enumerate(BOLD_NAMES, 1) if name.upper() in code\n",
        "             ]\n",
        "  if not run_ids:\n",
        "    raise ValueError(f\"Found no data for '{name}'\")\n",
        "  return run_ids\n",
        "\n",
        "\n",
        "def load_timeseries(subject, name, dir,\n",
        "                    runs=None, concat=True, remove_mean=True):\n",
        "  \"\"\"Load timeseries data for a single subject.\n",
        "\n",
        "  Args:\n",
        "    subject (int): 0-based subject ID to load\n",
        "    name (str) : Name of experiment (\"rest\" or name of task) to load\n",
        "    dir (str) : data directory\n",
        "    run (None or int or list of ints): 0-based run(s) of the task to load,\n",
        "      or None to load all runs.\n",
        "    concat (bool) : If True, concatenate multiple runs in time\n",
        "    remove_mean (bool) : If True, subtract the parcel-wise mean\n",
        "\n",
        "  Returns\n",
        "    ts (n_parcel x n_tp array): Array of BOLD data values\n",
        "\n",
        "  \"\"\"\n",
        "  # Get the list relative 0-based index of runs to use\n",
        "  if runs is None:\n",
        "    runs = range(N_RUNS_REST) if name == \"rest\" else range(N_RUNS_TASK)\n",
        "  elif isinstance(runs, int):\n",
        "    runs = [runs]\n",
        "\n",
        "  # Get the first (1-based) run id for this experiment\n",
        "  offset = get_image_ids(name)[0]\n",
        "\n",
        "  # Load each run's data\n",
        "  bold_data = [\n",
        "               load_single_timeseries(subject,\n",
        "                                      offset + run,\n",
        "                                      dir,\n",
        "                                      remove_mean) for run in runs\n",
        "               ]\n",
        "\n",
        "  # Optionally concatenate in time\n",
        "  if concat:\n",
        "    bold_data = np.concatenate(bold_data, axis=-1)\n",
        "\n",
        "  return bold_data\n",
        "\n",
        "\n",
        "def load_single_timeseries(subject, bold_run, dir, remove_mean=True):\n",
        "  \"\"\"Load timeseries data for a single subject and single run.\n",
        "\n",
        "  Args:\n",
        "    subject (int): 0-based subject ID to load\n",
        "    bold_run (int): 1-based run index, across all tasks\n",
        "    dir (str) : data directory\n",
        "    remove_mean (bool): If True, subtract the parcel-wise mean\n",
        "\n",
        "  Returns\n",
        "    ts (n_parcel x n_timepoint array): Array of BOLD data values\n",
        "\n",
        "  \"\"\"\n",
        "  bold_path = os.path.join(dir, \"subjects\", str(subject), \"timeseries\")\n",
        "  bold_file = f\"bold{bold_run}_Atlas_MSMAll_Glasser360Cortical.npy\"\n",
        "  ts = np.load(os.path.join(bold_path, bold_file))\n",
        "  if remove_mean:\n",
        "    ts -= ts.mean(axis=1, keepdims=True)\n",
        "  return ts\n",
        "\n",
        "\n",
        "def load_evs(subject, name, condition, dir):\n",
        "  \"\"\"Load EV (explanatory variable) data for one task condition.\n",
        "\n",
        "  Args:\n",
        "    subject (int): 0-based subject ID to load\n",
        "    name (str) : Name of task\n",
        "    condition (str) : Name of condition\n",
        "    dir (str) : data directory\n",
        "\n",
        "  Returns\n",
        "    evs (list of dicts): A dictionary with the onset, duration, and amplitude\n",
        "      of the condition for each run.\n",
        "\n",
        "  \"\"\"\n",
        "  evs = []\n",
        "  for id in get_image_ids(name):\n",
        "    task_key = BOLD_NAMES[id - 1]\n",
        "    ev_file = os.path.join(dir, \"subjects\", str(subject), \"EVs\",\n",
        "                           task_key, f\"{condition}.txt\")\n",
        "    ev_array = np.loadtxt(ev_file, ndmin=2, unpack=True)\n",
        "    ev = dict(zip([\"onset\", \"duration\", \"amplitude\"], ev_array))\n",
        "    evs.append(ev)\n",
        "  return evs\n",
        "\n",
        "def condition_frames(run_evs, skip=0):\n",
        "  \"\"\"Identify timepoints corresponding to a given condition in each run.\n",
        "\n",
        "  Args:\n",
        "    run_evs (list of dicts) : Onset and duration of the event, per run\n",
        "    skip (int) : Ignore this many frames at the start of each trial, to account\n",
        "      for hemodynamic lag\n",
        "\n",
        "  Returns:\n",
        "    frames_list (list of 1D arrays): Flat arrays of frame indices, per run\n",
        "\n",
        "  \"\"\"\n",
        "  frames_list = []\n",
        "  for ev in run_evs:\n",
        "\n",
        "    # Determine when trial starts, rounded down\n",
        "    start = np.floor(ev[\"onset\"] / TR).astype(int)\n",
        "\n",
        "    # Use trial duration to determine how many frames to include for trial\n",
        "    duration = np.ceil(ev[\"duration\"] / TR).astype(int)\n",
        "\n",
        "    # Take the range of frames that correspond to this specific trial\n",
        "    frames = [s + np.arange(skip, d) for s, d in zip(start, duration)]\n",
        "\n",
        "    frames_list.append(np.concatenate(frames))\n",
        "\n",
        "  return frames_list\n",
        "\n",
        "\n",
        "def selective_average(timeseries_data, ev, skip=0):\n",
        "  \"\"\"Take the temporal mean across frames for a given condition.\n",
        "\n",
        "  Args:\n",
        "    timeseries_data (array or list of arrays): n_parcel x n_tp arrays\n",
        "    ev (dict or list of dicts): Condition timing information\n",
        "    skip (int) : Ignore this many frames at the start of each trial, to account\n",
        "      for hemodynamic lag\n",
        "\n",
        "  Returns:\n",
        "    avg_data (1D array): Data averagted across selected image frames based\n",
        "    on condition timing\n",
        "\n",
        "  \"\"\"\n",
        "  # Ensure that we have lists of the same length\n",
        "  if not isinstance(timeseries_data, list):\n",
        "    timeseries_data = [timeseries_data]\n",
        "  if not isinstance(ev, list):\n",
        "    ev = [ev]\n",
        "  if len(timeseries_data) != len(ev):\n",
        "    raise ValueError(\"Length of `timeseries_data` and `ev` must match.\")\n",
        "\n",
        "  # Identify the indices of relevant frames\n",
        "  frames = condition_frames(ev, skip)\n",
        "\n",
        "  # Select the frames from each image\n",
        "  selected_data = []\n",
        "  for run_data, run_frames in zip(timeseries_data, frames):\n",
        "    run_frames = run_frames[run_frames < run_data.shape[1]]\n",
        "    selected_data.append(run_data[:, run_frames])\n",
        "\n",
        "  # Take the average in each parcel\n",
        "  avg_data = np.concatenate(selected_data, axis=-1).mean(axis=-1)\n",
        "\n",
        "  return avg_data\n",
        "\n",
        "\n",
        "def seconds_to_samples(sec):\n",
        "  \"\"\"Converts seconds to samples (multiply by TR and floor).\n",
        "  Args:\n",
        "    sec (float): time in seconds\n",
        "  Return:\n",
        "    samples (int): time in samples\n",
        "    \"\"\"\n",
        "  return int(sec * TR)\n",
        "\n",
        "\n",
        "def get_conds(subject, task, conds, concat=False, skip=0):\n",
        "    \"\"\"Get timeseries for conditions of interest.\n",
        "    Args:\n",
        "    subject (int): subject id,\n",
        "    task (string): task id (\"wm\", \"gambling\" etc.)\n",
        "    conds (list): list of conditions to concatenate.\n",
        "    concat (bool): If true, concatenate conditions instead of making a list.\n",
        "    skip (int):  Ignore this many frames at the start of each trial, to account\n",
        "        for hemodynamic lag\n",
        "    Returns:\n",
        "    ndarray (n_parcel x n_tp array) or list of ndarrays: Array of concatenated BOLD data values or a list of (not concatenated) data values.\n",
        "    \"\"\"\n",
        "    # load subject timeseries\n",
        "    ts = load_timeseries(subject, task, fpath_task)\n",
        "\n",
        "    cuts = []\n",
        "    # for each condition\n",
        "    for cond in conds:\n",
        "        # load evs\n",
        "        evs = load_evs(subject, task, cond, fpath_task)\n",
        "\n",
        "        # indexing array\n",
        "        frames = condition_frames(evs, skip=skip)\n",
        "\n",
        "        # for each run\n",
        "        for run in range(len(frames)):\n",
        "\n",
        "            # cut\n",
        "            ts_cut = ts[:, frames[run]]\n",
        "\n",
        "            # append to cuts list\n",
        "            cuts.append(ts_cut)\n",
        "\n",
        "\n",
        "    # Optionally concatenate in time\n",
        "    if concat:\n",
        "        cuts = np.concatenate(cuts, axis=-1)\n",
        "\n",
        "    return cuts\n",
        "\n",
        "\n",
        "def extract_network_parcels(two_back, no_back, region_info, network_name):\n",
        "    \"\"\"\n",
        "    Extracts the Frontoparietal network parcels from two_back and no_back datasets.\n",
        "]\n",
        "0s\n",
        "#classic exploratory work\n",
        "    Parameters:\n",
        "    - two_back: List of NumPy arrays, each representing the time series data for a participant\n",
        "                during the two-back task with shape (regions:360, subjects:399).\n",
        "    - no_back: List of NumPy arrays, each representing the time series data for a participant\n",
        "                during the no-back task with shape (regions:360, subjects:399).\n",
        "    - region_info: A dictionary containing region metadata, including network assignments.\n",
        "    - network_name: string, network name ('Posterior-Mu', 'Cingulo-Oper', 'Cingulo-Oper',\n",
        "                'Visual2', 'Frontopariet', 'Somatomotor', 'Language', 'Default', 'Auditory',\n",
        "                'Dorsal-atten','Visual1','Orbito-Affec','Ventral-Mult').\n",
        "\n",
        "    Returns:\n",
        "    - two_back_network: List of NumPy arrays containing only the Special network parcels\n",
        "                     from the two_back dataset. (subjetcs: 339, parcels: 50, timepoints:152)\n",
        "    - no_back_network: List of NumPy arrays containing only the Special network parcels\n",
        "                    from the no_back dataset. (subjetcs: 339, parcels: 50, timepoints:152)\n",
        "    \"\"\"\n",
        "    # Identify the indices of the 'Frontopariet' network\n",
        "    fpn_indices = [i for i, network in enumerate(region_info['network']) if network == network_name]\n",
        "\n",
        "    two_back_network = []\n",
        "    no_back_network = []\n",
        "\n",
        "    # Extract Frontopariet parcels for two_back\n",
        "    for subject_two_back in two_back:\n",
        "        SpecialNetwork_two_back = subject_two_back[fpn_indices, :]  # Assuming subject_two_back is a numpy array\n",
        "        two_back_network.append(SpecialNetwork_two_back)\n",
        "\n",
        "    # Extract Frontopariet parcels for no_back\n",
        "    for subject_no_back in no_back:\n",
        "        SpecialNetwork_no_back = subject_no_back[fpn_indices, :]  # Assuming subject_no_back is a numpy array\n",
        "        no_back_network.append(SpecialNetwork_no_back)\n",
        "\n",
        "    return two_back_network, no_back_network\n",
        "\n",
        "def get_cond_onsets(num_subjects, conditions, fpath_task):\n",
        "    \"\"\"\n",
        "    Extracts the onsets of each condition of each subject\n",
        "\n",
        "    Parameters:\n",
        "    - num_subjects: Integer, from how many subjects you would like to extract the data (maximum=338).\n",
        "    - conditions: List of wm conditions, e.g., ['2bk_body', '2bk_faces',...\n",
        "        ...'2bk_places', '2bk_tools','0bk_body', '0bk_faces', '0bk_places', '0bk_tools']\n",
        "    - fpath_task: path to the event info\n",
        "\n",
        "    Returns:\n",
        "    - Onsets: pandas dataframe containing the onset time per condition,\n",
        "        separated for each run (subject:339 (0 to 338) x condition:16 (2bk_body_run0, 2bk_body_run1, etc.))\n",
        "    \"\"\"\n",
        "    # Initialize an empty DataFrame with NaN values\n",
        "    Onsets = pd.DataFrame(index=[f'{i}' for i in range(num_subjects)])\n",
        "\n",
        "    # Fill the DataFrame with tuples of onset values\n",
        "    for subject_id in range(num_subjects):\n",
        "        for cond in conditions:\n",
        "            ev =load_evs(subject_id, \"wm\", cond, dir=fpath_task)\n",
        "            onset_values = [ev[0]['onset'],ev[1]['onset']]\n",
        "            Onsets.at[f'{subject_id}', f'{cond}_run0'] = onset_values[0]\n",
        "            Onsets.at[f'{subject_id}', f'{cond}_run1'] = onset_values[1]\n",
        "\n",
        "    return Onsets\n",
        "\n",
        "def get_cond_timeseries(num_subjects, conditions, fpath_task, Onsets):\n",
        "    \"\"\"\n",
        "    Extracts the timeseries of each condition of each subject (360 ROI * 38 or 39 timepoints)\n",
        "\n",
        "    Parameters:\n",
        "    - num_subjects: Integer, from how many subjects you would like to extract the data (maximum=338).\n",
        "    - conditions: List of wm conditions, e.g., ['2bk_body', '2bk_faces',...\n",
        "        ...'2bk_places', '2bk_tools','0bk_body', '0bk_faces', '0bk_places', '0bk_tools']\n",
        "    - fpath_task: path to the event info\n",
        "\n",
        "    Returns:\n",
        "    - TimeSeries: pandas dataframe containing the timeseries per condition, separated for each run\n",
        "        (subject:339 (0 to 338) x condition:16 (2bk_body_run0, 2bk_body_run1, etc.)),\n",
        "        each cell of the pd dataframe contains the timeseries of all 360 ROIs\n",
        "    \"\"\"\n",
        "    # Initialize an empty DataFrame with NaN values\n",
        "    TimeSeries = pd.DataFrame(index=[f'{i}' for i in range(num_subjects)],columns=Onsets.columns)\n",
        "\n",
        "    # Fill the DataFrame with tuples of timeseries values\n",
        "    for subject_id in range(num_subjects):\n",
        "        TS =load_timeseries(subject_id, \"wm\", concat=False, remove_mean=True, dir=fpath_task) # get timeseries from both runs\n",
        "        for cond in conditions:\n",
        "            for run in range(1):\n",
        "                onset_values = [Onsets.at[f'{subject_id}', f'{cond}_run0'],Onsets.at[f'{subject_id}', f'{cond}_run1']]\n",
        "                timeframe0=[int(np.floor(onset_values[0]/TR)),int(np.floor((onset_values[0]+27.5)/TR))] # 27.5 = duration in seconds\n",
        "                timeframe1=[int(np.floor(onset_values[1]/TR)),int(np.floor((onset_values[1]+27.5)/TR))]\n",
        "                ts_pd1=pd.DataFrame(index=[str(i) for i in range(360)], columns=[str(i) for i in range(timeframe0[1]-timeframe0[0])]) # rows=ROIs, columns=slices\n",
        "                ts_pd1.iloc[:, :] = TS[0][:,timeframe0[0]:timeframe0[1]]\n",
        "                ts_pd2=pd.DataFrame(index=[str(i) for i in range(360)], columns=[str(i) for i in range(timeframe1[1]-timeframe1[0])])\n",
        "                ts_pd2.iloc[:, :] = TS[1][:,timeframe1[0]:timeframe1[1]]\n",
        "                TimeSeries.at[f'{subject_id}', f'{cond}_run0'] = ts_pd1\n",
        "                TimeSeries.at[f'{subject_id}', f'{cond}_run1'] = ts_pd2\n",
        "\n",
        "    return TimeSeries"
      ]
    },
    {
      "cell_type": "code",
      "execution_count": null,
      "metadata": {
        "colab": {
          "base_uri": "https://localhost:8080/"
        },
        "id": "TtLqK4ZgsHYY",
        "outputId": "4805b5bd-94c9-48b4-d7cd-4a41cd725e65"
      },
      "outputs": [
        {
          "output_type": "stream",
          "name": "stdout",
          "text": [
            "vol_to_surf\n",
            "download_data\n",
            "load_regions_and_atlas\n",
            "read_behavior_data\n",
            "get_image_ids\n",
            "load_timeseries\n",
            "load_single_timeseries\n",
            "load_evs\n",
            "condition_frames\n",
            "selective_average\n",
            "seconds_to_samples\n",
            "get_conds\n",
            "extract_network_parcels\n",
            "get_cond_onsets\n",
            "get_cond_timeseries\n"
          ]
        }
      ],
      "source": [
        "import inspect\n",
        "# Get a list of all functions defined above\n",
        "function_list = [name for name, obj in globals().items() if inspect.isfunction(obj)]\n",
        "\n",
        "# Print the list of function names\n",
        "for func_name in function_list:\n",
        "    print(func_name)"
      ]
    },
    {
      "cell_type": "markdown",
      "metadata": {
        "id": "wa4FKMax-cIn"
      },
      "source": [
        "# Condition info\n",
        "\n",
        "These are the condition names for each task:\n",
        "\n",
        "```\n",
        "- MOTOR: cue, lf, lh, rf, rh, t\n",
        "- WM:\n",
        "    0bk_body, 0bk_faces, 0bk_nir, 0bk_placed, 0bk_tools,\n",
        "    2bk_body, 2bk_faces, 2bk_nir, 2bk_placed, 2bk_tools,\n",
        "    0bk_cor, 0bk_err,\n",
        "    2bk_cor, 2bk_err,\n",
        "    all_bk_cor, all_bk_err\n",
        "- EMOTION: feat, neutral\n",
        "- GAMBLING: loss, loss_event, win, win_event, neut_event\n",
        "- LANGUAGE:\n",
        "    cue,\n",
        "    math, story\n",
        "    present_math, present_story,\n",
        "    question_math, question_story,\n",
        "    response_math, response_story\n",
        "- RELATIONAL: error, match, relation\n",
        "- SOCIAL: mental_resp, mental, other_resp, rnd\n",
        "```"
      ]
    },
    {
      "cell_type": "markdown",
      "metadata": {
        "id": "hK6McMMyG2Y6"
      },
      "source": [
        "# Run stuff"
      ]
    },
    {
      "cell_type": "code",
      "execution_count": null,
      "metadata": {
        "colab": {
          "base_uri": "https://localhost:8080/"
        },
        "id": "tTC-WKY1bQ3d",
        "outputId": "6dd5249d-4fcd-4df1-9a41-2efab39fbc32"
      },
      "outputs": [
        {
          "output_type": "stream",
          "name": "stdout",
          "text": [
            "Downloading hcp_rest.tgz...\n",
            "Download hcp_rest.tgz completed!\n",
            "Downloading hcp_task.tgz...\n",
            "Download hcp_task.tgz completed!\n",
            "Downloading hcp_covariates.tgz...\n",
            "Download hcp_covariates.tgz completed!\n",
            "Downloading atlas.npz...\n",
            "Download atlas.npz completed!\n",
            "Extracting hcp_covariates.tgz...\n",
            "Extracting hcp_rest.tgz...\n",
            "Extracting hcp_task.tgz...\n"
          ]
        }
      ],
      "source": [
        "# always start with downloading data\n",
        "download_data()"
      ]
    },
    {
      "cell_type": "code",
      "execution_count": null,
      "metadata": {
        "id": "9l1JgPS7GNM-"
      },
      "outputs": [],
      "source": [
        "# Some example functions\n",
        "\n",
        "region_info, atlas = load_regions_and_atlas()\n",
        "\n",
        "emo_behavior = read_behavior_data(\"emotion\")"
      ]
    },
    {
      "cell_type": "markdown",
      "metadata": {
        "id": "CguCOxIOeEsE"
      },
      "source": [
        "## Region Info & Atlas Exploratory work"
      ]
    },
    {
      "cell_type": "code",
      "execution_count": null,
      "metadata": {
        "colab": {
          "base_uri": "https://localhost:8080/"
        },
        "id": "lBYNOGIoetlx",
        "outputId": "a642264b-de75-4e53-95fb-4ecb5c297e4c"
      },
      "outputs": [
        {
          "output_type": "stream",
          "name": "stdout",
          "text": [
            "Help on function load_regions_and_atlas in module __main__:\n",
            "\n",
            "load_regions_and_atlas()\n",
            "    Load region info and parcellations.\n",
            "    \n",
            "    Args:\n",
            "      None\n",
            "    Returns:\n",
            "      Tuple containing:\n",
            "        region_info (dict): region names and network assignments\n",
            "        atlas (dict): parcellation on the fsaverage5 surface and approximate MNI coordinates of each region\n",
            "\n"
          ]
        }
      ],
      "source": [
        "help(load_regions_and_atlas)"
      ]
    },
    {
      "cell_type": "code",
      "execution_count": null,
      "metadata": {
        "id": "jfb0k2ahntJL"
      },
      "outputs": [],
      "source": [
        "region_info, atlas = load_regions_and_atlas()"
      ]
    },
    {
      "cell_type": "markdown",
      "metadata": {
        "id": "HDWqXG1KZjaT"
      },
      "source": [
        "**Region Info Expl. Work**"
      ]
    },
    {
      "cell_type": "code",
      "execution_count": null,
      "metadata": {
        "colab": {
          "base_uri": "https://localhost:8080/",
          "height": 206
        },
        "id": "-OxNh7fqTf5E",
        "outputId": "d2ffa55c-d7d7-4ac1-d3c2-a802d43918bd"
      },
      "outputs": [
        {
          "output_type": "execute_result",
          "data": {
            "text/plain": [
              "    name  network   myelin\n",
              "0   R_V1  Visual1  2.20900\n",
              "1  R_MST  Visual2  2.05561\n",
              "2   R_V6  Visual2  2.14980\n",
              "3   R_V2  Visual2  2.15347\n",
              "4   R_V3  Visual2  2.07251"
            ],
            "text/html": [
              "\n",
              "  <div id=\"df-26c6bfa9-23bd-43bd-81e5-1595a3c02230\" class=\"colab-df-container\">\n",
              "    <div>\n",
              "<style scoped>\n",
              "    .dataframe tbody tr th:only-of-type {\n",
              "        vertical-align: middle;\n",
              "    }\n",
              "\n",
              "    .dataframe tbody tr th {\n",
              "        vertical-align: top;\n",
              "    }\n",
              "\n",
              "    .dataframe thead th {\n",
              "        text-align: right;\n",
              "    }\n",
              "</style>\n",
              "<table border=\"1\" class=\"dataframe\">\n",
              "  <thead>\n",
              "    <tr style=\"text-align: right;\">\n",
              "      <th></th>\n",
              "      <th>name</th>\n",
              "      <th>network</th>\n",
              "      <th>myelin</th>\n",
              "    </tr>\n",
              "  </thead>\n",
              "  <tbody>\n",
              "    <tr>\n",
              "      <th>0</th>\n",
              "      <td>R_V1</td>\n",
              "      <td>Visual1</td>\n",
              "      <td>2.20900</td>\n",
              "    </tr>\n",
              "    <tr>\n",
              "      <th>1</th>\n",
              "      <td>R_MST</td>\n",
              "      <td>Visual2</td>\n",
              "      <td>2.05561</td>\n",
              "    </tr>\n",
              "    <tr>\n",
              "      <th>2</th>\n",
              "      <td>R_V6</td>\n",
              "      <td>Visual2</td>\n",
              "      <td>2.14980</td>\n",
              "    </tr>\n",
              "    <tr>\n",
              "      <th>3</th>\n",
              "      <td>R_V2</td>\n",
              "      <td>Visual2</td>\n",
              "      <td>2.15347</td>\n",
              "    </tr>\n",
              "    <tr>\n",
              "      <th>4</th>\n",
              "      <td>R_V3</td>\n",
              "      <td>Visual2</td>\n",
              "      <td>2.07251</td>\n",
              "    </tr>\n",
              "  </tbody>\n",
              "</table>\n",
              "</div>\n",
              "    <div class=\"colab-df-buttons\">\n",
              "\n",
              "  <div class=\"colab-df-container\">\n",
              "    <button class=\"colab-df-convert\" onclick=\"convertToInteractive('df-26c6bfa9-23bd-43bd-81e5-1595a3c02230')\"\n",
              "            title=\"Convert this dataframe to an interactive table.\"\n",
              "            style=\"display:none;\">\n",
              "\n",
              "  <svg xmlns=\"http://www.w3.org/2000/svg\" height=\"24px\" viewBox=\"0 -960 960 960\">\n",
              "    <path d=\"M120-120v-720h720v720H120Zm60-500h600v-160H180v160Zm220 220h160v-160H400v160Zm0 220h160v-160H400v160ZM180-400h160v-160H180v160Zm440 0h160v-160H620v160ZM180-180h160v-160H180v160Zm440 0h160v-160H620v160Z\"/>\n",
              "  </svg>\n",
              "    </button>\n",
              "\n",
              "  <style>\n",
              "    .colab-df-container {\n",
              "      display:flex;\n",
              "      gap: 12px;\n",
              "    }\n",
              "\n",
              "    .colab-df-convert {\n",
              "      background-color: #E8F0FE;\n",
              "      border: none;\n",
              "      border-radius: 50%;\n",
              "      cursor: pointer;\n",
              "      display: none;\n",
              "      fill: #1967D2;\n",
              "      height: 32px;\n",
              "      padding: 0 0 0 0;\n",
              "      width: 32px;\n",
              "    }\n",
              "\n",
              "    .colab-df-convert:hover {\n",
              "      background-color: #E2EBFA;\n",
              "      box-shadow: 0px 1px 2px rgba(60, 64, 67, 0.3), 0px 1px 3px 1px rgba(60, 64, 67, 0.15);\n",
              "      fill: #174EA6;\n",
              "    }\n",
              "\n",
              "    .colab-df-buttons div {\n",
              "      margin-bottom: 4px;\n",
              "    }\n",
              "\n",
              "    [theme=dark] .colab-df-convert {\n",
              "      background-color: #3B4455;\n",
              "      fill: #D2E3FC;\n",
              "    }\n",
              "\n",
              "    [theme=dark] .colab-df-convert:hover {\n",
              "      background-color: #434B5C;\n",
              "      box-shadow: 0px 1px 3px 1px rgba(0, 0, 0, 0.15);\n",
              "      filter: drop-shadow(0px 1px 2px rgba(0, 0, 0, 0.3));\n",
              "      fill: #FFFFFF;\n",
              "    }\n",
              "  </style>\n",
              "\n",
              "    <script>\n",
              "      const buttonEl =\n",
              "        document.querySelector('#df-26c6bfa9-23bd-43bd-81e5-1595a3c02230 button.colab-df-convert');\n",
              "      buttonEl.style.display =\n",
              "        google.colab.kernel.accessAllowed ? 'block' : 'none';\n",
              "\n",
              "      async function convertToInteractive(key) {\n",
              "        const element = document.querySelector('#df-26c6bfa9-23bd-43bd-81e5-1595a3c02230');\n",
              "        const dataTable =\n",
              "          await google.colab.kernel.invokeFunction('convertToInteractive',\n",
              "                                                    [key], {});\n",
              "        if (!dataTable) return;\n",
              "\n",
              "        const docLinkHtml = 'Like what you see? Visit the ' +\n",
              "          '<a target=\"_blank\" href=https://colab.research.google.com/notebooks/data_table.ipynb>data table notebook</a>'\n",
              "          + ' to learn more about interactive tables.';\n",
              "        element.innerHTML = '';\n",
              "        dataTable['output_type'] = 'display_data';\n",
              "        await google.colab.output.renderOutput(dataTable, element);\n",
              "        const docLink = document.createElement('div');\n",
              "        docLink.innerHTML = docLinkHtml;\n",
              "        element.appendChild(docLink);\n",
              "      }\n",
              "    </script>\n",
              "  </div>\n",
              "\n",
              "\n",
              "<div id=\"df-ec881234-bd92-49d8-bf9b-bcc59ab7255a\">\n",
              "  <button class=\"colab-df-quickchart\" onclick=\"quickchart('df-ec881234-bd92-49d8-bf9b-bcc59ab7255a')\"\n",
              "            title=\"Suggest charts\"\n",
              "            style=\"display:none;\">\n",
              "\n",
              "<svg xmlns=\"http://www.w3.org/2000/svg\" height=\"24px\"viewBox=\"0 0 24 24\"\n",
              "     width=\"24px\">\n",
              "    <g>\n",
              "        <path d=\"M19 3H5c-1.1 0-2 .9-2 2v14c0 1.1.9 2 2 2h14c1.1 0 2-.9 2-2V5c0-1.1-.9-2-2-2zM9 17H7v-7h2v7zm4 0h-2V7h2v10zm4 0h-2v-4h2v4z\"/>\n",
              "    </g>\n",
              "</svg>\n",
              "  </button>\n",
              "\n",
              "<style>\n",
              "  .colab-df-quickchart {\n",
              "      --bg-color: #E8F0FE;\n",
              "      --fill-color: #1967D2;\n",
              "      --hover-bg-color: #E2EBFA;\n",
              "      --hover-fill-color: #174EA6;\n",
              "      --disabled-fill-color: #AAA;\n",
              "      --disabled-bg-color: #DDD;\n",
              "  }\n",
              "\n",
              "  [theme=dark] .colab-df-quickchart {\n",
              "      --bg-color: #3B4455;\n",
              "      --fill-color: #D2E3FC;\n",
              "      --hover-bg-color: #434B5C;\n",
              "      --hover-fill-color: #FFFFFF;\n",
              "      --disabled-bg-color: #3B4455;\n",
              "      --disabled-fill-color: #666;\n",
              "  }\n",
              "\n",
              "  .colab-df-quickchart {\n",
              "    background-color: var(--bg-color);\n",
              "    border: none;\n",
              "    border-radius: 50%;\n",
              "    cursor: pointer;\n",
              "    display: none;\n",
              "    fill: var(--fill-color);\n",
              "    height: 32px;\n",
              "    padding: 0;\n",
              "    width: 32px;\n",
              "  }\n",
              "\n",
              "  .colab-df-quickchart:hover {\n",
              "    background-color: var(--hover-bg-color);\n",
              "    box-shadow: 0 1px 2px rgba(60, 64, 67, 0.3), 0 1px 3px 1px rgba(60, 64, 67, 0.15);\n",
              "    fill: var(--button-hover-fill-color);\n",
              "  }\n",
              "\n",
              "  .colab-df-quickchart-complete:disabled,\n",
              "  .colab-df-quickchart-complete:disabled:hover {\n",
              "    background-color: var(--disabled-bg-color);\n",
              "    fill: var(--disabled-fill-color);\n",
              "    box-shadow: none;\n",
              "  }\n",
              "\n",
              "  .colab-df-spinner {\n",
              "    border: 2px solid var(--fill-color);\n",
              "    border-color: transparent;\n",
              "    border-bottom-color: var(--fill-color);\n",
              "    animation:\n",
              "      spin 1s steps(1) infinite;\n",
              "  }\n",
              "\n",
              "  @keyframes spin {\n",
              "    0% {\n",
              "      border-color: transparent;\n",
              "      border-bottom-color: var(--fill-color);\n",
              "      border-left-color: var(--fill-color);\n",
              "    }\n",
              "    20% {\n",
              "      border-color: transparent;\n",
              "      border-left-color: var(--fill-color);\n",
              "      border-top-color: var(--fill-color);\n",
              "    }\n",
              "    30% {\n",
              "      border-color: transparent;\n",
              "      border-left-color: var(--fill-color);\n",
              "      border-top-color: var(--fill-color);\n",
              "      border-right-color: var(--fill-color);\n",
              "    }\n",
              "    40% {\n",
              "      border-color: transparent;\n",
              "      border-right-color: var(--fill-color);\n",
              "      border-top-color: var(--fill-color);\n",
              "    }\n",
              "    60% {\n",
              "      border-color: transparent;\n",
              "      border-right-color: var(--fill-color);\n",
              "    }\n",
              "    80% {\n",
              "      border-color: transparent;\n",
              "      border-right-color: var(--fill-color);\n",
              "      border-bottom-color: var(--fill-color);\n",
              "    }\n",
              "    90% {\n",
              "      border-color: transparent;\n",
              "      border-bottom-color: var(--fill-color);\n",
              "    }\n",
              "  }\n",
              "</style>\n",
              "\n",
              "  <script>\n",
              "    async function quickchart(key) {\n",
              "      const quickchartButtonEl =\n",
              "        document.querySelector('#' + key + ' button');\n",
              "      quickchartButtonEl.disabled = true;  // To prevent multiple clicks.\n",
              "      quickchartButtonEl.classList.add('colab-df-spinner');\n",
              "      try {\n",
              "        const charts = await google.colab.kernel.invokeFunction(\n",
              "            'suggestCharts', [key], {});\n",
              "      } catch (error) {\n",
              "        console.error('Error during call to suggestCharts:', error);\n",
              "      }\n",
              "      quickchartButtonEl.classList.remove('colab-df-spinner');\n",
              "      quickchartButtonEl.classList.add('colab-df-quickchart-complete');\n",
              "    }\n",
              "    (() => {\n",
              "      let quickchartButtonEl =\n",
              "        document.querySelector('#df-ec881234-bd92-49d8-bf9b-bcc59ab7255a button');\n",
              "      quickchartButtonEl.style.display =\n",
              "        google.colab.kernel.accessAllowed ? 'block' : 'none';\n",
              "    })();\n",
              "  </script>\n",
              "</div>\n",
              "    </div>\n",
              "  </div>\n"
            ],
            "application/vnd.google.colaboratory.intrinsic+json": {
              "type": "dataframe",
              "variable_name": "region_info_pd",
              "summary": "{\n  \"name\": \"region_info_pd\",\n  \"rows\": 360,\n  \"fields\": [\n    {\n      \"column\": \"name\",\n      \"properties\": {\n        \"dtype\": \"string\",\n        \"num_unique_values\": 360,\n        \"samples\": [\n          \"L_7Am\",\n          \"R_SCEF\",\n          \"L_PoI2\"\n        ],\n        \"semantic_type\": \"\",\n        \"description\": \"\"\n      }\n    },\n    {\n      \"column\": \"network\",\n      \"properties\": {\n        \"dtype\": \"category\",\n        \"num_unique_values\": 12,\n        \"samples\": [\n          \"Orbito-Affec\",\n          \"Posterior-Mu\",\n          \"Visual1\"\n        ],\n        \"semantic_type\": \"\",\n        \"description\": \"\"\n      }\n    },\n    {\n      \"column\": \"myelin\",\n      \"properties\": {\n        \"dtype\": \"number\",\n        \"std\": 0.14608535472479653,\n        \"min\": 1.51509,\n        \"max\": 2.34727,\n        \"num_unique_values\": 360,\n        \"samples\": [\n          1.72065,\n          1.77908,\n          1.76048\n        ],\n        \"semantic_type\": \"\",\n        \"description\": \"\"\n      }\n    }\n  ]\n}"
            }
          },
          "metadata": {},
          "execution_count": 8
        }
      ],
      "source": [
        "#make the region info a pd.data frame\n",
        "region_info_pd = pd.DataFrame(region_info)\n",
        "region_info_pd.head(5)"
      ]
    },
    {
      "cell_type": "code",
      "execution_count": null,
      "metadata": {
        "colab": {
          "base_uri": "https://localhost:8080/"
        },
        "id": "OM2oT3XLuekB",
        "outputId": "4c688dfa-dd47-48c0-a209-6a21d0c8ca3c"
      },
      "outputs": [
        {
          "output_type": "execute_result",
          "data": {
            "text/plain": [
              "{'labels_R': array([ 54, 116,  50, ..., 134, 134, 134], dtype=int32),\n",
              " 'labels_L': array([233, 228, 220, ..., 301, 301, 306], dtype=int32),\n",
              " 'coords': array([[ 13.88705062, -79.36989109,   2.95539586],\n",
              "        [ 43.31077929, -65.46435175,   3.65888316],\n",
              "        [ 17.07818631, -76.27357601,  28.4532264 ],\n",
              "        ...,\n",
              "        [-43.66333418,  -6.4398113 , -15.54653597],\n",
              "        [-10.61476522,  29.20779575,  26.91586381],\n",
              "        [ -4.58484419,  34.61082077,  15.00143417]])}"
            ]
          },
          "metadata": {},
          "execution_count": 9
        }
      ],
      "source": [
        "atlas"
      ]
    },
    {
      "cell_type": "code",
      "execution_count": null,
      "metadata": {
        "colab": {
          "base_uri": "https://localhost:8080/"
        },
        "id": "opej_d6_WIlg",
        "outputId": "4ccabee7-a634-42a4-e20d-33b103c44ca6"
      },
      "outputs": [
        {
          "output_type": "execute_result",
          "data": {
            "text/plain": [
              "network\n",
              "Posterior-Mu    77\n",
              "Cingulo-Oper    56\n",
              "Visual2         54\n",
              "Frontopariet    50\n",
              "Somatomotor     39\n",
              "Language        23\n",
              "Default         23\n",
              "Auditory        15\n",
              "Dorsal-atten     7\n",
              "Visual1          6\n",
              "Orbito-Affec     6\n",
              "Ventral-Mult     4\n",
              "Name: count, dtype: int64"
            ]
          },
          "metadata": {},
          "execution_count": 10
        }
      ],
      "source": [
        "#classic exploratory work\n",
        "region_info_pd['network'].value_counts()\n"
      ]
    },
    {
      "cell_type": "markdown",
      "metadata": {
        "id": "ReVBnxThduFr"
      },
      "source": [
        "**Atlas Exploratory Work**"
      ]
    },
    {
      "cell_type": "code",
      "execution_count": null,
      "metadata": {
        "colab": {
          "base_uri": "https://localhost:8080/",
          "height": 526
        },
        "id": "2hEMoQ7WZhmy",
        "outputId": "570ffcb0-4648-4f34-8ade-91c26514a901"
      },
      "outputs": [
        {
          "output_type": "stream",
          "name": "stdout",
          "text": [
            "<class 'dict'>\n",
            "labels_R: <class 'numpy.ndarray'> - [ 54 116  50 ... 134 134 134]\n",
            "labels_L: <class 'numpy.ndarray'> - [233 228 220 ... 301 301 306]\n",
            "coords: <class 'numpy.ndarray'> - [[ 13.88705062 -79.36989109   2.95539586]\n",
            " [ 43.31077929 -65.46435175   3.65888316]\n",
            " [ 17.07818631 -76.27357601  28.4532264 ]\n",
            " ...\n",
            " [-43.66333418  -6.4398113  -15.54653597]\n",
            " [-10.61476522  29.20779575  26.91586381]\n",
            " [ -4.58484419  34.61082077  15.00143417]]\n",
            "atlas[\"labels_R\"].shape: (10242,)\n",
            "atlas[\"labels_L\"].shape: (10242,)\n",
            "atlas[\"coords\"].shape: (360, 3)\n"
          ]
        },
        {
          "output_type": "execute_result",
          "data": {
            "text/plain": [
              "           labels_R      labels_L           x           y           z\n",
              "count  10242.000000  10242.000000  360.000000  360.000000  360.000000\n",
              "mean      74.895723    239.905292    0.232971  -19.138973   15.676536\n",
              "std       55.650470     89.207969   35.276493   39.695339   25.627438\n",
              "min       -1.000000     -1.000000  -62.865576  -89.084417  -41.542674\n",
              "25%       24.000000    203.000000  -32.730772  -52.996699   -6.106534\n",
              "50%       71.000000    252.000000    0.205165  -21.611199   14.244696\n",
              "75%      127.000000    306.000000   33.294983   13.148663   37.123880\n",
              "max      179.000000    359.000000   64.164492   63.032918   69.800713"
            ],
            "text/html": [
              "\n",
              "  <div id=\"df-5194e2ea-29f0-45a8-8f6b-224f6eb51389\" class=\"colab-df-container\">\n",
              "    <div>\n",
              "<style scoped>\n",
              "    .dataframe tbody tr th:only-of-type {\n",
              "        vertical-align: middle;\n",
              "    }\n",
              "\n",
              "    .dataframe tbody tr th {\n",
              "        vertical-align: top;\n",
              "    }\n",
              "\n",
              "    .dataframe thead th {\n",
              "        text-align: right;\n",
              "    }\n",
              "</style>\n",
              "<table border=\"1\" class=\"dataframe\">\n",
              "  <thead>\n",
              "    <tr style=\"text-align: right;\">\n",
              "      <th></th>\n",
              "      <th>labels_R</th>\n",
              "      <th>labels_L</th>\n",
              "      <th>x</th>\n",
              "      <th>y</th>\n",
              "      <th>z</th>\n",
              "    </tr>\n",
              "  </thead>\n",
              "  <tbody>\n",
              "    <tr>\n",
              "      <th>count</th>\n",
              "      <td>10242.000000</td>\n",
              "      <td>10242.000000</td>\n",
              "      <td>360.000000</td>\n",
              "      <td>360.000000</td>\n",
              "      <td>360.000000</td>\n",
              "    </tr>\n",
              "    <tr>\n",
              "      <th>mean</th>\n",
              "      <td>74.895723</td>\n",
              "      <td>239.905292</td>\n",
              "      <td>0.232971</td>\n",
              "      <td>-19.138973</td>\n",
              "      <td>15.676536</td>\n",
              "    </tr>\n",
              "    <tr>\n",
              "      <th>std</th>\n",
              "      <td>55.650470</td>\n",
              "      <td>89.207969</td>\n",
              "      <td>35.276493</td>\n",
              "      <td>39.695339</td>\n",
              "      <td>25.627438</td>\n",
              "    </tr>\n",
              "    <tr>\n",
              "      <th>min</th>\n",
              "      <td>-1.000000</td>\n",
              "      <td>-1.000000</td>\n",
              "      <td>-62.865576</td>\n",
              "      <td>-89.084417</td>\n",
              "      <td>-41.542674</td>\n",
              "    </tr>\n",
              "    <tr>\n",
              "      <th>25%</th>\n",
              "      <td>24.000000</td>\n",
              "      <td>203.000000</td>\n",
              "      <td>-32.730772</td>\n",
              "      <td>-52.996699</td>\n",
              "      <td>-6.106534</td>\n",
              "    </tr>\n",
              "    <tr>\n",
              "      <th>50%</th>\n",
              "      <td>71.000000</td>\n",
              "      <td>252.000000</td>\n",
              "      <td>0.205165</td>\n",
              "      <td>-21.611199</td>\n",
              "      <td>14.244696</td>\n",
              "    </tr>\n",
              "    <tr>\n",
              "      <th>75%</th>\n",
              "      <td>127.000000</td>\n",
              "      <td>306.000000</td>\n",
              "      <td>33.294983</td>\n",
              "      <td>13.148663</td>\n",
              "      <td>37.123880</td>\n",
              "    </tr>\n",
              "    <tr>\n",
              "      <th>max</th>\n",
              "      <td>179.000000</td>\n",
              "      <td>359.000000</td>\n",
              "      <td>64.164492</td>\n",
              "      <td>63.032918</td>\n",
              "      <td>69.800713</td>\n",
              "    </tr>\n",
              "  </tbody>\n",
              "</table>\n",
              "</div>\n",
              "    <div class=\"colab-df-buttons\">\n",
              "\n",
              "  <div class=\"colab-df-container\">\n",
              "    <button class=\"colab-df-convert\" onclick=\"convertToInteractive('df-5194e2ea-29f0-45a8-8f6b-224f6eb51389')\"\n",
              "            title=\"Convert this dataframe to an interactive table.\"\n",
              "            style=\"display:none;\">\n",
              "\n",
              "  <svg xmlns=\"http://www.w3.org/2000/svg\" height=\"24px\" viewBox=\"0 -960 960 960\">\n",
              "    <path d=\"M120-120v-720h720v720H120Zm60-500h600v-160H180v160Zm220 220h160v-160H400v160Zm0 220h160v-160H400v160ZM180-400h160v-160H180v160Zm440 0h160v-160H620v160ZM180-180h160v-160H180v160Zm440 0h160v-160H620v160Z\"/>\n",
              "  </svg>\n",
              "    </button>\n",
              "\n",
              "  <style>\n",
              "    .colab-df-container {\n",
              "      display:flex;\n",
              "      gap: 12px;\n",
              "    }\n",
              "\n",
              "    .colab-df-convert {\n",
              "      background-color: #E8F0FE;\n",
              "      border: none;\n",
              "      border-radius: 50%;\n",
              "      cursor: pointer;\n",
              "      display: none;\n",
              "      fill: #1967D2;\n",
              "      height: 32px;\n",
              "      padding: 0 0 0 0;\n",
              "      width: 32px;\n",
              "    }\n",
              "\n",
              "    .colab-df-convert:hover {\n",
              "      background-color: #E2EBFA;\n",
              "      box-shadow: 0px 1px 2px rgba(60, 64, 67, 0.3), 0px 1px 3px 1px rgba(60, 64, 67, 0.15);\n",
              "      fill: #174EA6;\n",
              "    }\n",
              "\n",
              "    .colab-df-buttons div {\n",
              "      margin-bottom: 4px;\n",
              "    }\n",
              "\n",
              "    [theme=dark] .colab-df-convert {\n",
              "      background-color: #3B4455;\n",
              "      fill: #D2E3FC;\n",
              "    }\n",
              "\n",
              "    [theme=dark] .colab-df-convert:hover {\n",
              "      background-color: #434B5C;\n",
              "      box-shadow: 0px 1px 3px 1px rgba(0, 0, 0, 0.15);\n",
              "      filter: drop-shadow(0px 1px 2px rgba(0, 0, 0, 0.3));\n",
              "      fill: #FFFFFF;\n",
              "    }\n",
              "  </style>\n",
              "\n",
              "    <script>\n",
              "      const buttonEl =\n",
              "        document.querySelector('#df-5194e2ea-29f0-45a8-8f6b-224f6eb51389 button.colab-df-convert');\n",
              "      buttonEl.style.display =\n",
              "        google.colab.kernel.accessAllowed ? 'block' : 'none';\n",
              "\n",
              "      async function convertToInteractive(key) {\n",
              "        const element = document.querySelector('#df-5194e2ea-29f0-45a8-8f6b-224f6eb51389');\n",
              "        const dataTable =\n",
              "          await google.colab.kernel.invokeFunction('convertToInteractive',\n",
              "                                                    [key], {});\n",
              "        if (!dataTable) return;\n",
              "\n",
              "        const docLinkHtml = 'Like what you see? Visit the ' +\n",
              "          '<a target=\"_blank\" href=https://colab.research.google.com/notebooks/data_table.ipynb>data table notebook</a>'\n",
              "          + ' to learn more about interactive tables.';\n",
              "        element.innerHTML = '';\n",
              "        dataTable['output_type'] = 'display_data';\n",
              "        await google.colab.output.renderOutput(dataTable, element);\n",
              "        const docLink = document.createElement('div');\n",
              "        docLink.innerHTML = docLinkHtml;\n",
              "        element.appendChild(docLink);\n",
              "      }\n",
              "    </script>\n",
              "  </div>\n",
              "\n",
              "\n",
              "<div id=\"df-85dd84ca-b621-4c5d-b20b-51dc4a345e82\">\n",
              "  <button class=\"colab-df-quickchart\" onclick=\"quickchart('df-85dd84ca-b621-4c5d-b20b-51dc4a345e82')\"\n",
              "            title=\"Suggest charts\"\n",
              "            style=\"display:none;\">\n",
              "\n",
              "<svg xmlns=\"http://www.w3.org/2000/svg\" height=\"24px\"viewBox=\"0 0 24 24\"\n",
              "     width=\"24px\">\n",
              "    <g>\n",
              "        <path d=\"M19 3H5c-1.1 0-2 .9-2 2v14c0 1.1.9 2 2 2h14c1.1 0 2-.9 2-2V5c0-1.1-.9-2-2-2zM9 17H7v-7h2v7zm4 0h-2V7h2v10zm4 0h-2v-4h2v4z\"/>\n",
              "    </g>\n",
              "</svg>\n",
              "  </button>\n",
              "\n",
              "<style>\n",
              "  .colab-df-quickchart {\n",
              "      --bg-color: #E8F0FE;\n",
              "      --fill-color: #1967D2;\n",
              "      --hover-bg-color: #E2EBFA;\n",
              "      --hover-fill-color: #174EA6;\n",
              "      --disabled-fill-color: #AAA;\n",
              "      --disabled-bg-color: #DDD;\n",
              "  }\n",
              "\n",
              "  [theme=dark] .colab-df-quickchart {\n",
              "      --bg-color: #3B4455;\n",
              "      --fill-color: #D2E3FC;\n",
              "      --hover-bg-color: #434B5C;\n",
              "      --hover-fill-color: #FFFFFF;\n",
              "      --disabled-bg-color: #3B4455;\n",
              "      --disabled-fill-color: #666;\n",
              "  }\n",
              "\n",
              "  .colab-df-quickchart {\n",
              "    background-color: var(--bg-color);\n",
              "    border: none;\n",
              "    border-radius: 50%;\n",
              "    cursor: pointer;\n",
              "    display: none;\n",
              "    fill: var(--fill-color);\n",
              "    height: 32px;\n",
              "    padding: 0;\n",
              "    width: 32px;\n",
              "  }\n",
              "\n",
              "  .colab-df-quickchart:hover {\n",
              "    background-color: var(--hover-bg-color);\n",
              "    box-shadow: 0 1px 2px rgba(60, 64, 67, 0.3), 0 1px 3px 1px rgba(60, 64, 67, 0.15);\n",
              "    fill: var(--button-hover-fill-color);\n",
              "  }\n",
              "\n",
              "  .colab-df-quickchart-complete:disabled,\n",
              "  .colab-df-quickchart-complete:disabled:hover {\n",
              "    background-color: var(--disabled-bg-color);\n",
              "    fill: var(--disabled-fill-color);\n",
              "    box-shadow: none;\n",
              "  }\n",
              "\n",
              "  .colab-df-spinner {\n",
              "    border: 2px solid var(--fill-color);\n",
              "    border-color: transparent;\n",
              "    border-bottom-color: var(--fill-color);\n",
              "    animation:\n",
              "      spin 1s steps(1) infinite;\n",
              "  }\n",
              "\n",
              "  @keyframes spin {\n",
              "    0% {\n",
              "      border-color: transparent;\n",
              "      border-bottom-color: var(--fill-color);\n",
              "      border-left-color: var(--fill-color);\n",
              "    }\n",
              "    20% {\n",
              "      border-color: transparent;\n",
              "      border-left-color: var(--fill-color);\n",
              "      border-top-color: var(--fill-color);\n",
              "    }\n",
              "    30% {\n",
              "      border-color: transparent;\n",
              "      border-left-color: var(--fill-color);\n",
              "      border-top-color: var(--fill-color);\n",
              "      border-right-color: var(--fill-color);\n",
              "    }\n",
              "    40% {\n",
              "      border-color: transparent;\n",
              "      border-right-color: var(--fill-color);\n",
              "      border-top-color: var(--fill-color);\n",
              "    }\n",
              "    60% {\n",
              "      border-color: transparent;\n",
              "      border-right-color: var(--fill-color);\n",
              "    }\n",
              "    80% {\n",
              "      border-color: transparent;\n",
              "      border-right-color: var(--fill-color);\n",
              "      border-bottom-color: var(--fill-color);\n",
              "    }\n",
              "    90% {\n",
              "      border-color: transparent;\n",
              "      border-bottom-color: var(--fill-color);\n",
              "    }\n",
              "  }\n",
              "</style>\n",
              "\n",
              "  <script>\n",
              "    async function quickchart(key) {\n",
              "      const quickchartButtonEl =\n",
              "        document.querySelector('#' + key + ' button');\n",
              "      quickchartButtonEl.disabled = true;  // To prevent multiple clicks.\n",
              "      quickchartButtonEl.classList.add('colab-df-spinner');\n",
              "      try {\n",
              "        const charts = await google.colab.kernel.invokeFunction(\n",
              "            'suggestCharts', [key], {});\n",
              "      } catch (error) {\n",
              "        console.error('Error during call to suggestCharts:', error);\n",
              "      }\n",
              "      quickchartButtonEl.classList.remove('colab-df-spinner');\n",
              "      quickchartButtonEl.classList.add('colab-df-quickchart-complete');\n",
              "    }\n",
              "    (() => {\n",
              "      let quickchartButtonEl =\n",
              "        document.querySelector('#df-85dd84ca-b621-4c5d-b20b-51dc4a345e82 button');\n",
              "      quickchartButtonEl.style.display =\n",
              "        google.colab.kernel.accessAllowed ? 'block' : 'none';\n",
              "    })();\n",
              "  </script>\n",
              "</div>\n",
              "    </div>\n",
              "  </div>\n"
            ],
            "application/vnd.google.colaboratory.intrinsic+json": {
              "type": "dataframe",
              "summary": "{\n  \"name\": \"atlas_pd\",\n  \"rows\": 8,\n  \"fields\": [\n    {\n      \"column\": \"labels_R\",\n      \"properties\": {\n        \"dtype\": \"number\",\n        \"std\": 3594.739994745725,\n        \"min\": -1.0,\n        \"max\": 10242.0,\n        \"num_unique_values\": 8,\n        \"samples\": [\n          74.89572349150556,\n          71.0,\n          10242.0\n        ],\n        \"semantic_type\": \"\",\n        \"description\": \"\"\n      }\n    },\n    {\n      \"column\": \"labels_L\",\n      \"properties\": {\n        \"dtype\": \"number\",\n        \"std\": 3549.828247439959,\n        \"min\": -1.0,\n        \"max\": 10242.0,\n        \"num_unique_values\": 8,\n        \"samples\": [\n          239.90529193516892,\n          252.0,\n          10242.0\n        ],\n        \"semantic_type\": \"\",\n        \"description\": \"\"\n      }\n    },\n    {\n      \"column\": \"x\",\n      \"properties\": {\n        \"dtype\": \"number\",\n        \"std\": 131.6570438703522,\n        \"min\": -62.865576158135624,\n        \"max\": 360.0,\n        \"num_unique_values\": 8,\n        \"samples\": [\n          0.2329712542680113,\n          0.20516487680548723,\n          360.0\n        ],\n        \"semantic_type\": \"\",\n        \"description\": \"\"\n      }\n    },\n    {\n      \"column\": \"y\",\n      \"properties\": {\n        \"dtype\": \"number\",\n        \"std\": 139.47110090571667,\n        \"min\": -89.08441670735677,\n        \"max\": 360.0,\n        \"num_unique_values\": 8,\n        \"samples\": [\n          -19.138973315679653,\n          -21.61119939189846,\n          360.0\n        ],\n        \"semantic_type\": \"\",\n        \"description\": \"\"\n      }\n    },\n    {\n      \"column\": \"z\",\n      \"properties\": {\n        \"dtype\": \"number\",\n        \"std\": 125.66201888182707,\n        \"min\": -41.542673910259296,\n        \"max\": 360.0,\n        \"num_unique_values\": 8,\n        \"samples\": [\n          15.67653558091315,\n          14.24469610348801,\n          360.0\n        ],\n        \"semantic_type\": \"\",\n        \"description\": \"\"\n      }\n    }\n  ]\n}"
            }
          },
          "metadata": {},
          "execution_count": 11
        }
      ],
      "source": [
        "#Transofrming atlas directly to a pd.DataFrame gives me an error, let's inspect why.\n",
        "\n",
        "print(type(atlas))\n",
        "\n",
        "for key, value in atlas.items():\n",
        "  print(f\"{key}: {type(value)} - {value}\")\n",
        "\n",
        "#It gives an error because it is a multidimensional array in coords.\n",
        "print(\"atlas[\\\"labels_R\\\"].shape:\", atlas[\"labels_L\"].shape)\n",
        "print(\"atlas[\\\"labels_L\\\"].shape:\", atlas[\"labels_L\"].shape)\n",
        "print(\"atlas[\\\"coords\\\"].shape:\", atlas[\"coords\"].shape)\n",
        "\n",
        "# Indeed coords has shape (360, 3). Let's unpack it to transofrm it into a pd.DataFrame for comodity later.\n",
        "# Probably coords corresponds to coordinates, and the fact that it has three dimensions means x, y, z.\n",
        "# So let's unpack it into these three.\n",
        "\n",
        "coords = pd.DataFrame(atlas['coords'], columns=['x', 'y', 'z'])\n",
        "\n",
        "#Let's also create two DataFrames for the other labels\n",
        "\n",
        "labels = pd.DataFrame({\n",
        "    'labels_R': atlas['labels_R'],\n",
        "    'labels_L': atlas['labels_L']\n",
        "})\n",
        "\n",
        "# Let's then concatenate and form a final pd.DataFrame\n",
        "\n",
        "atlas_pd = pd.concat([labels, coords], axis=1)\n",
        "\n",
        "atlas_pd.describe()"
      ]
    },
    {
      "cell_type": "markdown",
      "metadata": {
        "id": "vB0AMhz8egMK"
      },
      "source": [
        "## Working Memory Task exploratory work"
      ]
    },
    {
      "cell_type": "code",
      "execution_count": null,
      "metadata": {
        "colab": {
          "base_uri": "https://localhost:8080/"
        },
        "id": "pLNORdkaew9D",
        "outputId": "28c97297-20fe-45c3-9691-64a4b1b617e0"
      },
      "outputs": [
        {
          "output_type": "stream",
          "name": "stdout",
          "text": [
            "Help on function read_behavior_data in module __main__:\n",
            "\n",
            "read_behavior_data(kind, output_type='pandas')\n",
            "    Read behavior data from HCP dataset.\n",
            "    \n",
            "    Args:\n",
            "        kind (str): \"gambling\", \"language\", \"emotion\", \"relational\", \"social\" or \"wm\",\n",
            "        output_type (str): Sets the output dataframe format. Can be \"numpy\" or \"pandas\". Default is \"pandas\".\n",
            "    Returns:\n",
            "         wm_behavior (np.ndarray or pandas DataFrame): behavior data\n",
            "\n"
          ]
        }
      ],
      "source": [
        "help(read_behavior_data)"
      ]
    },
    {
      "cell_type": "code",
      "execution_count": null,
      "metadata": {
        "colab": {
          "base_uri": "https://localhost:8080/"
        },
        "id": "__ImRVaEesdH",
        "outputId": "0b226622-a687-46ec-e7ac-eaf11267e132"
      },
      "outputs": [
        {
          "output_type": "stream",
          "name": "stdout",
          "text": [
            "<class 'pandas.core.frame.DataFrame'>\n"
          ]
        }
      ],
      "source": [
        "wm_behavior = read_behavior_data(\"wm\")\n",
        "print(type(wm_behavior))"
      ]
    },
    {
      "cell_type": "code",
      "execution_count": null,
      "metadata": {
        "colab": {
          "base_uri": "https://localhost:8080/"
        },
        "id": "M4h0VBN8JcrG",
        "outputId": "6b0ea53b-cda2-4ab5-f022-74326950251f"
      },
      "outputs": [
        {
          "output_type": "stream",
          "name": "stdout",
          "text": [
            "<class 'pandas.core.frame.DataFrame'>\n",
            "RangeIndex: 5382 entries, 0 to 5381\n",
            "Data columns (total 9 columns):\n",
            " #   Column               Non-Null Count  Dtype  \n",
            "---  ------               --------------  -----  \n",
            " 0   Subject              5382 non-null   int64  \n",
            " 1   Run                  5382 non-null   int64  \n",
            " 2   ConditionName        5382 non-null   object \n",
            " 3   ACC                  5382 non-null   float64\n",
            " 4   ACC_NONTARGET        5376 non-null   float64\n",
            " 5   ACC_TARGET           5382 non-null   float64\n",
            " 6   MEDIAN_RT            5376 non-null   float64\n",
            " 7   MEDIAN_RT_NONTARGET  5373 non-null   float64\n",
            " 8   MEDIAN_RT_TARGET     4894 non-null   float64\n",
            "dtypes: float64(6), int64(2), object(1)\n",
            "memory usage: 378.5+ KB\n"
          ]
        }
      ],
      "source": [
        "wm_behavior.info()"
      ]
    },
    {
      "cell_type": "code",
      "execution_count": null,
      "metadata": {
        "colab": {
          "base_uri": "https://localhost:8080/",
          "height": 300
        },
        "id": "nvnvLXZjKAGO",
        "outputId": "601bf81d-c1b2-497e-c91e-1231715f7b21"
      },
      "outputs": [
        {
          "output_type": "execute_result",
          "data": {
            "text/plain": [
              "           Subject          Run          ACC  ACC_NONTARGET   ACC_TARGET  \\\n",
              "count  5382.000000  5382.000000  5382.000000    5376.000000  5382.000000   \n",
              "mean    168.880342     0.500000     0.887769       0.910280     0.809365   \n",
              "std      97.799125     0.500046     0.152766       0.143950     0.322284   \n",
              "min       0.000000     0.000000     0.100000       0.000000     0.000000   \n",
              "25%      84.250000     0.000000     0.800000       0.833333     0.500000   \n",
              "50%     169.000000     0.500000     1.000000       1.000000     1.000000   \n",
              "75%     253.750000     1.000000     1.000000       1.000000     1.000000   \n",
              "max     338.000000     1.000000     1.000000       1.000000     1.000000   \n",
              "\n",
              "         MEDIAN_RT  MEDIAN_RT_NONTARGET  MEDIAN_RT_TARGET  \n",
              "count  5376.000000          5373.000000       4894.000000  \n",
              "mean    861.748326           869.721292        872.043318  \n",
              "std     241.638974           254.814939        276.054963  \n",
              "min     291.000000           291.000000         75.000000  \n",
              "25%     676.000000           675.000000        665.500000  \n",
              "50%     821.500000           828.500000        815.000000  \n",
              "75%    1005.500000          1023.500000       1023.500000  \n",
              "max    1839.000000          1839.000000       1978.000000  "
            ],
            "text/html": [
              "\n",
              "  <div id=\"df-fee8744c-679f-43e5-aad9-9726e91ead2b\" class=\"colab-df-container\">\n",
              "    <div>\n",
              "<style scoped>\n",
              "    .dataframe tbody tr th:only-of-type {\n",
              "        vertical-align: middle;\n",
              "    }\n",
              "\n",
              "    .dataframe tbody tr th {\n",
              "        vertical-align: top;\n",
              "    }\n",
              "\n",
              "    .dataframe thead th {\n",
              "        text-align: right;\n",
              "    }\n",
              "</style>\n",
              "<table border=\"1\" class=\"dataframe\">\n",
              "  <thead>\n",
              "    <tr style=\"text-align: right;\">\n",
              "      <th></th>\n",
              "      <th>Subject</th>\n",
              "      <th>Run</th>\n",
              "      <th>ACC</th>\n",
              "      <th>ACC_NONTARGET</th>\n",
              "      <th>ACC_TARGET</th>\n",
              "      <th>MEDIAN_RT</th>\n",
              "      <th>MEDIAN_RT_NONTARGET</th>\n",
              "      <th>MEDIAN_RT_TARGET</th>\n",
              "    </tr>\n",
              "  </thead>\n",
              "  <tbody>\n",
              "    <tr>\n",
              "      <th>count</th>\n",
              "      <td>5382.000000</td>\n",
              "      <td>5382.000000</td>\n",
              "      <td>5382.000000</td>\n",
              "      <td>5376.000000</td>\n",
              "      <td>5382.000000</td>\n",
              "      <td>5376.000000</td>\n",
              "      <td>5373.000000</td>\n",
              "      <td>4894.000000</td>\n",
              "    </tr>\n",
              "    <tr>\n",
              "      <th>mean</th>\n",
              "      <td>168.880342</td>\n",
              "      <td>0.500000</td>\n",
              "      <td>0.887769</td>\n",
              "      <td>0.910280</td>\n",
              "      <td>0.809365</td>\n",
              "      <td>861.748326</td>\n",
              "      <td>869.721292</td>\n",
              "      <td>872.043318</td>\n",
              "    </tr>\n",
              "    <tr>\n",
              "      <th>std</th>\n",
              "      <td>97.799125</td>\n",
              "      <td>0.500046</td>\n",
              "      <td>0.152766</td>\n",
              "      <td>0.143950</td>\n",
              "      <td>0.322284</td>\n",
              "      <td>241.638974</td>\n",
              "      <td>254.814939</td>\n",
              "      <td>276.054963</td>\n",
              "    </tr>\n",
              "    <tr>\n",
              "      <th>min</th>\n",
              "      <td>0.000000</td>\n",
              "      <td>0.000000</td>\n",
              "      <td>0.100000</td>\n",
              "      <td>0.000000</td>\n",
              "      <td>0.000000</td>\n",
              "      <td>291.000000</td>\n",
              "      <td>291.000000</td>\n",
              "      <td>75.000000</td>\n",
              "    </tr>\n",
              "    <tr>\n",
              "      <th>25%</th>\n",
              "      <td>84.250000</td>\n",
              "      <td>0.000000</td>\n",
              "      <td>0.800000</td>\n",
              "      <td>0.833333</td>\n",
              "      <td>0.500000</td>\n",
              "      <td>676.000000</td>\n",
              "      <td>675.000000</td>\n",
              "      <td>665.500000</td>\n",
              "    </tr>\n",
              "    <tr>\n",
              "      <th>50%</th>\n",
              "      <td>169.000000</td>\n",
              "      <td>0.500000</td>\n",
              "      <td>1.000000</td>\n",
              "      <td>1.000000</td>\n",
              "      <td>1.000000</td>\n",
              "      <td>821.500000</td>\n",
              "      <td>828.500000</td>\n",
              "      <td>815.000000</td>\n",
              "    </tr>\n",
              "    <tr>\n",
              "      <th>75%</th>\n",
              "      <td>253.750000</td>\n",
              "      <td>1.000000</td>\n",
              "      <td>1.000000</td>\n",
              "      <td>1.000000</td>\n",
              "      <td>1.000000</td>\n",
              "      <td>1005.500000</td>\n",
              "      <td>1023.500000</td>\n",
              "      <td>1023.500000</td>\n",
              "    </tr>\n",
              "    <tr>\n",
              "      <th>max</th>\n",
              "      <td>338.000000</td>\n",
              "      <td>1.000000</td>\n",
              "      <td>1.000000</td>\n",
              "      <td>1.000000</td>\n",
              "      <td>1.000000</td>\n",
              "      <td>1839.000000</td>\n",
              "      <td>1839.000000</td>\n",
              "      <td>1978.000000</td>\n",
              "    </tr>\n",
              "  </tbody>\n",
              "</table>\n",
              "</div>\n",
              "    <div class=\"colab-df-buttons\">\n",
              "\n",
              "  <div class=\"colab-df-container\">\n",
              "    <button class=\"colab-df-convert\" onclick=\"convertToInteractive('df-fee8744c-679f-43e5-aad9-9726e91ead2b')\"\n",
              "            title=\"Convert this dataframe to an interactive table.\"\n",
              "            style=\"display:none;\">\n",
              "\n",
              "  <svg xmlns=\"http://www.w3.org/2000/svg\" height=\"24px\" viewBox=\"0 -960 960 960\">\n",
              "    <path d=\"M120-120v-720h720v720H120Zm60-500h600v-160H180v160Zm220 220h160v-160H400v160Zm0 220h160v-160H400v160ZM180-400h160v-160H180v160Zm440 0h160v-160H620v160ZM180-180h160v-160H180v160Zm440 0h160v-160H620v160Z\"/>\n",
              "  </svg>\n",
              "    </button>\n",
              "\n",
              "  <style>\n",
              "    .colab-df-container {\n",
              "      display:flex;\n",
              "      gap: 12px;\n",
              "    }\n",
              "\n",
              "    .colab-df-convert {\n",
              "      background-color: #E8F0FE;\n",
              "      border: none;\n",
              "      border-radius: 50%;\n",
              "      cursor: pointer;\n",
              "      display: none;\n",
              "      fill: #1967D2;\n",
              "      height: 32px;\n",
              "      padding: 0 0 0 0;\n",
              "      width: 32px;\n",
              "    }\n",
              "\n",
              "    .colab-df-convert:hover {\n",
              "      background-color: #E2EBFA;\n",
              "      box-shadow: 0px 1px 2px rgba(60, 64, 67, 0.3), 0px 1px 3px 1px rgba(60, 64, 67, 0.15);\n",
              "      fill: #174EA6;\n",
              "    }\n",
              "\n",
              "    .colab-df-buttons div {\n",
              "      margin-bottom: 4px;\n",
              "    }\n",
              "\n",
              "    [theme=dark] .colab-df-convert {\n",
              "      background-color: #3B4455;\n",
              "      fill: #D2E3FC;\n",
              "    }\n",
              "\n",
              "    [theme=dark] .colab-df-convert:hover {\n",
              "      background-color: #434B5C;\n",
              "      box-shadow: 0px 1px 3px 1px rgba(0, 0, 0, 0.15);\n",
              "      filter: drop-shadow(0px 1px 2px rgba(0, 0, 0, 0.3));\n",
              "      fill: #FFFFFF;\n",
              "    }\n",
              "  </style>\n",
              "\n",
              "    <script>\n",
              "      const buttonEl =\n",
              "        document.querySelector('#df-fee8744c-679f-43e5-aad9-9726e91ead2b button.colab-df-convert');\n",
              "      buttonEl.style.display =\n",
              "        google.colab.kernel.accessAllowed ? 'block' : 'none';\n",
              "\n",
              "      async function convertToInteractive(key) {\n",
              "        const element = document.querySelector('#df-fee8744c-679f-43e5-aad9-9726e91ead2b');\n",
              "        const dataTable =\n",
              "          await google.colab.kernel.invokeFunction('convertToInteractive',\n",
              "                                                    [key], {});\n",
              "        if (!dataTable) return;\n",
              "\n",
              "        const docLinkHtml = 'Like what you see? Visit the ' +\n",
              "          '<a target=\"_blank\" href=https://colab.research.google.com/notebooks/data_table.ipynb>data table notebook</a>'\n",
              "          + ' to learn more about interactive tables.';\n",
              "        element.innerHTML = '';\n",
              "        dataTable['output_type'] = 'display_data';\n",
              "        await google.colab.output.renderOutput(dataTable, element);\n",
              "        const docLink = document.createElement('div');\n",
              "        docLink.innerHTML = docLinkHtml;\n",
              "        element.appendChild(docLink);\n",
              "      }\n",
              "    </script>\n",
              "  </div>\n",
              "\n",
              "\n",
              "<div id=\"df-38e61c79-1d1b-4e8e-a5cb-28a360910195\">\n",
              "  <button class=\"colab-df-quickchart\" onclick=\"quickchart('df-38e61c79-1d1b-4e8e-a5cb-28a360910195')\"\n",
              "            title=\"Suggest charts\"\n",
              "            style=\"display:none;\">\n",
              "\n",
              "<svg xmlns=\"http://www.w3.org/2000/svg\" height=\"24px\"viewBox=\"0 0 24 24\"\n",
              "     width=\"24px\">\n",
              "    <g>\n",
              "        <path d=\"M19 3H5c-1.1 0-2 .9-2 2v14c0 1.1.9 2 2 2h14c1.1 0 2-.9 2-2V5c0-1.1-.9-2-2-2zM9 17H7v-7h2v7zm4 0h-2V7h2v10zm4 0h-2v-4h2v4z\"/>\n",
              "    </g>\n",
              "</svg>\n",
              "  </button>\n",
              "\n",
              "<style>\n",
              "  .colab-df-quickchart {\n",
              "      --bg-color: #E8F0FE;\n",
              "      --fill-color: #1967D2;\n",
              "      --hover-bg-color: #E2EBFA;\n",
              "      --hover-fill-color: #174EA6;\n",
              "      --disabled-fill-color: #AAA;\n",
              "      --disabled-bg-color: #DDD;\n",
              "  }\n",
              "\n",
              "  [theme=dark] .colab-df-quickchart {\n",
              "      --bg-color: #3B4455;\n",
              "      --fill-color: #D2E3FC;\n",
              "      --hover-bg-color: #434B5C;\n",
              "      --hover-fill-color: #FFFFFF;\n",
              "      --disabled-bg-color: #3B4455;\n",
              "      --disabled-fill-color: #666;\n",
              "  }\n",
              "\n",
              "  .colab-df-quickchart {\n",
              "    background-color: var(--bg-color);\n",
              "    border: none;\n",
              "    border-radius: 50%;\n",
              "    cursor: pointer;\n",
              "    display: none;\n",
              "    fill: var(--fill-color);\n",
              "    height: 32px;\n",
              "    padding: 0;\n",
              "    width: 32px;\n",
              "  }\n",
              "\n",
              "  .colab-df-quickchart:hover {\n",
              "    background-color: var(--hover-bg-color);\n",
              "    box-shadow: 0 1px 2px rgba(60, 64, 67, 0.3), 0 1px 3px 1px rgba(60, 64, 67, 0.15);\n",
              "    fill: var(--button-hover-fill-color);\n",
              "  }\n",
              "\n",
              "  .colab-df-quickchart-complete:disabled,\n",
              "  .colab-df-quickchart-complete:disabled:hover {\n",
              "    background-color: var(--disabled-bg-color);\n",
              "    fill: var(--disabled-fill-color);\n",
              "    box-shadow: none;\n",
              "  }\n",
              "\n",
              "  .colab-df-spinner {\n",
              "    border: 2px solid var(--fill-color);\n",
              "    border-color: transparent;\n",
              "    border-bottom-color: var(--fill-color);\n",
              "    animation:\n",
              "      spin 1s steps(1) infinite;\n",
              "  }\n",
              "\n",
              "  @keyframes spin {\n",
              "    0% {\n",
              "      border-color: transparent;\n",
              "      border-bottom-color: var(--fill-color);\n",
              "      border-left-color: var(--fill-color);\n",
              "    }\n",
              "    20% {\n",
              "      border-color: transparent;\n",
              "      border-left-color: var(--fill-color);\n",
              "      border-top-color: var(--fill-color);\n",
              "    }\n",
              "    30% {\n",
              "      border-color: transparent;\n",
              "      border-left-color: var(--fill-color);\n",
              "      border-top-color: var(--fill-color);\n",
              "      border-right-color: var(--fill-color);\n",
              "    }\n",
              "    40% {\n",
              "      border-color: transparent;\n",
              "      border-right-color: var(--fill-color);\n",
              "      border-top-color: var(--fill-color);\n",
              "    }\n",
              "    60% {\n",
              "      border-color: transparent;\n",
              "      border-right-color: var(--fill-color);\n",
              "    }\n",
              "    80% {\n",
              "      border-color: transparent;\n",
              "      border-right-color: var(--fill-color);\n",
              "      border-bottom-color: var(--fill-color);\n",
              "    }\n",
              "    90% {\n",
              "      border-color: transparent;\n",
              "      border-bottom-color: var(--fill-color);\n",
              "    }\n",
              "  }\n",
              "</style>\n",
              "\n",
              "  <script>\n",
              "    async function quickchart(key) {\n",
              "      const quickchartButtonEl =\n",
              "        document.querySelector('#' + key + ' button');\n",
              "      quickchartButtonEl.disabled = true;  // To prevent multiple clicks.\n",
              "      quickchartButtonEl.classList.add('colab-df-spinner');\n",
              "      try {\n",
              "        const charts = await google.colab.kernel.invokeFunction(\n",
              "            'suggestCharts', [key], {});\n",
              "      } catch (error) {\n",
              "        console.error('Error during call to suggestCharts:', error);\n",
              "      }\n",
              "      quickchartButtonEl.classList.remove('colab-df-spinner');\n",
              "      quickchartButtonEl.classList.add('colab-df-quickchart-complete');\n",
              "    }\n",
              "    (() => {\n",
              "      let quickchartButtonEl =\n",
              "        document.querySelector('#df-38e61c79-1d1b-4e8e-a5cb-28a360910195 button');\n",
              "      quickchartButtonEl.style.display =\n",
              "        google.colab.kernel.accessAllowed ? 'block' : 'none';\n",
              "    })();\n",
              "  </script>\n",
              "</div>\n",
              "    </div>\n",
              "  </div>\n"
            ],
            "application/vnd.google.colaboratory.intrinsic+json": {
              "type": "dataframe",
              "summary": "{\n  \"name\": \"wm_behavior\",\n  \"rows\": 8,\n  \"fields\": [\n    {\n      \"column\": \"Subject\",\n      \"properties\": {\n        \"dtype\": \"number\",\n        \"std\": 1849.6068013267522,\n        \"min\": 0.0,\n        \"max\": 5382.0,\n        \"num_unique_values\": 8,\n        \"samples\": [\n          168.8803418803419,\n          169.0,\n          5382.0\n        ],\n        \"semantic_type\": \"\",\n        \"description\": \"\"\n      }\n    },\n    {\n      \"column\": \"Run\",\n      \"properties\": {\n        \"dtype\": \"number\",\n        \"std\": 1902.6476066729113,\n        \"min\": 0.0,\n        \"max\": 5382.0,\n        \"num_unique_values\": 5,\n        \"samples\": [\n          0.5,\n          1.0,\n          0.5000464576075335\n        ],\n        \"semantic_type\": \"\",\n        \"description\": \"\"\n      }\n    },\n    {\n      \"column\": \"ACC\",\n      \"properties\": {\n        \"dtype\": \"number\",\n        \"std\": 1902.574850022586,\n        \"min\": 0.1,\n        \"max\": 5382.0,\n        \"num_unique_values\": 6,\n        \"samples\": [\n          5382.0,\n          0.8877694165737643,\n          1.0\n        ],\n        \"semantic_type\": \"\",\n        \"description\": \"\"\n      }\n    },\n    {\n      \"column\": \"ACC_NONTARGET\",\n      \"properties\": {\n        \"dtype\": \"number\",\n        \"std\": 1900.456211125807,\n        \"min\": 0.0,\n        \"max\": 5376.0,\n        \"num_unique_values\": 6,\n        \"samples\": [\n          5376.0,\n          0.910280257936481,\n          1.0\n        ],\n        \"semantic_type\": \"\",\n        \"description\": \"\"\n      }\n    },\n    {\n      \"column\": \"ACC_TARGET\",\n      \"properties\": {\n        \"dtype\": \"number\",\n        \"std\": 1902.5904500504676,\n        \"min\": 0.0,\n        \"max\": 5382.0,\n        \"num_unique_values\": 6,\n        \"samples\": [\n          5382.0,\n          0.8093645484949833,\n          1.0\n        ],\n        \"semantic_type\": \"\",\n        \"description\": \"\"\n      }\n    },\n    {\n      \"column\": \"MEDIAN_RT\",\n      \"properties\": {\n        \"dtype\": \"number\",\n        \"std\": 1685.0689741117676,\n        \"min\": 241.63897421082956,\n        \"max\": 5376.0,\n        \"num_unique_values\": 8,\n        \"samples\": [\n          861.7483258928571,\n          821.5,\n          5376.0\n        ],\n        \"semantic_type\": \"\",\n        \"description\": \"\"\n      }\n    },\n    {\n      \"column\": \"MEDIAN_RT_NONTARGET\",\n      \"properties\": {\n        \"dtype\": \"number\",\n        \"std\": 1681.568420247897,\n        \"min\": 254.81493871844938,\n        \"max\": 5373.0,\n        \"num_unique_values\": 8,\n        \"samples\": [\n          869.7212916434022,\n          828.5,\n          5373.0\n        ],\n        \"semantic_type\": \"\",\n        \"description\": \"\"\n      }\n    },\n    {\n      \"column\": \"MEDIAN_RT_TARGET\",\n      \"properties\": {\n        \"dtype\": \"number\",\n        \"std\": 1550.0261677449362,\n        \"min\": 75.0,\n        \"max\": 4894.0,\n        \"num_unique_values\": 8,\n        \"samples\": [\n          872.0433183489988,\n          815.0,\n          4894.0\n        ],\n        \"semantic_type\": \"\",\n        \"description\": \"\"\n      }\n    }\n  ]\n}"
            }
          },
          "metadata": {},
          "execution_count": 15
        }
      ],
      "source": [
        "wm_behavior.describe()"
      ]
    },
    {
      "cell_type": "code",
      "execution_count": null,
      "metadata": {
        "colab": {
          "base_uri": "https://localhost:8080/",
          "height": 520
        },
        "id": "TlnYD1E6JFaV",
        "outputId": "3fead19b-1928-4d79-f14c-f26cc420d02b"
      },
      "outputs": [
        {
          "output_type": "execute_result",
          "data": {
            "text/plain": [
              "    Subject  Run ConditionName   ACC  ACC_NONTARGET  ACC_TARGET  MEDIAN_RT  \\\n",
              "0         0    0      0BK_BODY  1.00       1.000000         1.0      705.5   \n",
              "1         0    0      0BK_FACE  1.00       1.000000         1.0      779.5   \n",
              "2         0    0     0BK_PLACE  1.00       1.000000         1.0      926.0   \n",
              "3         0    0      0BK_TOOL  1.00       1.000000         1.0      807.5   \n",
              "4         0    0      2BK_BODY  1.00       1.000000         1.0     1133.0   \n",
              "5         0    0      2BK_FACE  1.00       1.000000         1.0     1308.5   \n",
              "6         0    0     2BK_PLACE  1.00       1.000000         1.0     1016.0   \n",
              "7         0    0      2BK_TOOL  0.75       0.666667         1.0      892.0   \n",
              "8         0    1      0BK_BODY  1.00       1.000000         1.0     1117.0   \n",
              "9         0    1      0BK_FACE  1.00       1.000000         1.0      806.5   \n",
              "10        0    1     0BK_PLACE  1.00       1.000000         1.0      799.0   \n",
              "11        0    1      0BK_TOOL  1.00       1.000000         1.0      877.0   \n",
              "12        0    1      2BK_BODY  0.75       0.666667         1.0     1009.5   \n",
              "13        0    1      2BK_FACE  1.00       1.000000         1.0     1040.5   \n",
              "14        0    1     2BK_PLACE  1.00       1.000000         1.0     1114.0   \n",
              "\n",
              "    MEDIAN_RT_NONTARGET  MEDIAN_RT_TARGET  \n",
              "0                 740.5             696.0  \n",
              "1                 765.0             915.0  \n",
              "2                 993.5             811.5  \n",
              "3                 807.5             807.5  \n",
              "4                1205.5             732.5  \n",
              "5                1350.5            1064.5  \n",
              "6                1016.0            1097.0  \n",
              "7                 892.0             915.5  \n",
              "8                1117.0            1350.0  \n",
              "9                 806.5             755.5  \n",
              "10                779.0             820.0  \n",
              "11                926.5             649.5  \n",
              "12                999.0            1139.5  \n",
              "13               1060.0             821.5  \n",
              "14               1138.0            1076.5  "
            ],
            "text/html": [
              "\n",
              "  <div id=\"df-1bce0938-711f-498b-bbf2-c90e528d08a8\" class=\"colab-df-container\">\n",
              "    <div>\n",
              "<style scoped>\n",
              "    .dataframe tbody tr th:only-of-type {\n",
              "        vertical-align: middle;\n",
              "    }\n",
              "\n",
              "    .dataframe tbody tr th {\n",
              "        vertical-align: top;\n",
              "    }\n",
              "\n",
              "    .dataframe thead th {\n",
              "        text-align: right;\n",
              "    }\n",
              "</style>\n",
              "<table border=\"1\" class=\"dataframe\">\n",
              "  <thead>\n",
              "    <tr style=\"text-align: right;\">\n",
              "      <th></th>\n",
              "      <th>Subject</th>\n",
              "      <th>Run</th>\n",
              "      <th>ConditionName</th>\n",
              "      <th>ACC</th>\n",
              "      <th>ACC_NONTARGET</th>\n",
              "      <th>ACC_TARGET</th>\n",
              "      <th>MEDIAN_RT</th>\n",
              "      <th>MEDIAN_RT_NONTARGET</th>\n",
              "      <th>MEDIAN_RT_TARGET</th>\n",
              "    </tr>\n",
              "  </thead>\n",
              "  <tbody>\n",
              "    <tr>\n",
              "      <th>0</th>\n",
              "      <td>0</td>\n",
              "      <td>0</td>\n",
              "      <td>0BK_BODY</td>\n",
              "      <td>1.00</td>\n",
              "      <td>1.000000</td>\n",
              "      <td>1.0</td>\n",
              "      <td>705.5</td>\n",
              "      <td>740.5</td>\n",
              "      <td>696.0</td>\n",
              "    </tr>\n",
              "    <tr>\n",
              "      <th>1</th>\n",
              "      <td>0</td>\n",
              "      <td>0</td>\n",
              "      <td>0BK_FACE</td>\n",
              "      <td>1.00</td>\n",
              "      <td>1.000000</td>\n",
              "      <td>1.0</td>\n",
              "      <td>779.5</td>\n",
              "      <td>765.0</td>\n",
              "      <td>915.0</td>\n",
              "    </tr>\n",
              "    <tr>\n",
              "      <th>2</th>\n",
              "      <td>0</td>\n",
              "      <td>0</td>\n",
              "      <td>0BK_PLACE</td>\n",
              "      <td>1.00</td>\n",
              "      <td>1.000000</td>\n",
              "      <td>1.0</td>\n",
              "      <td>926.0</td>\n",
              "      <td>993.5</td>\n",
              "      <td>811.5</td>\n",
              "    </tr>\n",
              "    <tr>\n",
              "      <th>3</th>\n",
              "      <td>0</td>\n",
              "      <td>0</td>\n",
              "      <td>0BK_TOOL</td>\n",
              "      <td>1.00</td>\n",
              "      <td>1.000000</td>\n",
              "      <td>1.0</td>\n",
              "      <td>807.5</td>\n",
              "      <td>807.5</td>\n",
              "      <td>807.5</td>\n",
              "    </tr>\n",
              "    <tr>\n",
              "      <th>4</th>\n",
              "      <td>0</td>\n",
              "      <td>0</td>\n",
              "      <td>2BK_BODY</td>\n",
              "      <td>1.00</td>\n",
              "      <td>1.000000</td>\n",
              "      <td>1.0</td>\n",
              "      <td>1133.0</td>\n",
              "      <td>1205.5</td>\n",
              "      <td>732.5</td>\n",
              "    </tr>\n",
              "    <tr>\n",
              "      <th>5</th>\n",
              "      <td>0</td>\n",
              "      <td>0</td>\n",
              "      <td>2BK_FACE</td>\n",
              "      <td>1.00</td>\n",
              "      <td>1.000000</td>\n",
              "      <td>1.0</td>\n",
              "      <td>1308.5</td>\n",
              "      <td>1350.5</td>\n",
              "      <td>1064.5</td>\n",
              "    </tr>\n",
              "    <tr>\n",
              "      <th>6</th>\n",
              "      <td>0</td>\n",
              "      <td>0</td>\n",
              "      <td>2BK_PLACE</td>\n",
              "      <td>1.00</td>\n",
              "      <td>1.000000</td>\n",
              "      <td>1.0</td>\n",
              "      <td>1016.0</td>\n",
              "      <td>1016.0</td>\n",
              "      <td>1097.0</td>\n",
              "    </tr>\n",
              "    <tr>\n",
              "      <th>7</th>\n",
              "      <td>0</td>\n",
              "      <td>0</td>\n",
              "      <td>2BK_TOOL</td>\n",
              "      <td>0.75</td>\n",
              "      <td>0.666667</td>\n",
              "      <td>1.0</td>\n",
              "      <td>892.0</td>\n",
              "      <td>892.0</td>\n",
              "      <td>915.5</td>\n",
              "    </tr>\n",
              "    <tr>\n",
              "      <th>8</th>\n",
              "      <td>0</td>\n",
              "      <td>1</td>\n",
              "      <td>0BK_BODY</td>\n",
              "      <td>1.00</td>\n",
              "      <td>1.000000</td>\n",
              "      <td>1.0</td>\n",
              "      <td>1117.0</td>\n",
              "      <td>1117.0</td>\n",
              "      <td>1350.0</td>\n",
              "    </tr>\n",
              "    <tr>\n",
              "      <th>9</th>\n",
              "      <td>0</td>\n",
              "      <td>1</td>\n",
              "      <td>0BK_FACE</td>\n",
              "      <td>1.00</td>\n",
              "      <td>1.000000</td>\n",
              "      <td>1.0</td>\n",
              "      <td>806.5</td>\n",
              "      <td>806.5</td>\n",
              "      <td>755.5</td>\n",
              "    </tr>\n",
              "    <tr>\n",
              "      <th>10</th>\n",
              "      <td>0</td>\n",
              "      <td>1</td>\n",
              "      <td>0BK_PLACE</td>\n",
              "      <td>1.00</td>\n",
              "      <td>1.000000</td>\n",
              "      <td>1.0</td>\n",
              "      <td>799.0</td>\n",
              "      <td>779.0</td>\n",
              "      <td>820.0</td>\n",
              "    </tr>\n",
              "    <tr>\n",
              "      <th>11</th>\n",
              "      <td>0</td>\n",
              "      <td>1</td>\n",
              "      <td>0BK_TOOL</td>\n",
              "      <td>1.00</td>\n",
              "      <td>1.000000</td>\n",
              "      <td>1.0</td>\n",
              "      <td>877.0</td>\n",
              "      <td>926.5</td>\n",
              "      <td>649.5</td>\n",
              "    </tr>\n",
              "    <tr>\n",
              "      <th>12</th>\n",
              "      <td>0</td>\n",
              "      <td>1</td>\n",
              "      <td>2BK_BODY</td>\n",
              "      <td>0.75</td>\n",
              "      <td>0.666667</td>\n",
              "      <td>1.0</td>\n",
              "      <td>1009.5</td>\n",
              "      <td>999.0</td>\n",
              "      <td>1139.5</td>\n",
              "    </tr>\n",
              "    <tr>\n",
              "      <th>13</th>\n",
              "      <td>0</td>\n",
              "      <td>1</td>\n",
              "      <td>2BK_FACE</td>\n",
              "      <td>1.00</td>\n",
              "      <td>1.000000</td>\n",
              "      <td>1.0</td>\n",
              "      <td>1040.5</td>\n",
              "      <td>1060.0</td>\n",
              "      <td>821.5</td>\n",
              "    </tr>\n",
              "    <tr>\n",
              "      <th>14</th>\n",
              "      <td>0</td>\n",
              "      <td>1</td>\n",
              "      <td>2BK_PLACE</td>\n",
              "      <td>1.00</td>\n",
              "      <td>1.000000</td>\n",
              "      <td>1.0</td>\n",
              "      <td>1114.0</td>\n",
              "      <td>1138.0</td>\n",
              "      <td>1076.5</td>\n",
              "    </tr>\n",
              "  </tbody>\n",
              "</table>\n",
              "</div>\n",
              "    <div class=\"colab-df-buttons\">\n",
              "\n",
              "  <div class=\"colab-df-container\">\n",
              "    <button class=\"colab-df-convert\" onclick=\"convertToInteractive('df-1bce0938-711f-498b-bbf2-c90e528d08a8')\"\n",
              "            title=\"Convert this dataframe to an interactive table.\"\n",
              "            style=\"display:none;\">\n",
              "\n",
              "  <svg xmlns=\"http://www.w3.org/2000/svg\" height=\"24px\" viewBox=\"0 -960 960 960\">\n",
              "    <path d=\"M120-120v-720h720v720H120Zm60-500h600v-160H180v160Zm220 220h160v-160H400v160Zm0 220h160v-160H400v160ZM180-400h160v-160H180v160Zm440 0h160v-160H620v160ZM180-180h160v-160H180v160Zm440 0h160v-160H620v160Z\"/>\n",
              "  </svg>\n",
              "    </button>\n",
              "\n",
              "  <style>\n",
              "    .colab-df-container {\n",
              "      display:flex;\n",
              "      gap: 12px;\n",
              "    }\n",
              "\n",
              "    .colab-df-convert {\n",
              "      background-color: #E8F0FE;\n",
              "      border: none;\n",
              "      border-radius: 50%;\n",
              "      cursor: pointer;\n",
              "      display: none;\n",
              "      fill: #1967D2;\n",
              "      height: 32px;\n",
              "      padding: 0 0 0 0;\n",
              "      width: 32px;\n",
              "    }\n",
              "\n",
              "    .colab-df-convert:hover {\n",
              "      background-color: #E2EBFA;\n",
              "      box-shadow: 0px 1px 2px rgba(60, 64, 67, 0.3), 0px 1px 3px 1px rgba(60, 64, 67, 0.15);\n",
              "      fill: #174EA6;\n",
              "    }\n",
              "\n",
              "    .colab-df-buttons div {\n",
              "      margin-bottom: 4px;\n",
              "    }\n",
              "\n",
              "    [theme=dark] .colab-df-convert {\n",
              "      background-color: #3B4455;\n",
              "      fill: #D2E3FC;\n",
              "    }\n",
              "\n",
              "    [theme=dark] .colab-df-convert:hover {\n",
              "      background-color: #434B5C;\n",
              "      box-shadow: 0px 1px 3px 1px rgba(0, 0, 0, 0.15);\n",
              "      filter: drop-shadow(0px 1px 2px rgba(0, 0, 0, 0.3));\n",
              "      fill: #FFFFFF;\n",
              "    }\n",
              "  </style>\n",
              "\n",
              "    <script>\n",
              "      const buttonEl =\n",
              "        document.querySelector('#df-1bce0938-711f-498b-bbf2-c90e528d08a8 button.colab-df-convert');\n",
              "      buttonEl.style.display =\n",
              "        google.colab.kernel.accessAllowed ? 'block' : 'none';\n",
              "\n",
              "      async function convertToInteractive(key) {\n",
              "        const element = document.querySelector('#df-1bce0938-711f-498b-bbf2-c90e528d08a8');\n",
              "        const dataTable =\n",
              "          await google.colab.kernel.invokeFunction('convertToInteractive',\n",
              "                                                    [key], {});\n",
              "        if (!dataTable) return;\n",
              "\n",
              "        const docLinkHtml = 'Like what you see? Visit the ' +\n",
              "          '<a target=\"_blank\" href=https://colab.research.google.com/notebooks/data_table.ipynb>data table notebook</a>'\n",
              "          + ' to learn more about interactive tables.';\n",
              "        element.innerHTML = '';\n",
              "        dataTable['output_type'] = 'display_data';\n",
              "        await google.colab.output.renderOutput(dataTable, element);\n",
              "        const docLink = document.createElement('div');\n",
              "        docLink.innerHTML = docLinkHtml;\n",
              "        element.appendChild(docLink);\n",
              "      }\n",
              "    </script>\n",
              "  </div>\n",
              "\n",
              "\n",
              "<div id=\"df-74be9abb-928e-4473-ae82-f2305cd37667\">\n",
              "  <button class=\"colab-df-quickchart\" onclick=\"quickchart('df-74be9abb-928e-4473-ae82-f2305cd37667')\"\n",
              "            title=\"Suggest charts\"\n",
              "            style=\"display:none;\">\n",
              "\n",
              "<svg xmlns=\"http://www.w3.org/2000/svg\" height=\"24px\"viewBox=\"0 0 24 24\"\n",
              "     width=\"24px\">\n",
              "    <g>\n",
              "        <path d=\"M19 3H5c-1.1 0-2 .9-2 2v14c0 1.1.9 2 2 2h14c1.1 0 2-.9 2-2V5c0-1.1-.9-2-2-2zM9 17H7v-7h2v7zm4 0h-2V7h2v10zm4 0h-2v-4h2v4z\"/>\n",
              "    </g>\n",
              "</svg>\n",
              "  </button>\n",
              "\n",
              "<style>\n",
              "  .colab-df-quickchart {\n",
              "      --bg-color: #E8F0FE;\n",
              "      --fill-color: #1967D2;\n",
              "      --hover-bg-color: #E2EBFA;\n",
              "      --hover-fill-color: #174EA6;\n",
              "      --disabled-fill-color: #AAA;\n",
              "      --disabled-bg-color: #DDD;\n",
              "  }\n",
              "\n",
              "  [theme=dark] .colab-df-quickchart {\n",
              "      --bg-color: #3B4455;\n",
              "      --fill-color: #D2E3FC;\n",
              "      --hover-bg-color: #434B5C;\n",
              "      --hover-fill-color: #FFFFFF;\n",
              "      --disabled-bg-color: #3B4455;\n",
              "      --disabled-fill-color: #666;\n",
              "  }\n",
              "\n",
              "  .colab-df-quickchart {\n",
              "    background-color: var(--bg-color);\n",
              "    border: none;\n",
              "    border-radius: 50%;\n",
              "    cursor: pointer;\n",
              "    display: none;\n",
              "    fill: var(--fill-color);\n",
              "    height: 32px;\n",
              "    padding: 0;\n",
              "    width: 32px;\n",
              "  }\n",
              "\n",
              "  .colab-df-quickchart:hover {\n",
              "    background-color: var(--hover-bg-color);\n",
              "    box-shadow: 0 1px 2px rgba(60, 64, 67, 0.3), 0 1px 3px 1px rgba(60, 64, 67, 0.15);\n",
              "    fill: var(--button-hover-fill-color);\n",
              "  }\n",
              "\n",
              "  .colab-df-quickchart-complete:disabled,\n",
              "  .colab-df-quickchart-complete:disabled:hover {\n",
              "    background-color: var(--disabled-bg-color);\n",
              "    fill: var(--disabled-fill-color);\n",
              "    box-shadow: none;\n",
              "  }\n",
              "\n",
              "  .colab-df-spinner {\n",
              "    border: 2px solid var(--fill-color);\n",
              "    border-color: transparent;\n",
              "    border-bottom-color: var(--fill-color);\n",
              "    animation:\n",
              "      spin 1s steps(1) infinite;\n",
              "  }\n",
              "\n",
              "  @keyframes spin {\n",
              "    0% {\n",
              "      border-color: transparent;\n",
              "      border-bottom-color: var(--fill-color);\n",
              "      border-left-color: var(--fill-color);\n",
              "    }\n",
              "    20% {\n",
              "      border-color: transparent;\n",
              "      border-left-color: var(--fill-color);\n",
              "      border-top-color: var(--fill-color);\n",
              "    }\n",
              "    30% {\n",
              "      border-color: transparent;\n",
              "      border-left-color: var(--fill-color);\n",
              "      border-top-color: var(--fill-color);\n",
              "      border-right-color: var(--fill-color);\n",
              "    }\n",
              "    40% {\n",
              "      border-color: transparent;\n",
              "      border-right-color: var(--fill-color);\n",
              "      border-top-color: var(--fill-color);\n",
              "    }\n",
              "    60% {\n",
              "      border-color: transparent;\n",
              "      border-right-color: var(--fill-color);\n",
              "    }\n",
              "    80% {\n",
              "      border-color: transparent;\n",
              "      border-right-color: var(--fill-color);\n",
              "      border-bottom-color: var(--fill-color);\n",
              "    }\n",
              "    90% {\n",
              "      border-color: transparent;\n",
              "      border-bottom-color: var(--fill-color);\n",
              "    }\n",
              "  }\n",
              "</style>\n",
              "\n",
              "  <script>\n",
              "    async function quickchart(key) {\n",
              "      const quickchartButtonEl =\n",
              "        document.querySelector('#' + key + ' button');\n",
              "      quickchartButtonEl.disabled = true;  // To prevent multiple clicks.\n",
              "      quickchartButtonEl.classList.add('colab-df-spinner');\n",
              "      try {\n",
              "        const charts = await google.colab.kernel.invokeFunction(\n",
              "            'suggestCharts', [key], {});\n",
              "      } catch (error) {\n",
              "        console.error('Error during call to suggestCharts:', error);\n",
              "      }\n",
              "      quickchartButtonEl.classList.remove('colab-df-spinner');\n",
              "      quickchartButtonEl.classList.add('colab-df-quickchart-complete');\n",
              "    }\n",
              "    (() => {\n",
              "      let quickchartButtonEl =\n",
              "        document.querySelector('#df-74be9abb-928e-4473-ae82-f2305cd37667 button');\n",
              "      quickchartButtonEl.style.display =\n",
              "        google.colab.kernel.accessAllowed ? 'block' : 'none';\n",
              "    })();\n",
              "  </script>\n",
              "</div>\n",
              "    </div>\n",
              "  </div>\n"
            ],
            "application/vnd.google.colaboratory.intrinsic+json": {
              "type": "dataframe",
              "variable_name": "wm_behavior",
              "summary": "{\n  \"name\": \"wm_behavior\",\n  \"rows\": 5382,\n  \"fields\": [\n    {\n      \"column\": \"Subject\",\n      \"properties\": {\n        \"dtype\": \"number\",\n        \"std\": 97,\n        \"min\": 0,\n        \"max\": 338,\n        \"num_unique_values\": 339,\n        \"samples\": [\n          284,\n          116,\n          113\n        ],\n        \"semantic_type\": \"\",\n        \"description\": \"\"\n      }\n    },\n    {\n      \"column\": \"Run\",\n      \"properties\": {\n        \"dtype\": \"number\",\n        \"std\": 0,\n        \"min\": 0,\n        \"max\": 1,\n        \"num_unique_values\": 2,\n        \"samples\": [\n          1,\n          0\n        ],\n        \"semantic_type\": \"\",\n        \"description\": \"\"\n      }\n    },\n    {\n      \"column\": \"ConditionName\",\n      \"properties\": {\n        \"dtype\": \"category\",\n        \"num_unique_values\": 8,\n        \"samples\": [\n          \"0BK_FACE\",\n          \"2BK_FACE\"\n        ],\n        \"semantic_type\": \"\",\n        \"description\": \"\"\n      }\n    },\n    {\n      \"column\": \"ACC\",\n      \"properties\": {\n        \"dtype\": \"number\",\n        \"std\": 0.15276628850848809,\n        \"min\": 0.1,\n        \"max\": 1.0,\n        \"num_unique_values\": 16,\n        \"samples\": [\n          1.0,\n          0.75\n        ],\n        \"semantic_type\": \"\",\n        \"description\": \"\"\n      }\n    },\n    {\n      \"column\": \"ACC_NONTARGET\",\n      \"properties\": {\n        \"dtype\": \"number\",\n        \"std\": 0.14394957484204174,\n        \"min\": 0.0,\n        \"max\": 1.0,\n        \"num_unique_values\": 13,\n        \"samples\": [\n          0.0,\n          0.3333333333329999\n        ],\n        \"semantic_type\": \"\",\n        \"description\": \"\"\n      }\n    },\n    {\n      \"column\": \"ACC_TARGET\",\n      \"properties\": {\n        \"dtype\": \"number\",\n        \"std\": 0.3222839496514043,\n        \"min\": 0.0,\n        \"max\": 1.0,\n        \"num_unique_values\": 3,\n        \"samples\": [\n          1.0,\n          0.5\n        ],\n        \"semantic_type\": \"\",\n        \"description\": \"\"\n      }\n    },\n    {\n      \"column\": \"MEDIAN_RT\",\n      \"properties\": {\n        \"dtype\": \"number\",\n        \"std\": 241.63897421082956,\n        \"min\": 291.0,\n        \"max\": 1839.0,\n        \"num_unique_values\": 1704,\n        \"samples\": [\n          834.5,\n          649.0\n        ],\n        \"semantic_type\": \"\",\n        \"description\": \"\"\n      }\n    },\n    {\n      \"column\": \"MEDIAN_RT_NONTARGET\",\n      \"properties\": {\n        \"dtype\": \"number\",\n        \"std\": 254.81493871844938,\n        \"min\": 291.0,\n        \"max\": 1839.0,\n        \"num_unique_values\": 1787,\n        \"samples\": [\n          871.0,\n          1097.0\n        ],\n        \"semantic_type\": \"\",\n        \"description\": \"\"\n      }\n    },\n    {\n      \"column\": \"MEDIAN_RT_TARGET\",\n      \"properties\": {\n        \"dtype\": \"number\",\n        \"std\": 276.05496281111226,\n        \"min\": 75.0,\n        \"max\": 1978.0,\n        \"num_unique_values\": 1806,\n        \"samples\": [\n          710.0,\n          1797.0\n        ],\n        \"semantic_type\": \"\",\n        \"description\": \"\"\n      }\n    }\n  ]\n}"
            }
          },
          "metadata": {},
          "execution_count": 16
        }
      ],
      "source": [
        "wm_behavior.head(15)"
      ]
    },
    {
      "cell_type": "markdown",
      "metadata": {
        "id": "j2KAQ-i4elQ_"
      },
      "source": [
        "## Times series exploratory Work"
      ]
    },
    {
      "cell_type": "code",
      "execution_count": null,
      "metadata": {
        "colab": {
          "base_uri": "https://localhost:8080/"
        },
        "id": "b6MUPAWJhK_y",
        "outputId": "b8210191-1eef-4ef1-9e07-4c7b30c50855"
      },
      "outputs": [
        {
          "output_type": "stream",
          "name": "stdout",
          "text": [
            "['vol_to_surf', 'download_data', 'load_regions_and_atlas', 'read_behavior_data', 'get_image_ids', 'load_timeseries', 'load_single_timeseries', 'load_evs', 'condition_frames', 'selective_average', 'seconds_to_samples', 'get_conds', 'extract_network_parcels', 'get_cond_onsets', 'get_cond_timeseries']\n"
          ]
        }
      ],
      "source": [
        "print(function_list)"
      ]
    },
    {
      "cell_type": "code",
      "execution_count": null,
      "metadata": {
        "colab": {
          "base_uri": "https://localhost:8080/"
        },
        "id": "ynRTEmhKgqiy",
        "outputId": "60215fed-8cc1-4e59-e8c4-f48321dffc08"
      },
      "outputs": [
        {
          "output_type": "stream",
          "name": "stdout",
          "text": [
            "Help on function load_timeseries in module __main__:\n",
            "\n",
            "load_timeseries(subject, name, dir, runs=None, concat=True, remove_mean=True)\n",
            "    Load timeseries data for a single subject.\n",
            "    \n",
            "    Args:\n",
            "      subject (int): 0-based subject ID to load\n",
            "      name (str) : Name of experiment (\"rest\" or name of task) to load\n",
            "      dir (str) : data directory\n",
            "      run (None or int or list of ints): 0-based run(s) of the task to load,\n",
            "        or None to load all runs.\n",
            "      concat (bool) : If True, concatenate multiple runs in time\n",
            "      remove_mean (bool) : If True, subtract the parcel-wise mean\n",
            "    \n",
            "    Returns\n",
            "      ts (n_parcel x n_tp array): Array of BOLD data values\n",
            "\n"
          ]
        }
      ],
      "source": [
        "help(load_timeseries)"
      ]
    },
    {
      "cell_type": "code",
      "execution_count": null,
      "metadata": {
        "id": "qghunrmYCZMp"
      },
      "outputs": [],
      "source": [
        "ts = load_timeseries(0, \"wm\", fpath_task,1)"
      ]
    },
    {
      "cell_type": "code",
      "execution_count": null,
      "metadata": {
        "colab": {
          "base_uri": "https://localhost:8080/"
        },
        "id": "sqo87YJHCvzW",
        "outputId": "919ffd2e-4a44-4321-fb62-c56ae6cae615"
      },
      "outputs": [
        {
          "output_type": "execute_result",
          "data": {
            "text/plain": [
              "(360, 405)"
            ]
          },
          "metadata": {},
          "execution_count": 20
        }
      ],
      "source": [
        "ts.shape"
      ]
    },
    {
      "cell_type": "code",
      "execution_count": null,
      "metadata": {
        "colab": {
          "base_uri": "https://localhost:8080/"
        },
        "id": "2W4l6XMZhXGo",
        "outputId": "3f2e3ea9-4351-411b-aaef-47a46f8d138c"
      },
      "outputs": [
        {
          "output_type": "stream",
          "name": "stdout",
          "text": [
            "Help on function load_single_timeseries in module __main__:\n",
            "\n",
            "load_single_timeseries(subject, bold_run, dir, remove_mean=True)\n",
            "    Load timeseries data for a single subject and single run.\n",
            "    \n",
            "    Args:\n",
            "      subject (int): 0-based subject ID to load\n",
            "      bold_run (int): 1-based run index, across all tasks\n",
            "      dir (str) : data directory\n",
            "      remove_mean (bool): If True, subtract the parcel-wise mean\n",
            "    \n",
            "    Returns\n",
            "      ts (n_parcel x n_timepoint array): Array of BOLD data values\n",
            "\n"
          ]
        }
      ],
      "source": [
        "help(load_single_timeseries)"
      ]
    },
    {
      "cell_type": "code",
      "execution_count": null,
      "metadata": {
        "colab": {
          "base_uri": "https://localhost:8080/"
        },
        "id": "ZqrAnfCrKOu2",
        "outputId": "cca34fee-fbd7-4067-e9e1-4fc31ddaf134"
      },
      "outputs": [
        {
          "output_type": "stream",
          "name": "stdout",
          "text": [
            "type(ts0): <class 'numpy.ndarray'>\n",
            "ts0.shape: (360, 405)\n",
            "Number of elements in ts0: 145800\n",
            "ts0.dtype: float64\n",
            "[[ -46.07975309  -97.77975309  -66.27975309 ...  -82.17975309\n",
            "   -77.37975309  -89.27975309]\n",
            " [ -22.71111111  -94.51111111  -77.31111111 ...  -46.91111111\n",
            "     6.98888889  -20.51111111]\n",
            " [  67.81333333  -25.18666667  -26.88666667 ...  -43.18666667\n",
            "   -57.88666667  -90.68666667]\n",
            " ...\n",
            " [ -42.53481481  -78.83481481   12.56518519 ...   18.26518519\n",
            "    13.36518519  -37.43481481]\n",
            " [-100.21259259 -223.41259259  -78.21259259 ... -105.61259259\n",
            "   -96.41259259  -99.71259259]\n",
            " [  46.28666667 -111.11333333 -151.31333333 ...    5.38666667\n",
            "    23.58666667  -23.41333333]]\n"
          ]
        }
      ],
      "source": [
        "ts0 = load_timeseries(0, \"wm\", fpath_task,1)\n",
        "\n",
        "print('type(ts0):', type(ts0))\n",
        "print('ts0.shape:', ts0.shape)\n",
        "print('Number of elements in ts0:', ts0.size)\n",
        "print('ts0.dtype:', ts0.dtype)\n",
        "print(ts0)"
      ]
    },
    {
      "cell_type": "code",
      "execution_count": null,
      "metadata": {
        "id": "oGEDcJbciaRc"
      },
      "outputs": [],
      "source": [
        "#ts0 = load_single_timeseries(0, 1, fpath_task)\n",
        "\n",
        "# have a problem with the directory."
      ]
    },
    {
      "cell_type": "code",
      "execution_count": null,
      "metadata": {
        "colab": {
          "base_uri": "https://localhost:8080/"
        },
        "id": "J3B6-JTw_oBD",
        "outputId": "85d7edcb-e1dc-493c-c98a-dcd64d24561e"
      },
      "outputs": [
        {
          "output_type": "execute_result",
          "data": {
            "text/plain": [
              "(360, 405)"
            ]
          },
          "metadata": {},
          "execution_count": 24
        }
      ],
      "source": [
        "ts0.shape"
      ]
    },
    {
      "cell_type": "code",
      "execution_count": null,
      "metadata": {
        "colab": {
          "base_uri": "https://localhost:8080/",
          "height": 609
        },
        "id": "yOk08efOOnLa",
        "outputId": "69662f49-9bcb-4de7-acaa-5537ca96e750"
      },
      "outputs": [
        {
          "output_type": "execute_result",
          "data": {
            "text/plain": [
              "[<matplotlib.lines.Line2D at 0x7c5e22bc4250>]"
            ]
          },
          "metadata": {},
          "execution_count": 25
        },
        {
          "output_type": "display_data",
          "data": {
            "text/plain": [
              "<Figure size 800x600 with 1 Axes>"
            ],
            "image/png": "[encoded data removed]"
          },
          "metadata": {
            "image/png": {
              "width": 775,
              "height": 575
            }
          }
        }
      ],
      "source": [
        "plt.plot(ts0[0, :])"
      ]
    },
    {
      "cell_type": "code",
      "execution_count": null,
      "metadata": {
        "colab": {
          "base_uri": "https://localhost:8080/"
        },
        "id": "05HUJfWyGWCg",
        "outputId": "200468c9-4aff-46d4-b257-b58bd908ca6f"
      },
      "outputs": [
        {
          "output_type": "stream",
          "name": "stdout",
          "text": [
            "Help on function load_timeseries in module __main__:\n",
            "\n",
            "load_timeseries(subject, name, dir, runs=None, concat=True, remove_mean=True)\n",
            "    Load timeseries data for a single subject.\n",
            "    \n",
            "    Args:\n",
            "      subject (int): 0-based subject ID to load\n",
            "      name (str) : Name of experiment (\"rest\" or name of task) to load\n",
            "      dir (str) : data directory\n",
            "      run (None or int or list of ints): 0-based run(s) of the task to load,\n",
            "        or None to load all runs.\n",
            "      concat (bool) : If True, concatenate multiple runs in time\n",
            "      remove_mean (bool) : If True, subtract the parcel-wise mean\n",
            "    \n",
            "    Returns\n",
            "      ts (n_parcel x n_tp array): Array of BOLD data values\n",
            "\n"
          ]
        }
      ],
      "source": [
        "# curious about a fun? use help()\n",
        "help(load_timeseries)\n"
      ]
    },
    {
      "cell_type": "markdown",
      "metadata": {
        "id": "-ysUANiIOtjR"
      },
      "source": [
        "## Concatenate conditions\n",
        "\n",
        "This can be used to concatenate any number of conditions within any task. Just provide a list of all conditions you wanna concat and task id."
      ]
    },
    {
      "cell_type": "code",
      "execution_count": null,
      "metadata": {
        "colab": {
          "base_uri": "https://localhost:8080/"
        },
        "id": "_0iJf-Pq-lm1",
        "outputId": "cb8f4a01-c1cc-4efb-ca8f-e2cbb2f97295"
      },
      "outputs": [
        {
          "output_type": "stream",
          "name": "stdout",
          "text": [
            "Help on function get_conds in module __main__:\n",
            "\n",
            "get_conds(subject, task, conds, concat=False, skip=0)\n",
            "    Get timeseries for conditions of interest.\n",
            "    Args:\n",
            "    subject (int): subject id,\n",
            "    task (string): task id (\"wm\", \"gambling\" etc.)\n",
            "    conds (list): list of conditions to concatenate.\n",
            "    concat (bool): If true, concatenate conditions instead of making a list.\n",
            "    skip (int):  Ignore this many frames at the start of each trial, to account\n",
            "        for hemodynamic lag\n",
            "    Returns:\n",
            "    ndarray (n_parcel x n_tp array) or list of ndarrays: Array of concatenated BOLD data values or a list of (not concatenated) data values.\n",
            "\n"
          ]
        }
      ],
      "source": [
        "help(get_conds)"
      ]
    },
    {
      "cell_type": "code",
      "execution_count": null,
      "metadata": {
        "id": "24FZ1gS0OvQ-"
      },
      "outputs": [],
      "source": [
        "# list all 2-back conditions\n",
        "two_back_conds = ['2bk_body', '2bk_faces', '2bk_places', '2bk_tools']\n",
        "\n",
        "# list all 0-back conditions\n",
        "no_back_conds = ['0bk_body', '0bk_faces', '0bk_places', '0bk_tools']\n",
        "\n",
        "two_back, no_back = [], []\n",
        "for s in subjects:\n",
        "  two_back.append(get_conds(s, \"wm\", two_back_conds, concat=True))\n",
        "  no_back.append(get_conds(s, \"wm\", no_back_conds, concat=True))\n",
        "\n"
      ]
    },
    {
      "cell_type": "code",
      "source": [
        "two_back = np.array(two_back)\n",
        "no_back = np.array(no_back)\n",
        "two_back.shape"
      ],
      "metadata": {
        "colab": {
          "base_uri": "https://localhost:8080/"
        },
        "id": "pzKrqYRP_ItQ",
        "outputId": "b4e93179-3a27-404d-9a73-e02a37cfc648"
      },
      "execution_count": null,
      "outputs": [
        {
          "output_type": "execute_result",
          "data": {
            "text/plain": [
              "(339, 360, 312)"
            ]
          },
          "metadata": {},
          "execution_count": 29
        }
      ]
    },
    {
      "cell_type": "code",
      "source": [
        "two_back_fpn, no_back_fpn = extract_network_parcels(two_back, no_back, region_info, 'Frontopariet')"
      ],
      "metadata": {
        "id": "rlCAlGh7z0-h"
      },
      "execution_count": null,
      "outputs": []
    },
    {
      "cell_type": "code",
      "source": [
        "two_back_fpn = np.array(two_back_fpn)\n",
        "no_back_fpn = np.array(no_back_fpn)\n",
        "two_back_fpn.shape"
      ],
      "metadata": {
        "colab": {
          "base_uri": "https://localhost:8080/"
        },
        "id": "z3BlaucUqbur",
        "outputId": "b9e0ac1a-7923-4285-f6cf-9571439a8bd4"
      },
      "execution_count": null,
      "outputs": [
        {
          "output_type": "execute_result",
          "data": {
            "text/plain": [
              "(339, 50, 312)"
            ]
          },
          "metadata": {},
          "execution_count": 81
        }
      ]
    },
    {
      "cell_type": "code",
      "source": [
        "# help(extract_network_parcels)"
      ],
      "metadata": {
        "id": "Q2L_TR1apuF2",
        "collapsed": true
      },
      "execution_count": null,
      "outputs": []
    },
    {
      "cell_type": "code",
      "source": [
        "def split_train_test(_two_back, _no_back, split_Percentage = 70):\n",
        "  split_Percentage = split_Percentage / 100\n",
        "  n_train = int(split_Percentage * len(_two_back))\n",
        "  print(n_train)\n",
        "  _two_back_train = _two_back[0:n_train,:,:]\n",
        "  _no_back_train = _no_back[0:n_train,:,:]\n",
        "  _two_back_test = _two_back[n_train:,:,:]\n",
        "  _no_back_test = _no_back[n_train:,:,:]\n",
        "  return _no_back_train, _two_back_train, _no_back_test, _two_back_test"
      ],
      "metadata": {
        "id": "kmlBK_DAzyoc"
      },
      "execution_count": null,
      "outputs": []
    },
    {
      "cell_type": "code",
      "source": [
        "no_back_train, two_back_train, no_back_test, two_back_test =  split_train_test(two_back_fpn, no_back_fpn,split_Percentage = 90)"
      ],
      "metadata": {
        "id": "lz5VY3fbmNwf",
        "colab": {
          "base_uri": "https://localhost:8080/"
        },
        "outputId": "e48bd2f9-c4aa-4778-d931-eedc8d4daed2"
      },
      "execution_count": null,
      "outputs": [
        {
          "output_type": "stream",
          "name": "stdout",
          "text": [
            "305\n"
          ]
        }
      ]
    },
    {
      "cell_type": "code",
      "source": [
        "from sklearn.utils import shuffle\n",
        "n_train = len(no_back_train)\n",
        "X_train = np.concatenate((no_back_train, two_back_train), axis = 0)\n",
        "print(X_train.shape)\n",
        "X_train = np.transpose(X_train, (0,2,1))\n",
        "print(X_train.shape)\n",
        "# Make label array\n",
        "y_train = np.zeros(X_train.shape[0])\n",
        "y_train[0:n_train] = 0\n",
        "y_train[n_train:] = 1\n",
        "X_train, y_train = shuffle(X_train, y_train, random_state=42)\n",
        "print(y_train)"
      ],
      "metadata": {
        "id": "exa5oJ_WmCdw",
        "colab": {
          "base_uri": "https://localhost:8080/"
        },
        "outputId": "cabbc1d3-e399-41be-974b-fc3e9b41a0f4"
      },
      "execution_count": null,
      "outputs": [
        {
          "output_type": "stream",
          "name": "stdout",
          "text": [
            "(610, 50, 312)\n",
            "(610, 312, 50)\n",
            "[0. 0. 0. 1. 0. 0. 1. 1. 1. 0. 0. 0. 0. 1. 0. 1. 1. 1. 0. 0. 0. 0. 1. 0.\n",
            " 0. 1. 1. 0. 0. 0. 0. 0. 0. 1. 1. 1. 1. 0. 1. 0. 1. 1. 1. 1. 0. 1. 0. 0.\n",
            " 0. 0. 1. 0. 0. 0. 1. 0. 1. 0. 0. 1. 0. 0. 0. 1. 1. 0. 0. 0. 0. 1. 0. 1.\n",
            " 0. 0. 0. 1. 0. 1. 1. 1. 1. 1. 1. 0. 1. 1. 1. 1. 1. 0. 0. 0. 1. 1. 0. 0.\n",
            " 1. 1. 0. 0. 1. 1. 0. 1. 0. 0. 1. 0. 0. 1. 0. 1. 0. 1. 0. 0. 0. 1. 1. 1.\n",
            " 0. 0. 0. 1. 0. 1. 0. 0. 1. 0. 0. 0. 1. 0. 1. 1. 0. 1. 0. 0. 0. 0. 0. 1.\n",
            " 1. 0. 0. 0. 0. 0. 0. 1. 1. 0. 1. 0. 1. 1. 0. 0. 1. 1. 1. 1. 0. 0. 0. 1.\n",
            " 0. 0. 1. 0. 0. 0. 1. 0. 1. 0. 1. 1. 0. 0. 0. 1. 0. 0. 1. 0. 0. 1. 0. 0.\n",
            " 1. 1. 1. 1. 1. 0. 1. 0. 1. 1. 0. 1. 1. 0. 1. 0. 0. 0. 0. 1. 1. 0. 1. 1.\n",
            " 1. 1. 1. 0. 1. 1. 1. 1. 1. 0. 0. 0. 1. 0. 1. 0. 0. 1. 0. 1. 1. 1. 1. 1.\n",
            " 0. 0. 0. 1. 0. 1. 1. 0. 0. 1. 1. 1. 0. 1. 1. 1. 0. 0. 1. 0. 0. 0. 1. 0.\n",
            " 0. 1. 0. 1. 1. 0. 1. 1. 0. 0. 0. 1. 1. 1. 0. 0. 0. 1. 1. 0. 0. 1. 1. 0.\n",
            " 1. 1. 1. 1. 1. 0. 0. 1. 0. 0. 0. 0. 0. 0. 1. 0. 1. 1. 0. 1. 1. 1. 1. 0.\n",
            " 1. 0. 1. 0. 1. 0. 0. 1. 1. 1. 1. 0. 1. 0. 1. 1. 0. 1. 1. 1. 0. 1. 1. 1.\n",
            " 1. 0. 1. 0. 0. 0. 0. 1. 0. 0. 1. 1. 1. 0. 1. 0. 0. 0. 1. 1. 0. 1. 1. 0.\n",
            " 1. 1. 0. 1. 1. 0. 1. 1. 1. 1. 0. 1. 0. 0. 0. 1. 0. 1. 1. 0. 0. 1. 0. 0.\n",
            " 0. 1. 0. 1. 1. 1. 1. 1. 1. 0. 1. 1. 0. 1. 0. 0. 0. 1. 1. 1. 1. 1. 1. 1.\n",
            " 1. 1. 0. 0. 1. 1. 0. 0. 1. 1. 1. 1. 1. 0. 1. 0. 1. 1. 0. 1. 0. 1. 0. 1.\n",
            " 0. 0. 0. 0. 1. 1. 1. 0. 1. 1. 1. 0. 1. 0. 1. 0. 0. 1. 1. 0. 1. 1. 0. 0.\n",
            " 0. 0. 0. 0. 0. 1. 0. 0. 0. 0. 0. 0. 0. 1. 1. 0. 1. 0. 0. 0. 1. 1. 1. 0.\n",
            " 1. 1. 0. 1. 1. 0. 1. 0. 1. 1. 0. 0. 0. 0. 1. 1. 1. 0. 0. 1. 1. 1. 0. 1.\n",
            " 0. 0. 0. 0. 0. 1. 1. 0. 0. 0. 0. 0. 1. 0. 1. 1. 0. 1. 1. 1. 0. 0. 1. 0.\n",
            " 1. 1. 0. 0. 0. 0. 1. 1. 0. 0. 0. 1. 0. 0. 1. 1. 1. 0. 0. 0. 1. 1. 0. 1.\n",
            " 0. 1. 0. 0. 0. 1. 1. 1. 1. 0. 1. 1. 0. 0. 1. 1. 0. 0. 1. 1. 1. 1. 0. 1.\n",
            " 1. 0. 1. 1. 0. 1. 1. 0. 0. 1. 1. 0. 0. 0. 1. 1. 1. 1. 1. 0. 0. 1. 0. 1.\n",
            " 1. 0. 1. 0. 0. 0. 0. 0. 1. 0.]\n"
          ]
        }
      ]
    },
    {
      "cell_type": "code",
      "source": [
        "from sklearn.utils import shuffle\n",
        "n_test = len(no_back_test)\n",
        "print(n_test)\n",
        "X_test = np.concatenate((no_back_test, two_back_test), axis = 0)\n",
        "print(X_test.shape)\n",
        "X_test = np.transpose(X_test, (0,2,1))\n",
        "print(X_test.shape)\n",
        "# Make label array\n",
        "y_test = np.zeros(X_test.shape[0])\n",
        "y_test[0:n_test] = 0\n",
        "y_test[n_test:] = 1\n",
        "X_test, y_test = shuffle(X_test, y_test, random_state=42)\n",
        "# print(y_test[:200])"
      ],
      "metadata": {
        "colab": {
          "base_uri": "https://localhost:8080/"
        },
        "id": "TorDR7PNtnzx",
        "outputId": "2267e8e2-f36f-40e0-b804-09b5575b8a69"
      },
      "execution_count": null,
      "outputs": [
        {
          "output_type": "stream",
          "name": "stdout",
          "text": [
            "34\n",
            "(68, 50, 312)\n",
            "(68, 312, 50)\n"
          ]
        }
      ]
    },
    {
      "cell_type": "code",
      "source": [
        "from sklearn.preprocessing import StandardScaler\n",
        "scalers={}\n",
        "for i in range(X_train.shape[2]):\n",
        "  scalers[i] = StandardScaler()\n",
        "  X_train[:,:,i] = scalers[i].fit_transform(X_train[:,:,i])\n",
        "  X_test[:,:,i] = scalers[i].fit_transform(X_test[:,:,i])"
      ],
      "metadata": {
        "id": "WtehQaASr_1x"
      },
      "execution_count": null,
      "outputs": []
    },
    {
      "cell_type": "code",
      "source": [
        "# from sklearn.metrics import classification_report\n",
        "# from tensorflow import keras\n",
        "# import numpy as np\n",
        "\n",
        "# class CustomCallback(keras.callbacks.Callback):\n",
        "#     # def on_epoch_begin(self, epoch, logs=None):\n",
        "#     #     keys = list(logs.keys())\n",
        "#     #     print(\"Start epoch {} of training; got log keys: {}\".format(epoch, keys))\n",
        "\n",
        "#     def on_epoch_end(self, epoch, logs=None):\n",
        "#         keys = list(logs.keys())\n",
        "#         y_hat = model_GRU.predict(X_test)\n",
        "#         y_hat = np.where(y_hat>0.5,1,0)\n",
        "#         y_true = np.where(y_test>0.5,1,0)\n",
        "#         report = classification_report(y_true, y_hat)\n",
        "#         #print(\"End epoch {} of training; got log keys: {}\".format(epoch, keys))\n",
        "#         print('\\n', report)"
      ],
      "metadata": {
        "id": "Gb--aFTWrZvz"
      },
      "execution_count": null,
      "outputs": []
    },
    {
      "cell_type": "code",
      "source": [
        "sequence_length = 312\n",
        "n_signal = 50"
      ],
      "metadata": {
        "id": "0lrCdquQri87"
      },
      "execution_count": null,
      "outputs": []
    },
    {
      "cell_type": "code",
      "source": [
        "from tensorflow.keras import Model\n",
        "from tensorflow.keras.layers import GRU, Dense, Input\n",
        "import tensorflow as tf\n",
        "from tensorflow.keras.optimizers import Adam,SGD\n",
        "from tensorflow.keras.losses import binary_crossentropy"
      ],
      "metadata": {
        "id": "1Dz8dQzSFnvS"
      },
      "execution_count": null,
      "outputs": []
    },
    {
      "cell_type": "code",
      "source": [
        "inp = Input(shape = (sequence_length, n_signal))\n",
        "first_layer = GRU(50, activation='relu', return_sequences=True)(inp)\n",
        "second_layer = GRU(20, activation='relu', return_sequences=True)(first_layer)\n",
        "third_layer = GRU(5, activation='relu', return_sequences=False)(second_layer)\n",
        "output = Dense(1, activation = 'sigmoid')(third_layer)\n",
        "\n",
        "model_GRU = Model(inputs = inp, outputs = output)\n",
        "\n",
        "model_GRU.summary()"
      ],
      "metadata": {
        "colab": {
          "base_uri": "https://localhost:8080/"
        },
        "id": "llq5T63wG6_C",
        "outputId": "a2b27e76-0c29-4c57-df69-d58db8a55dc5"
      },
      "execution_count": null,
      "outputs": [
        {
          "output_type": "stream",
          "name": "stdout",
          "text": [
            "Model: \"model_10\"\n",
            "_________________________________________________________________\n",
            " Layer (type)                Output Shape              Param #   \n",
            "=================================================================\n",
            " input_11 (InputLayer)       [(None, 312, 50)]         0         \n",
            "                                                                 \n",
            " gru_30 (GRU)                (None, 312, 50)           15300     \n",
            "                                                                 \n",
            " gru_31 (GRU)                (None, 312, 20)           4320      \n",
            "                                                                 \n",
            " gru_32 (GRU)                (None, 5)                 405       \n",
            "                                                                 \n",
            " dense_10 (Dense)            (None, 1)                 6         \n",
            "                                                                 \n",
            "=================================================================\n",
            "Total params: 20031 (78.25 KB)\n",
            "Trainable params: 20031 (78.25 KB)\n",
            "Non-trainable params: 0 (0.00 Byte)\n",
            "_________________________________________________________________\n"
          ]
        }
      ]
    },
    {
      "cell_type": "code",
      "source": [
        "opt = Adam(lr = 0.0001)\n",
        "# opt = SGD(lr = 0.01)\n",
        "loss = binary_crossentropy\n",
        "model_GRU.compile(optimizer = opt, loss = loss, metrics = 'acc')"
      ],
      "metadata": {
        "colab": {
          "base_uri": "https://localhost:8080/"
        },
        "id": "BiYf7bPbHAHW",
        "outputId": "de19e17a-03a0-414b-dc6c-cb78d3c99470"
      },
      "execution_count": null,
      "outputs": [
        {
          "output_type": "stream",
          "name": "stderr",
          "text": [
            "WARNING:absl:`lr` is deprecated in Keras optimizer, please use `learning_rate` or use the legacy optimizer, e.g.,tf.keras.optimizers.legacy.Adam.\n"
          ]
        }
      ]
    },
    {
      "cell_type": "code",
      "source": [
        "f=[4,8,17,18,20,32,43,46,47]\n",
        "X_train1 = X_train[:,:,f]\n"
      ],
      "metadata": {
        "id": "ZXEiaW5SGM4a"
      },
      "execution_count": null,
      "outputs": []
    },
    {
      "cell_type": "code",
      "source": [
        "X_train.shape"
      ],
      "metadata": {
        "colab": {
          "base_uri": "https://localhost:8080/"
        },
        "id": "qNTCCkL6H-Nv",
        "outputId": "fe4744ef-12f8-4b49-e1a1-d2a6f76f7ace"
      },
      "execution_count": null,
      "outputs": [
        {
          "output_type": "execute_result",
          "data": {
            "text/plain": [
              "(610, 312, 50)"
            ]
          },
          "metadata": {},
          "execution_count": 62
        }
      ]
    },
    {
      "cell_type": "code",
      "source": [
        "results1 = model_GRU.fit(X_train, y_train, batch_size =128, epochs = 15, validation_split= 0.2)\n",
        "                    # ,callbacks = [CustomCallback(), tf.keras.callbacks.TensorBoard(log_dir='./logs')])"
      ],
      "metadata": {
        "colab": {
          "base_uri": "https://localhost:8080/"
        },
        "id": "pOyjbBUvHBHI",
        "outputId": "1fce569c-d6ad-43e9-cc40-e8d7c0404643"
      },
      "execution_count": null,
      "outputs": [
        {
          "output_type": "stream",
          "name": "stdout",
          "text": [
            "Epoch 1/15\n",
            "4/4 [==============================] - 7s 811ms/step - loss: 0.6884 - acc: 0.5061 - val_loss: 0.6822 - val_acc: 0.4918\n",
            "Epoch 2/15\n",
            "4/4 [==============================] - 3s 781ms/step - loss: 0.6767 - acc: 0.5082 - val_loss: 0.6701 - val_acc: 0.4918\n",
            "Epoch 3/15\n",
            "4/4 [==============================] - 2s 466ms/step - loss: 0.6617 - acc: 0.5061 - val_loss: 0.6563 - val_acc: 0.4918\n",
            "Epoch 4/15\n",
            "4/4 [==============================] - 2s 464ms/step - loss: 0.6456 - acc: 0.5205 - val_loss: 0.6420 - val_acc: 0.4918\n",
            "Epoch 5/15\n",
            "4/4 [==============================] - 2s 472ms/step - loss: 0.6262 - acc: 0.5410 - val_loss: 0.6259 - val_acc: 0.5164\n",
            "Epoch 6/15\n",
            "4/4 [==============================] - 2s 468ms/step - loss: 0.6057 - acc: 0.5779 - val_loss: 0.6089 - val_acc: 0.5902\n",
            "Epoch 7/15\n",
            "4/4 [==============================] - 2s 456ms/step - loss: 0.5778 - acc: 0.6803 - val_loss: 0.5888 - val_acc: 0.6967\n",
            "Epoch 8/15\n",
            "4/4 [==============================] - 3s 732ms/step - loss: 0.5451 - acc: 0.7787 - val_loss: 0.5671 - val_acc: 0.7869\n",
            "Epoch 9/15\n",
            "4/4 [==============================] - 3s 663ms/step - loss: 0.5066 - acc: 0.8340 - val_loss: 0.5330 - val_acc: 0.8525\n",
            "Epoch 10/15\n",
            "4/4 [==============================] - 2s 464ms/step - loss: 0.4630 - acc: 0.8607 - val_loss: 0.5015 - val_acc: 0.8525\n",
            "Epoch 11/15\n",
            "4/4 [==============================] - 2s 456ms/step - loss: 0.4178 - acc: 0.8689 - val_loss: 0.4791 - val_acc: 0.8525\n",
            "Epoch 12/15\n",
            "4/4 [==============================] - 2s 467ms/step - loss: 0.3772 - acc: 0.8770 - val_loss: 0.4750 - val_acc: 0.8279\n",
            "Epoch 13/15\n",
            "4/4 [==============================] - 2s 457ms/step - loss: 0.3346 - acc: 0.8996 - val_loss: 0.4679 - val_acc: 0.8361\n",
            "Epoch 14/15\n",
            "4/4 [==============================] - 2s 467ms/step - loss: 0.2926 - acc: 0.9160 - val_loss: 0.4423 - val_acc: 0.8443\n",
            "Epoch 15/15\n",
            "4/4 [==============================] - 3s 828ms/step - loss: 0.2605 - acc: 0.9221 - val_loss: 0.4415 - val_acc: 0.8443\n"
          ]
        }
      ]
    },
    {
      "cell_type": "code",
      "source": [
        "import matplotlib.pyplot as plt\n",
        "import matplotlib\n",
        "\n",
        "# Set the font family to serif\n",
        "matplotlib.rcParams['font.family'] = 'serif'\n",
        "\n",
        "# Set the desired fontsize\n",
        "fontsize = 14\n",
        "\n",
        "train_loss = results1.history['loss']\n",
        "val_loss = results1.history['val_loss']\n",
        "\n",
        "\n",
        "# Create a figure with two subplots\n",
        "fig, axs = plt.subplots(nrows=2, ncols=1, figsize=(10, 5))\n",
        "\n",
        "# Plot the train and validation loss in the top subplot\n",
        "axs[0].plot(train_loss, label='Train Loss', color ='b')\n",
        "axs[0].plot(val_loss, label='Validation Loss', color='r')\n",
        "\n",
        "# Set the axis labels and title for the top subplot\n",
        "axs[0].set_xlabel('Epoch', fontsize=fontsize)\n",
        "axs[0].set_ylabel('Loss: CCE', fontsize=fontsize)\n",
        "#axs[0].set_title('Training and Validation Loss', fontsize=fontsize)\n",
        "\n",
        "# Set the legend and grid for the top subplot\n",
        "axs[0].legend(fontsize=fontsize)\n",
        "axs[0].grid(True)\n",
        "\n",
        "# Set the tick labels fontsize for the top subplot\n",
        "axs[0].tick_params(axis='both', which='major', labelsize=fontsize)\n",
        "\n",
        "# Set the line colors and linewidths for the top subplot\n",
        "axs[0].lines[0].set_linewidth(2)\n",
        "axs[0].lines[1].set_linewidth(2)\n",
        "\n",
        "\n",
        "\n",
        "train_acc =results1.history['acc']\n",
        "val_acc = results1.history['val_acc']\n",
        "\n",
        "\n",
        "# Plot the train and validation accuracy in the bottom subplot\n",
        "axs[1].plot(train_acc, label='Train Accuracy', color ='b')\n",
        "axs[1].plot(val_acc, label='Validation Accuracy', color='r')\n",
        "\n",
        "# Set the axis labels and title for the bottom subplot\n",
        "axs[1].set_xlabel('Epoch', fontsize=fontsize)\n",
        "axs[1].set_ylabel('Accuracy', fontsize=fontsize)\n",
        "\n",
        "# Set the legend and grid for the bottom subplot\n",
        "axs[1].legend(fontsize=fontsize)\n",
        "axs[1].grid(True)\n",
        "\n",
        "# Set the tick labels fontsize for the bottom subplot\n",
        "axs[1].tick_params(axis='both', which='major', labelsize=fontsize)\n",
        "\n",
        "# Set the line colors and linewidths for the bottom subplot\n",
        "axs[1].lines[0].set_linewidth(2)\n",
        "axs[1].lines[1].set_linewidth(2)\n",
        "\n",
        "# Adjust the spacing between the subplots\n",
        "fig.tight_layout()\n",
        "\n",
        "# Show the plot\n",
        "plt.show()\n"
      ],
      "metadata": {
        "colab": {
          "base_uri": "https://localhost:8080/",
          "height": 492
        },
        "id": "L4JrHjv9Lho8",
        "outputId": "c11b1e32-790e-4ee0-d1f7-8d71025b0b5d"
      },
      "execution_count": null,
      "outputs": [
        {
          "output_type": "display_data",
          "data": {
            "text/plain": [
              "<Figure size 1000x500 with 2 Axes>"
            ],
            "image/png": "[encoded data removed]"
          },
          "metadata": {
            "image/png": {
              "width": 975,
              "height": 475
            }
          }
        }
      ]
    },
    {
      "cell_type": "code",
      "source": [
        "# Evaluating confusion matrix\n",
        "y_hat = model_GRU.predict(X_test)\n",
        "y_hat = np.where(y_hat>0.5,1,0)\n",
        "y_true = np.where(y_test>0.5,1,0)\n",
        "cf_matrix = tf.math.confusion_matrix(y_true,y_hat)\n",
        "\n",
        "# Printing the result\n",
        "print('Confusion_matrix: ',cf_matrix)\n",
        "import seaborn as sns\n",
        "sns.heatmap(cf_matrix, annot=True)"
      ],
      "metadata": {
        "colab": {
          "base_uri": "https://localhost:8080/",
          "height": 679
        },
        "id": "j0zS6gF7MDPR",
        "outputId": "eae83bc0-9f3d-49ba-96f4-0fdbd9efbc16"
      },
      "execution_count": null,
      "outputs": [
        {
          "output_type": "stream",
          "name": "stdout",
          "text": [
            "3/3 [==============================] - 0s 53ms/step\n",
            "Confusion_matrix:  tf.Tensor(\n",
            "[[28  6]\n",
            " [ 8 26]], shape=(2, 2), dtype=int32)\n"
          ]
        },
        {
          "output_type": "execute_result",
          "data": {
            "text/plain": [
              "<Axes: >"
            ]
          },
          "metadata": {},
          "execution_count": 107
        },
        {
          "output_type": "display_data",
          "data": {
            "text/plain": [
              "<Figure size 800x600 with 2 Axes>"
            ],
            "image/png": "[encoded data removed]"
          },
          "metadata": {
            "image/png": {
              "width": 742,
              "height": 575
            }
          }
        }
      ]
    },
    {
      "cell_type": "code",
      "source": [
        "for feature in range(50):\n",
        "    X_feature = X_test.copy()\n",
        "    X_feature[:, :, feature] = 0  # حذف ویژگی\n",
        "    loss, accuracy = model_GRU.evaluate(X_feature, y_test, verbose=0)\n",
        "    print(f'Feature {feature + 1}: Accuracy = {accuracy:.4f}')"
      ],
      "metadata": {
        "id": "fUDY69DTUHgX",
        "colab": {
          "base_uri": "https://localhost:8080/"
        },
        "outputId": "c1c67849-7503-46f8-84f0-06f18e6b11e2"
      },
      "execution_count": null,
      "outputs": [
        {
          "output_type": "stream",
          "name": "stdout",
          "text": [
            "Feature 1: Accuracy = 0.7941\n",
            "Feature 2: Accuracy = 0.8088\n",
            "Feature 3: Accuracy = 0.7941\n",
            "Feature 4: Accuracy = 0.7941\n",
            "Feature 5: Accuracy = 0.7941\n",
            "Feature 6: Accuracy = 0.7941\n",
            "Feature 7: Accuracy = 0.7941\n",
            "Feature 8: Accuracy = 0.8235\n",
            "Feature 9: Accuracy = 0.8088\n",
            "Feature 10: Accuracy = 0.7794\n",
            "Feature 11: Accuracy = 0.7941\n",
            "Feature 12: Accuracy = 0.7941\n",
            "Feature 13: Accuracy = 0.8088\n",
            "Feature 14: Accuracy = 0.7941\n",
            "Feature 15: Accuracy = 0.7941\n",
            "Feature 16: Accuracy = 0.7941\n",
            "Feature 17: Accuracy = 0.7941\n",
            "Feature 18: Accuracy = 0.7941\n",
            "Feature 19: Accuracy = 0.7941\n",
            "Feature 20: Accuracy = 0.8235\n",
            "Feature 21: Accuracy = 0.7941\n",
            "Feature 22: Accuracy = 0.7941\n",
            "Feature 23: Accuracy = 0.7794\n",
            "Feature 24: Accuracy = 0.7941\n",
            "Feature 25: Accuracy = 0.7941\n",
            "Feature 26: Accuracy = 0.8088\n",
            "Feature 27: Accuracy = 0.7941\n",
            "Feature 28: Accuracy = 0.7941\n",
            "Feature 29: Accuracy = 0.7941\n",
            "Feature 30: Accuracy = 0.7941\n",
            "Feature 31: Accuracy = 0.7941\n",
            "Feature 32: Accuracy = 0.7941\n",
            "Feature 33: Accuracy = 0.7794\n",
            "Feature 34: Accuracy = 0.7941\n",
            "Feature 35: Accuracy = 0.8382\n",
            "Feature 36: Accuracy = 0.8088\n",
            "Feature 37: Accuracy = 0.8088\n",
            "Feature 38: Accuracy = 0.7794\n",
            "Feature 39: Accuracy = 0.8088\n",
            "Feature 40: Accuracy = 0.7941\n",
            "Feature 41: Accuracy = 0.8088\n",
            "Feature 42: Accuracy = 0.7941\n",
            "Feature 43: Accuracy = 0.8088\n",
            "Feature 44: Accuracy = 0.7941\n",
            "Feature 45: Accuracy = 0.7794\n",
            "Feature 46: Accuracy = 0.8235\n",
            "Feature 47: Accuracy = 0.8088\n",
            "Feature 48: Accuracy = 0.7941\n",
            "Feature 49: Accuracy = 0.8088\n",
            "Feature 50: Accuracy = 0.7941\n"
          ]
        }
      ]
    }
  ],
  "metadata": {
    "colab": {
      "provenance": [],
      "include_colab_link": true
    },
    "kernelspec": {
      "display_name": "Python 3",
      "name": "python3"
    },
    "language_info": {
      "name": "python"
    }
  },
  "nbformat": 4,
  "nbformat_minor": 0
}